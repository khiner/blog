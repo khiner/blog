{
 "cells": [
  {
   "cell_type": "markdown",
   "metadata": {},
   "source": [
    "# Chapter 9\n",
    "## Classes"
   ]
  },
  {
   "cell_type": "markdown",
   "metadata": {},
   "source": [
    "### Creating and using a class"
   ]
  },
  {
   "cell_type": "markdown",
   "metadata": {},
   "source": [
    "#### Creating the `Dog` class"
   ]
  },
  {
   "cell_type": "code",
   "execution_count": 1,
   "metadata": {},
   "outputs": [],
   "source": [
    "class Dog():\n",
    "    \"\"\"A simple attempt to model a dog.\"\"\"\n",
    "    \n",
    "    def __init__(self, name, age):\n",
    "        \"\"\"Initialize name and age attributes.\"\"\"\n",
    "        self.name = name\n",
    "        self.age = age\n",
    "    \n",
    "    def sit(self):\n",
    "        \"\"\"Simulate a dog sitting in response to a command.\"\"\"\n",
    "        print(self.name.title() + ' is now sitting.')\n",
    "    \n",
    "    def roll_over(self):\n",
    "        \"\"\"Simulate rolling over in response to a command.\"\"\"\n",
    "        print(self.name.title() + ' rolled over!')"
   ]
  },
  {
   "cell_type": "markdown",
   "metadata": {},
   "source": [
    "#### Making an instance from a class"
   ]
  },
  {
   "cell_type": "code",
   "execution_count": 2,
   "metadata": {},
   "outputs": [],
   "source": [
    "my_dog = Dog('willie', 6)"
   ]
  },
  {
   "cell_type": "markdown",
   "metadata": {},
   "source": [
    "#### Accessing attributes"
   ]
  },
  {
   "cell_type": "code",
   "execution_count": 3,
   "metadata": {},
   "outputs": [
    {
     "name": "stdout",
     "output_type": "stream",
     "text": [
      "My dog's name is Willie.\n",
      "My dog is 6 years old.\n"
     ]
    }
   ],
   "source": [
    "print('My dog\\'s name is ' + my_dog.name.title() + '.')\n",
    "print('My dog is ' + str(my_dog.age) + ' years old.')"
   ]
  },
  {
   "cell_type": "markdown",
   "metadata": {},
   "source": [
    "#### Calling methods"
   ]
  },
  {
   "cell_type": "code",
   "execution_count": 4,
   "metadata": {},
   "outputs": [
    {
     "name": "stdout",
     "output_type": "stream",
     "text": [
      "Willie is now sitting.\n",
      "Willie rolled over!\n"
     ]
    }
   ],
   "source": [
    "my_dog.sit()\n",
    "my_dog.roll_over()"
   ]
  },
  {
   "cell_type": "markdown",
   "metadata": {},
   "source": [
    "#### Creating multiple instances"
   ]
  },
  {
   "cell_type": "code",
   "execution_count": 5,
   "metadata": {},
   "outputs": [
    {
     "name": "stdout",
     "output_type": "stream",
     "text": [
      "My dog's name is Willie.\n",
      "My dog is 6 years old.\n",
      "Willie is now sitting.\n",
      "\n",
      "Your dog's name is Lucy.\n",
      "Your dog is 3 years old.\n",
      "Lucy is now sitting.\n"
     ]
    }
   ],
   "source": [
    "your_dog = Dog('lucy', 3)\n",
    "\n",
    "print('My dog\\'s name is ' + my_dog.name.title() + '.')\n",
    "print('My dog is ' + str(my_dog.age) + ' years old.')\n",
    "my_dog.sit()\n",
    "\n",
    "print('\\nYour dog\\'s name is ' + your_dog.name.title() + '.')\n",
    "print('Your dog is ' + str(your_dog.age) + ' years old.')\n",
    "your_dog.sit()"
   ]
  },
  {
   "cell_type": "markdown",
   "metadata": {},
   "source": [
    "#### Try it yourself"
   ]
  },
  {
   "cell_type": "code",
   "execution_count": 6,
   "metadata": {},
   "outputs": [
    {
     "name": "stdout",
     "output_type": "stream",
     "text": [
      "Guido's Pizzaria\n",
      "pizza\n",
      "Restaurant name: Guido'S Pizzaria\n",
      "Cuisine type: pizza\n",
      "Guido'S Pizzaria is open!\n"
     ]
    }
   ],
   "source": [
    "# 9-1. Restaurant: Make a class called `Restaurant`. The `__init__()` method\n",
    "# for `Restaurant` should store two attributes: a `restaurant_name` and a\n",
    "# `cuisine_type`. Make a method called `describe_restaurant()` that prints\n",
    "# these two pieces of information, and a method called `open_restaurant()`\n",
    "# that prints a message indicating that the restaurant is open.\n",
    "\n",
    "class Restaurant():\n",
    "    \"\"\"A simple model of a restaurant.\"\"\"\n",
    "\n",
    "    def __init__(self, restaurant_name, cuisine_type):\n",
    "        self.restaurant_name = restaurant_name\n",
    "        self.cuisine_type = cuisine_type\n",
    "\n",
    "    def describe_restaurant(self):\n",
    "        print('Restaurant name: ' + self.restaurant_name.title())\n",
    "        print('Cuisine type: ' + self.cuisine_type)\n",
    "    \n",
    "    def open_restaurant(self):\n",
    "        print(self.restaurant_name.title() + ' is open!')\n",
    "\n",
    "# Make an instance called `restaurant` from your class. Print the two\n",
    "# attributes individually, and then call both methods.\n",
    "\n",
    "restaurant = Restaurant(\"Guido's Pizzaria\", \"pizza\")\n",
    "print(restaurant.restaurant_name)\n",
    "print(restaurant.cuisine_type)\n",
    "\n",
    "restaurant.describe_restaurant()\n",
    "restaurant.open_restaurant()"
   ]
  },
  {
   "cell_type": "code",
   "execution_count": 7,
   "metadata": {},
   "outputs": [
    {
     "name": "stdout",
     "output_type": "stream",
     "text": [
      "Restaurant name: Bandini\n",
      "Cuisine type: Italian\n",
      "\n",
      "\n",
      "Restaurant name: Gold Buffet\n",
      "Cuisine type: Chinese\n",
      "\n",
      "\n",
      "Restaurant name: Cramit\n",
      "Cuisine type: All-you-can-eat\n"
     ]
    }
   ],
   "source": [
    "# 9-2. Three restaurants: Start with your class from 9-1. Create three\n",
    "# different instances from the class, and call `describe_restaurant()`\n",
    "# for each instance.\n",
    "\n",
    "italian_restaurant = Restaurant('Bandini', 'Italian')\n",
    "chinese_restaurant = Restaurant('gold buffet', 'Chinese')\n",
    "all_you_can_eat_restaurant = Restaurant('cramit', 'All-you-can-eat')\n",
    "\n",
    "italian_restaurant.describe_restaurant()\n",
    "print('\\n')\n",
    "chinese_restaurant.describe_restaurant()\n",
    "print('\\n')\n",
    "all_you_can_eat_restaurant.describe_restaurant()"
   ]
  },
  {
   "cell_type": "code",
   "execution_count": 8,
   "metadata": {},
   "outputs": [
    {
     "name": "stdout",
     "output_type": "stream",
     "text": [
      "User summary:\n",
      "\tFirst name: Tim\n",
      "\tLast name: Heidecker\n",
      "Hello Tim!\n",
      "\n",
      "\n",
      "User summary:\n",
      "\tFirst name: Eric\n",
      "\tLast name: Wareheim\n",
      "Hello Eric!\n",
      "\n",
      "\n",
      "User summary:\n",
      "\tFirst name: Justin\n",
      "\tLast name: Timberlake\n",
      "Hello Justin!\n",
      "\n",
      "\n"
     ]
    }
   ],
   "source": [
    "# 9-3. Users: Make a class called `User`. Create two attributes called\n",
    "# `first_name` and `last_name`, and then create several other attributes\n",
    "# that are typically stored in a user profile. Make a method called\n",
    "# `describe_user()` that prints a summary of the user's information.\n",
    "# Make another method called `greet_user()` that prints a personalized\n",
    "# greeting to the user.\n",
    "\n",
    "class User():\n",
    "    \"\"\"Represents a forum user.\"\"\"\n",
    "    def __init__(self, first_name, last_name):\n",
    "        self.first_name = first_name\n",
    "        self.last_name = last_name\n",
    "    \n",
    "    def describe_user(self):\n",
    "        print('User summary:')\n",
    "        print('\\tFirst name: ' + self.first_name.title())\n",
    "        print('\\tLast name: ' + self.last_name.title())\n",
    "\n",
    "    def greet_user(self):\n",
    "        print('Hello ' + self.first_name.title() + '!')\n",
    "        \n",
    "# Create several instances representing different users, and call both\n",
    "# methods for each user.\n",
    "\n",
    "tim = User('tim', 'heidecker')\n",
    "eric = User('eric', 'wareheim')\n",
    "jake = User('justin', 'timberlake')\n",
    "\n",
    "for user in [tim, eric, jake]:\n",
    "    user.describe_user()\n",
    "    user.greet_user()\n",
    "    print('\\n')"
   ]
  },
  {
   "cell_type": "markdown",
   "metadata": {},
   "source": [
    "### Working with classes and instances"
   ]
  },
  {
   "cell_type": "markdown",
   "metadata": {},
   "source": [
    "#### The `Car` class"
   ]
  },
  {
   "cell_type": "code",
   "execution_count": 9,
   "metadata": {},
   "outputs": [
    {
     "name": "stdout",
     "output_type": "stream",
     "text": [
      "2016 Audi A4\n"
     ]
    }
   ],
   "source": [
    "class Car():\n",
    "    \"\"\"A simple attempt to represent a car.\"\"\"\n",
    "    \n",
    "    def __init__(self, make, model, year):\n",
    "        \"\"\"Initialize attributes to describe a car.\"\"\"\n",
    "        self.make = make\n",
    "        self.model = model\n",
    "        self.year = year\n",
    "    \n",
    "    def get_descriptive_name(self):\n",
    "        \"\"\"Return a neatly formatted descriptive name.\"\"\"\n",
    "        long_name = str(self.year) + ' '  + self.make + ' ' + self.model\n",
    "        return long_name.title()\n",
    "\n",
    "my_new_car = Car('audi', 'a4', 2016)\n",
    "print(my_new_car.get_descriptive_name())"
   ]
  },
  {
   "cell_type": "markdown",
   "metadata": {},
   "source": [
    "#### Setting a default value for an attribute"
   ]
  },
  {
   "cell_type": "code",
   "execution_count": 10,
   "metadata": {},
   "outputs": [
    {
     "name": "stdout",
     "output_type": "stream",
     "text": [
      "2016 Audi A4\n",
      "This car has 0 miles on it.\n"
     ]
    }
   ],
   "source": [
    "# Introduce an `odometer_reading` attribute.\n",
    "\n",
    "class Car():\n",
    "    \"\"\"A simple attempt to represent a car.\"\"\"\n",
    "    \n",
    "    def __init__(self, make, model, year):\n",
    "        \"\"\"Initialize attributes to describe a car.\"\"\"\n",
    "        self.make = make\n",
    "        self.model = model\n",
    "        self.year = year\n",
    "        self.odometer_reading = 0\n",
    "    \n",
    "    def get_descriptive_name(self):\n",
    "        \"\"\"Return a neatly formatted descriptive name.\"\"\"\n",
    "        long_name = str(self.year) + ' '  + self.make + ' ' + self.model\n",
    "        return long_name.title()\n",
    "    \n",
    "    def read_odometer(self):\n",
    "        \"\"\"Print a statement showing the car's mileage.\"\"\"\n",
    "        print('This car has ' + str(self.odometer_reading) + ' miles on it.')\n",
    "\n",
    "my_new_car = Car('audi', 'a4', 2016)\n",
    "print(my_new_car.get_descriptive_name())\n",
    "my_new_car.read_odometer()"
   ]
  },
  {
   "cell_type": "markdown",
   "metadata": {},
   "source": [
    "#### Modifying attribute values"
   ]
  },
  {
   "cell_type": "code",
   "execution_count": 11,
   "metadata": {},
   "outputs": [
    {
     "name": "stdout",
     "output_type": "stream",
     "text": [
      "This car has 23 miles on it.\n"
     ]
    }
   ],
   "source": [
    "# Directly modify a value.\n",
    "\n",
    "my_new_car.odometer_reading = 23\n",
    "my_new_car.read_odometer()"
   ]
  },
  {
   "cell_type": "code",
   "execution_count": 12,
   "metadata": {},
   "outputs": [
    {
     "name": "stdout",
     "output_type": "stream",
     "text": [
      "This car has 23 miles on it.\n",
      "You can't roll back an odometer!\n",
      "This car has 23 miles on it.\n"
     ]
    }
   ],
   "source": [
    "# Modify an attribute's value through a method.\n",
    "\n",
    "class Car():\n",
    "    \"\"\"A simple attempt to represent a car.\"\"\"\n",
    "    \n",
    "    def __init__(self, make, model, year):\n",
    "        \"\"\"Initialize attributes to describe a car.\"\"\"\n",
    "        self.make = make\n",
    "        self.model = model\n",
    "        self.year = year\n",
    "        self.odometer_reading = 0\n",
    "    \n",
    "    def get_descriptive_name(self):\n",
    "        \"\"\"Return a neatly formatted descriptive name.\"\"\"\n",
    "        long_name = str(self.year) + ' '  + self.make + ' ' + self.model\n",
    "        return long_name.title()\n",
    "    \n",
    "    def read_odometer(self):\n",
    "        \"\"\"Print a statement showing the car's mileage.\"\"\"\n",
    "        print('This car has ' + str(self.odometer_reading) + ' miles on it.')\n",
    "        \n",
    "    # New method!\n",
    "    def update_odometer(self, mileage):\n",
    "        \"\"\"\n",
    "        Set the odometer reading to the given value.\n",
    "        Reject the change if it attempts to roll the odometer back.\n",
    "        \"\"\"\n",
    "        if mileage >= self.odometer_reading:\n",
    "            self.odometer_reading = mileage\n",
    "        else:\n",
    "            print(\"You can't roll back an odometer!\")\n",
    "\n",
    "my_new_car = Car('audi', 'a4', 2016)\n",
    "my_new_car.update_odometer(23)\n",
    "my_new_car.read_odometer()\n",
    "my_new_car.update_odometer(20)\n",
    "my_new_car.read_odometer()\n"
   ]
  },
  {
   "cell_type": "code",
   "execution_count": 13,
   "metadata": {},
   "outputs": [
    {
     "name": "stdout",
     "output_type": "stream",
     "text": [
      "2013 Subaru Outback\n",
      "This car has 235000 miles on it.\n",
      "This car has 235100 miles on it.\n"
     ]
    }
   ],
   "source": [
    "# Increment an attribute's value through a method.\n",
    "\n",
    "class Car():\n",
    "    \"\"\"A simple attempt to represent a car.\"\"\"\n",
    "    \n",
    "    def __init__(self, make, model, year):\n",
    "        \"\"\"Initialize attributes to describe a car.\"\"\"\n",
    "        self.make = make\n",
    "        self.model = model\n",
    "        self.year = year\n",
    "        self.odometer_reading = 0\n",
    "    \n",
    "    def get_descriptive_name(self):\n",
    "        \"\"\"Return a neatly formatted descriptive name.\"\"\"\n",
    "        long_name = str(self.year) + ' '  + self.make + ' ' + self.model\n",
    "        return long_name.title()\n",
    "    \n",
    "    def read_odometer(self):\n",
    "        \"\"\"Print a statement showing the car's mileage.\"\"\"\n",
    "        print('This car has ' + str(self.odometer_reading) + ' miles on it.')\n",
    "        \n",
    "    def update_odometer(self, mileage):\n",
    "        \"\"\"\n",
    "        Set the odometer reading to the given value.\n",
    "        Reject the change if it attempts to roll the odometer back.\n",
    "        \"\"\"\n",
    "        if mileage >= self.odometer_reading:\n",
    "            self.odometer_reading = mileage\n",
    "        else:\n",
    "            print(\"You can't roll back an odometer!\")\n",
    "\n",
    "    # New method!\n",
    "    def increment_odometer(self, miles):\n",
    "        \"\"\"Add the given amount to the odometer reading.\"\"\"\n",
    "        self.odometer_reading += miles\n",
    "\n",
    "my_used_car = Car('subaru', 'outback', 2013)\n",
    "print(my_used_car.get_descriptive_name())\n",
    "\n",
    "my_used_car.update_odometer(235000)\n",
    "my_used_car.read_odometer()\n",
    "\n",
    "my_used_car.increment_odometer(100)\n",
    "my_used_car.read_odometer()"
   ]
  },
  {
   "cell_type": "markdown",
   "metadata": {},
   "source": [
    "#### Try it yourself"
   ]
  },
  {
   "cell_type": "code",
   "execution_count": 14,
   "metadata": {},
   "outputs": [
    {
     "name": "stdout",
     "output_type": "stream",
     "text": [
      "Customers served: 0\n",
      "Customers served: 100\n",
      "Customers served: 1000\n",
      "Customers served: 123\n"
     ]
    }
   ],
   "source": [
    "# 9-4. Number served: Start with your program from 9-1. Add an attribute\n",
    "# called `number_served` with a default value of 0. Create an instance\n",
    "# called `restaurant` from this class. Print the number of customers the\n",
    "# restaurant has served, and then change this value and print it again.\n",
    "\n",
    "class Restaurant():\n",
    "    \"\"\"A simple model of a restaurant.\"\"\"\n",
    "\n",
    "    def __init__(self, restaurant_name, cuisine_type):\n",
    "        self.restaurant_name = restaurant_name\n",
    "        self.cuisine_type = cuisine_type\n",
    "        self.number_served = 0\n",
    "\n",
    "    def describe_restaurant(self):\n",
    "        print('Restaurant name: ' + self.restaurant_name.title())\n",
    "        print('Cuisine type: ' + self.cuisine_type)\n",
    "    \n",
    "    def open_restaurant(self):\n",
    "        print(self.restaurant_name.title() + ' is open!')\n",
    "        \n",
    "restaurant = Restaurant('west ave bizkits', 'brunch')\n",
    "print('Customers served: ' + str(restaurant.number_served))\n",
    "restaurant.number_served = 100\n",
    "print('Customers served: ' + str(restaurant.number_served))\n",
    "\n",
    "# Add a method called `set_number_served()` that lets you set the number\n",
    "# of customers that have been served. Call this method with a new number\n",
    "# and print the value again.\n",
    "\n",
    "class Restaurant():\n",
    "    \"\"\"A simple model of a restaurant.\"\"\"\n",
    "\n",
    "    def __init__(self, restaurant_name, cuisine_type):\n",
    "        self.restaurant_name = restaurant_name\n",
    "        self.cuisine_type = cuisine_type\n",
    "        self.number_served = 0\n",
    "\n",
    "    def describe_restaurant(self):\n",
    "        print('Restaurant name: ' + self.restaurant_name.title())\n",
    "        print('Cuisine type: ' + self.cuisine_type)\n",
    "    \n",
    "    def open_restaurant(self):\n",
    "        print(self.restaurant_name.title() + ' is open!')\n",
    "    \n",
    "    def set_number_served(self, number_served):\n",
    "        self.number_served = number_served\n",
    "\n",
    "restaurant = Restaurant('west ave bizkits', 'brunch')\n",
    "restaurant.set_number_served(1000)\n",
    "print('Customers served: ' + str(restaurant.number_served))\n",
    "\n",
    "# Add a method `called increment_number_served()` that lets you\n",
    "# increment the number of customers who've been served. Call this method\n",
    "# with any number you like that could represent how many customers were\n",
    "# served in, say, a day of business\n",
    "\n",
    "class Restaurant():\n",
    "    \"\"\"A simple model of a restaurant.\"\"\"\n",
    "\n",
    "    def __init__(self, restaurant_name, cuisine_type):\n",
    "        self.restaurant_name = restaurant_name\n",
    "        self.cuisine_type = cuisine_type\n",
    "        self.number_served = 0\n",
    "\n",
    "    def describe_restaurant(self):\n",
    "        print('Restaurant name: ' + self.restaurant_name.title())\n",
    "        print('Cuisine type: ' + self.cuisine_type)\n",
    "    \n",
    "    def open_restaurant(self):\n",
    "        print(self.restaurant_name.title() + ' is open!')\n",
    "    \n",
    "    def set_number_served(self, number_served):\n",
    "        self.number_served = number_served\n",
    "        \n",
    "    def increment_number_served(self, number_new_customers):\n",
    "        if number_new_customers > 0:\n",
    "            self.number_served += number_new_customers\n",
    "\n",
    "restaurant = Restaurant('west ave bizkits', 'brunch')\n",
    "restaurant.increment_number_served(123)\n",
    "print('Customers served: ' + str(restaurant.number_served))"
   ]
  },
  {
   "cell_type": "code",
   "execution_count": 15,
   "metadata": {},
   "outputs": [
    {
     "name": "stdout",
     "output_type": "stream",
     "text": [
      "Login attempts: 10\n",
      "Login attempts: 0\n"
     ]
    }
   ],
   "source": [
    "# 9-5. Login attempts: Add an attribute called `login_attempts` to your\n",
    "# `User` class from 9-3. Write a method called `increment_login_attempts()`\n",
    "# that increments the value of `login_attemtps` by 1. Write another method\n",
    "# called `reset_login_attempts()` that resets the value of `login_attempts`\n",
    "# to 0.\n",
    "\n",
    "class User():\n",
    "    \"\"\"Represents a forum user.\"\"\"\n",
    "    def __init__(self, first_name, last_name):\n",
    "        self.first_name = first_name\n",
    "        self.last_name = last_name\n",
    "        self.login_attempts = 0\n",
    "    \n",
    "    def describe_user(self):\n",
    "        print('User summary:')\n",
    "        print('\\tFirst name: ' + self.first_name.title())\n",
    "        print('\\tLast name: ' + self.last_name.title())\n",
    "\n",
    "    def greet_user(self):\n",
    "        print('Hello ' + self.first_name.title() + '!')\n",
    "        \n",
    "    def increment_login_attempts(self):\n",
    "        self.login_attempts += 1\n",
    "    \n",
    "    def reset_login_attempts(self):\n",
    "        self.login_attempts = 0\n",
    "\n",
    "# Make an instance of the `User` class and call `increment_login_attempts()`\n",
    "# several times. Print the value of `login_attempts` to make sure it was\n",
    "# incremented properly, and then call `reset_login_attempts()`. Print\n",
    "# `login_attempts` again to make sure it was reset to 0.\n",
    "\n",
    "user = User('Dan', 'Robison')\n",
    "for i in range(10):\n",
    "    user.increment_login_attempts()\n",
    "\n",
    "print('Login attempts: ' + str(user.login_attempts))\n",
    "user.reset_login_attempts()\n",
    "print('Login attempts: ' + str(user.login_attempts))"
   ]
  },
  {
   "cell_type": "markdown",
   "metadata": {},
   "source": [
    "### Inheritance"
   ]
  },
  {
   "cell_type": "markdown",
   "metadata": {},
   "source": [
    "#### The `__init()__()` method for a child class"
   ]
  },
  {
   "cell_type": "code",
   "execution_count": 16,
   "metadata": {},
   "outputs": [
    {
     "name": "stdout",
     "output_type": "stream",
     "text": [
      "2016 Tesla Model S\n"
     ]
    }
   ],
   "source": [
    "class ElectricCar(Car):\n",
    "    \"\"\"Represent aspects of a car, specific to electric vehicles.\"\"\"\n",
    "    \n",
    "    def __init__(self, make, model, year):\n",
    "        \"\"\"Initialize attributes of the parent class.\"\"\"\n",
    "        super().__init__(make, model, year)\n",
    "        \n",
    "my_tesla = ElectricCar('tesla', 'model s', 2016)\n",
    "print(my_tesla.get_descriptive_name())"
   ]
  },
  {
   "cell_type": "markdown",
   "metadata": {},
   "source": [
    "#### Defining attributes and methods for the child class"
   ]
  },
  {
   "cell_type": "code",
   "execution_count": 17,
   "metadata": {},
   "outputs": [
    {
     "name": "stdout",
     "output_type": "stream",
     "text": [
      "2016 Tesla Model S\n",
      "This car has a 70-kWh battery.\n"
     ]
    }
   ],
   "source": [
    "class ElectricCar(Car):\n",
    "    \"\"\"Represent aspects of a car, specific to electric vehicles.\"\"\"\n",
    "    \n",
    "    def __init__(self, make, model, year):\n",
    "        \"\"\"\n",
    "        Initialize attributes of the parent class.\n",
    "        Then initialize attributes specific to an electric car.\n",
    "        \"\"\"\n",
    "        super().__init__(make, model, year)\n",
    "        self.battery_size_kwh = 70\n",
    "        \n",
    "    def describe_battery(self):\n",
    "        \"\"\"Print a statement describing the battery size.\"\"\"\n",
    "        print('This car has a ' + str(self.battery_size_kwh) + '-kWh battery.')\n",
    "\n",
    "my_tesla = ElectricCar('tesla', 'model s', 2016)\n",
    "print(my_tesla.get_descriptive_name())\n",
    "my_tesla.describe_battery()"
   ]
  },
  {
   "cell_type": "markdown",
   "metadata": {},
   "source": [
    "#### Overriding methods from the parent class"
   ]
  },
  {
   "cell_type": "code",
   "execution_count": 18,
   "metadata": {},
   "outputs": [
    {
     "name": "stdout",
     "output_type": "stream",
     "text": [
      "This car doesn't need a gas tank!\n"
     ]
    }
   ],
   "source": [
    "class ElectricCar(Car):\n",
    "    \"\"\"Represent aspects of a car, specific to electric vehicles.\"\"\"\n",
    "    \n",
    "    def __init__(self, make, model, year):\n",
    "        \"\"\"\n",
    "        Initialize attributes of the parent class.\n",
    "        Then initialize attributes specific to an electric car.\n",
    "        \"\"\"\n",
    "        super().__init__(make, model, year)\n",
    "        self.battery_size_kwh = 70\n",
    "        \n",
    "    def describe_battery(self):\n",
    "        \"\"\"Print a statement describing the battery size.\"\"\"\n",
    "        print('This car has a ' + str(self.battery_size_kwh) + '-kWh battery.')\n",
    "        \n",
    "    # New method! (Assume this overrides a `fill_gas_tank` method on the parent `Car` class.)\n",
    "    def fill_gas_tank(self):\n",
    "        \"\"\"Electric cars don't have gas tanks.\"\"\"\n",
    "        print(\"This car doesn't need a gas tank!\")\n",
    "        \n",
    "my_tesla = ElectricCar('tesla', 'model s', 2016)\n",
    "my_tesla.fill_gas_tank()"
   ]
  },
  {
   "cell_type": "markdown",
   "metadata": {},
   "source": [
    "#### Instances as attributes"
   ]
  },
  {
   "cell_type": "code",
   "execution_count": 19,
   "metadata": {},
   "outputs": [
    {
     "name": "stdout",
     "output_type": "stream",
     "text": [
      "This car has a 70-kWh battery.\n",
      "This car can go approximately 240 miles on a full charge.\n"
     ]
    }
   ],
   "source": [
    "# Simplify by splitting inner functionality into yet another class.\n",
    "class Battery():\n",
    "    \"\"\"A simple attempt to model a battery for an electric car.\"\"\"\n",
    "    \n",
    "    def __init__(self, battery_size=70):\n",
    "        \"\"\"Initialize the battery's attributes.\"\"\"\n",
    "        self.battery_size = battery_size\n",
    "    \n",
    "    def describe_battery(self):\n",
    "        \"\"\"Print a statement describing the battery size.\"\"\"\n",
    "        print('This car has a ' + str(self.battery_size) + '-kWh battery.')\n",
    "        \n",
    "    def get_range(self):\n",
    "        \"\"\"Print a statement about the range this battery provides.\"\"\"\n",
    "        if self.battery_size == 70:\n",
    "            range = 240\n",
    "        elif self.battery_size == 85:\n",
    "            range = 270\n",
    "        \n",
    "        message = 'This car can go approximately ' + str(range) \\\n",
    "                   + ' miles on a full charge.'\n",
    "        print(message)\n",
    "\n",
    "class ElectricCar(Car):\n",
    "    \"\"\"Represent aspects of a car, specific to electric vehicles.\"\"\"\n",
    "    \n",
    "    def __init__(self, make, model, year):\n",
    "        \"\"\"\n",
    "        Initialize attributes of the parent class.\n",
    "        Then initialize attributes specific to an electric car.\n",
    "        \"\"\"\n",
    "        super().__init__(make, model, year)\n",
    "        self.battery = Battery()\n",
    "\n",
    "my_tesla = ElectricCar('tesla', 'model s', 2016)\n",
    "my_tesla.battery.describe_battery()\n",
    "my_tesla.battery.get_range()"
   ]
  },
  {
   "cell_type": "markdown",
   "metadata": {},
   "source": [
    "#### Modeling real-world objects"
   ]
  },
  {
   "cell_type": "markdown",
   "metadata": {},
   "source": [
    "#### Try it yourself"
   ]
  },
  {
   "cell_type": "code",
   "execution_count": 20,
   "metadata": {},
   "outputs": [
    {
     "name": "stdout",
     "output_type": "stream",
     "text": [
      "Restaurant name: Cool Treats\n",
      "Cuisine type: ice cream\n",
      "\n",
      "Flavors served:\n",
      "['vanilla', 'chocolate']\n"
     ]
    }
   ],
   "source": [
    "# 9-6. Ice cream stand: An ice cream stand is a specific kind of restaurant.\n",
    "# Write a class called `IceCreamStand` that inherits from the `Restaurant`\n",
    "# class you wrote in 9-1 or 9-4. Either version of the class will work;\n",
    "# just pick the one you like better. Add an attribute called `flavors` that\n",
    "# stores a list of ice cream flavors. Write a method that displays these\n",
    "# flavors. Create an instance of `IceCreamStand`, and call this method.\n",
    "\n",
    "class IceCreamStand(Restaurant):\n",
    "    def __init__(self, restaurant_name, flavors=['vanilla', 'chocolate']):\n",
    "        super().__init__(restaurant_name, 'ice cream')\n",
    "        self.flavors = flavors\n",
    "        \n",
    "    def display_flavors(self):\n",
    "        print(self.flavors)\n",
    "\n",
    "        \n",
    "ice_cream_stand = IceCreamStand('cool treats')\n",
    "ice_cream_stand.describe_restaurant()\n",
    "print('\\nFlavors served:')\n",
    "ice_cream_stand.display_flavors()"
   ]
  },
  {
   "cell_type": "code",
   "execution_count": 21,
   "metadata": {},
   "outputs": [
    {
     "name": "stdout",
     "output_type": "stream",
     "text": [
      "\n",
      "Privileges:\n",
      "\tcan add post\n",
      "\tcan delete post\n"
     ]
    }
   ],
   "source": [
    "# 9-7. Admin: An administrator is a special kind of user. Write a class\n",
    "# called `Admin` that inherits from the `User` class you wrote in 9-3\n",
    "# or 9-5. Add an attribute, `privileges`, that stores a list of strings\n",
    "# like 'can add post', 'can delete post', 'can ban user', and so on.\n",
    "# Write a method called `show_privilages()` that lists the administrator's\n",
    "# set of privileges. Create an instance of `Admin`, and call your method.\n",
    "\n",
    "class Admin(User):\n",
    "    \"\"\"Represents an admin user.\"\"\"\n",
    "    def __init__(self, first_name, last_name, privileges=['can add post', 'can delete post']):\n",
    "        super().__init__(first_name, last_name)\n",
    "        self.privileges = privileges\n",
    "        \n",
    "    def show_privileges(self):\n",
    "        print('\\nPrivileges:')\n",
    "        for privilege in self.privileges:\n",
    "            print('\\t' + privilege)\n",
    "            \n",
    "admin = Admin('tom', 'hanks')\n",
    "admin.show_privileges()"
   ]
  },
  {
   "cell_type": "code",
   "execution_count": 22,
   "metadata": {},
   "outputs": [
    {
     "name": "stdout",
     "output_type": "stream",
     "text": [
      "\n",
      "Privileges:\n",
      "\tcan add post\n",
      "\tcan delete post\n"
     ]
    }
   ],
   "source": [
    "# 9-8. Privileges: Write a separate `Privileges` class. The class should\n",
    "# have one attribute, `privileges`, that stores a list of strings as described\n",
    "# in 9-7. Move the `show_privileges()` method to this class. Make a `Privileges`\n",
    "# instance as an attribute in the `Admin` class. Create a new instance of `Admin`\n",
    "# and use your method to show its privileges.\n",
    "\n",
    "class Privileges():\n",
    "    def __init__(self, privileges=['can add post', 'can delete post']):\n",
    "        self.privileges = privileges\n",
    "\n",
    "    def show(self):\n",
    "        print('\\nPrivileges:')\n",
    "        for privilege in self.privileges:\n",
    "            print('\\t' + privilege)\n",
    "\n",
    "class Admin(User):\n",
    "    \"\"\"Represents an admin user.\"\"\"\n",
    "    def __init__(self, first_name, last_name, privileges=Privileges()):\n",
    "        super().__init__(first_name, last_name)\n",
    "        self.privileges = privileges\n",
    "\n",
    "admin = Admin('tom', 'hanks')\n",
    "admin.privileges.show()"
   ]
  },
  {
   "cell_type": "code",
   "execution_count": 23,
   "metadata": {},
   "outputs": [
    {
     "name": "stdout",
     "output_type": "stream",
     "text": [
      "This car can go approximately 240 miles on a full charge.\n",
      "This car can go approximately 270 miles on a full charge.\n"
     ]
    }
   ],
   "source": [
    "# 9.0. Battery upgrade: Use the final version of electric_car.py from this\n",
    "# section. Add a method to the Battery class called `upgrade_battery()`.\n",
    "# This method should check the battery size and set the capacity to 85 if \n",
    "# it isn't already. Make an electric car with a default battery size, call\n",
    "# `get_range()` once, and then call `get_range()` a second time after upgrading\n",
    "# the battery. You should see an increase in the car's range.\n",
    "\n",
    "class Battery():\n",
    "    \"\"\"A simple attempt to model a battery for an electric car.\"\"\"\n",
    "    \n",
    "    def __init__(self, battery_size=70):\n",
    "        \"\"\"Initialize the battery's attributes.\"\"\"\n",
    "        self.battery_size = battery_size\n",
    "    \n",
    "    def describe_battery(self):\n",
    "        \"\"\"Print a statement describing the battery size.\"\"\"\n",
    "        print('This car has a ' + str(self.battery_size) + '-kWh battery.')\n",
    "        \n",
    "    def get_range(self):\n",
    "        \"\"\"Print a statement about the range this battery provides.\"\"\"\n",
    "        if self.battery_size == 70:\n",
    "            range = 240\n",
    "        elif self.battery_size == 85:\n",
    "            range = 270\n",
    "        \n",
    "        message = 'This car can go approximately ' + str(range) \\\n",
    "                   + ' miles on a full charge.'\n",
    "        print(message)\n",
    "\n",
    "    def upgrade_battery(self):\n",
    "        if self.battery_size != 85:\n",
    "            self.battery_size = 85\n",
    "\n",
    "class ElectricCar(Car):\n",
    "    \"\"\"Represent aspects of a car, specific to electric vehicles.\"\"\"\n",
    "    \n",
    "    def __init__(self, make, model, year):\n",
    "        \"\"\"\n",
    "        Initialize attributes of the parent class.\n",
    "        Then initialize attributes specific to an electric car.\n",
    "        \"\"\"\n",
    "        super().__init__(make, model, year)\n",
    "        self.battery = Battery()\n",
    "\n",
    "my_tesla = ElectricCar('tesla', 'model s', 2016)\n",
    "my_tesla.battery.get_range()\n",
    "my_tesla.battery.upgrade_battery()\n",
    "my_tesla.battery.get_range()"
   ]
  },
  {
   "cell_type": "markdown",
   "metadata": {},
   "source": [
    "### Importing classes"
   ]
  },
  {
   "cell_type": "markdown",
   "metadata": {},
   "source": [
    "#### Importing a single class"
   ]
  },
  {
   "cell_type": "code",
   "execution_count": 24,
   "metadata": {},
   "outputs": [
    {
     "name": "stdout",
     "output_type": "stream",
     "text": [
      "2016 Audi A4\n",
      "This car has 23 miles on it.\n"
     ]
    }
   ],
   "source": [
    "from chapter_9_code.car import Car\n",
    "\n",
    "my_new_car = Car('audi', 'a4', 2016)\n",
    "print(my_new_car.get_descriptive_name())\n",
    "\n",
    "my_new_car.odometer_reading = 23\n",
    "my_new_car.read_odometer()"
   ]
  },
  {
   "cell_type": "markdown",
   "metadata": {},
   "source": [
    "#### Storing multiple classes in a module"
   ]
  },
  {
   "cell_type": "code",
   "execution_count": 25,
   "metadata": {},
   "outputs": [
    {
     "name": "stdout",
     "output_type": "stream",
     "text": [
      "2016 Tesla Model S\n",
      "This car has a 70-kWh battery.\n",
      "This car can go approximately 240 miles on a full charge.\n"
     ]
    }
   ],
   "source": [
    "from chapter_9_code.car import ElectricCar\n",
    "\n",
    "my_tesla = ElectricCar('tesla', 'model s', 2016)\n",
    "\n",
    "print(my_tesla.get_descriptive_name())\n",
    "my_tesla.battery.describe_battery()\n",
    "my_tesla.battery.get_range()"
   ]
  },
  {
   "cell_type": "markdown",
   "metadata": {},
   "source": [
    "#### Importing multiple classes from a module"
   ]
  },
  {
   "cell_type": "code",
   "execution_count": 26,
   "metadata": {},
   "outputs": [
    {
     "name": "stdout",
     "output_type": "stream",
     "text": [
      "2016 Volkswagen Beetle\n",
      "2016 Tesla Roadster\n"
     ]
    }
   ],
   "source": [
    "from chapter_9_code.car import Car, ElectricCar\n",
    "\n",
    "my_beetle = Car('volkswagen', 'beetle', 2016)\n",
    "print(my_beetle.get_descriptive_name())\n",
    "\n",
    "my_tesla = ElectricCar('tesla', 'roadster', 2016)\n",
    "print(my_tesla.get_descriptive_name())"
   ]
  },
  {
   "cell_type": "markdown",
   "metadata": {},
   "source": [
    "#### Importing an entire module"
   ]
  },
  {
   "cell_type": "code",
   "execution_count": 27,
   "metadata": {},
   "outputs": [
    {
     "name": "stdout",
     "output_type": "stream",
     "text": [
      "2016 Volkswagen Beetle\n",
      "2016 Tesla Roadster\n"
     ]
    }
   ],
   "source": [
    "import chapter_9_code.car as car\n",
    "\n",
    "my_beetle = car.Car('volkswagen', 'beetle', 2016)\n",
    "print(my_beetle.get_descriptive_name())\n",
    "\n",
    "my_tesla = car.ElectricCar('tesla', 'roadster', 2016)\n",
    "print(my_tesla.get_descriptive_name())"
   ]
  },
  {
   "cell_type": "markdown",
   "metadata": {},
   "source": [
    "#### Try it yourself"
   ]
  },
  {
   "cell_type": "code",
   "execution_count": 28,
   "metadata": {},
   "outputs": [
    {
     "name": "stdout",
     "output_type": "stream",
     "text": [
      "Restaurant name: Hogan'S Gyros\n",
      "Cuisine type: greek\n"
     ]
    }
   ],
   "source": [
    "# 9-10. Imported restaurant: Using your latest `Restaurant` class,\n",
    "# store it in a module. Make a separate file that imports `Restaraunt`.\n",
    "# Make a `Restaurant` instance, and call one of `Restaurant`'s methods\n",
    "# to show that the `import` statement is working properly.\n",
    "\n",
    "from chapter_9_code.restaurant import Restaurant\n",
    "\n",
    "restaurant = Restaurant('hogan\\'s gyros', 'greek')\n",
    "restaurant.describe_restaurant()"
   ]
  },
  {
   "cell_type": "code",
   "execution_count": 29,
   "metadata": {},
   "outputs": [
    {
     "name": "stdout",
     "output_type": "stream",
     "text": [
      "\n",
      "Privileges:\n",
      "\tcan add post\n",
      "\tcan delete post\n"
     ]
    }
   ],
   "source": [
    "# 9-11. Imported admin: Start with your work from 9-8. Store the classes\n",
    "# `User`, `Privileges`, and `Admin` in one module. Create a separate file,\n",
    "# make an `Admin` instance, and call `show_privileges()` to show that\n",
    "# everything is working correctly.\n",
    "\n",
    "import chapter_9_code.user as user\n",
    "\n",
    "admin = user.Admin('tom', 'hanks')\n",
    "admin.privileges.show()"
   ]
  },
  {
   "cell_type": "code",
   "execution_count": 31,
   "metadata": {},
   "outputs": [
    {
     "name": "stdout",
     "output_type": "stream",
     "text": [
      "\n",
      "Privileges:\n",
      "\tcan add post\n",
      "\tcan delete post\n"
     ]
    }
   ],
   "source": [
    "# 9-12. Multiple modules: Store the `User` class in one module, and store\n",
    "# the `Privileges` and `Admin` classes in a separate module. In a separate\n",
    "# file, create an `Admin` instance and call `show_privileges()` to show\n",
    "# that everything is still working correctly.\n",
    "\n",
    "from chapter_9_code.admin import Admin\n",
    "admin = Admin('tom', 'hanks')\n",
    "admin.privileges.show()"
   ]
  },
  {
   "cell_type": "markdown",
   "metadata": {},
   "source": [
    "### The Python Standard Library"
   ]
  },
  {
   "cell_type": "code",
   "execution_count": 32,
   "metadata": {},
   "outputs": [
    {
     "name": "stdout",
     "output_type": "stream",
     "text": [
      "Jen's favorite language is Python.\n",
      "Sarah's favorite language is C.\n",
      "Edward's favorite language is Ruby.\n",
      "Phil's favorite language is Python.\n"
     ]
    }
   ],
   "source": [
    "from collections import OrderedDict\n",
    "favorite_languages = OrderedDict()\n",
    "\n",
    "favorite_languages['jen'] = 'python'\n",
    "favorite_languages['sarah'] = 'c'\n",
    "favorite_languages['edward'] = 'ruby'\n",
    "favorite_languages['phil'] = 'python'\n",
    "\n",
    "for name, language in favorite_languages.items():\n",
    "    print(name.title() + \"'s favorite language is \" + language.title() + \".\")"
   ]
  },
  {
   "cell_type": "markdown",
   "metadata": {},
   "source": [
    "#### Try it yourself"
   ]
  },
  {
   "cell_type": "code",
   "execution_count": 33,
   "metadata": {},
   "outputs": [
    {
     "name": "stdout",
     "output_type": "stream",
     "text": [
      "set: An Unordered Collection Of Unique Items.\n",
      "\n",
      "comment: Explanatory Text Intended For A Human Reader, Which Is Not Parsed Or Executed.\n",
      "\n",
      "if-statement: A Statement That Evaluates Boolean Condition And Executes Its Block If It Evaluates To `True`.\n",
      "\n",
      "del: A Python Keyword That Clears A Variable And Its Value From Memory.\n",
      "\n",
      "assignment: Linking A Value To A Variable.\n",
      "\n"
     ]
    }
   ],
   "source": [
    "# 9-13. OrderedDict rewrite: Start with 6-4, where you used a standard\n",
    "# dictionary to represent a glossary. Rewrite the program using the\n",
    "# OrderedDict class and make sure the order of the output matches the\n",
    "# order in which key-value pairs were added to the dictionary.\n",
    "\n",
    "from collections import OrderedDict\n",
    "programming_words = OrderedDict()\n",
    "\n",
    "programming_words['set'] = 'an unordered collection of unique items'\n",
    "programming_words['comment'] = 'explanatory text intended for a human reader, which is not parsed or executed'\n",
    "programming_words['if-statement'] = 'a statement that evaluates boolean condition and executes its block if ' +\\\n",
    "                                        'it evaluates to `True`'\n",
    "programming_words['del'] = 'a Python keyword that clears a variable and its value from memory'\n",
    "programming_words['assignment'] = 'linking a value to a variable'\n",
    "\n",
    "for programming_word, definition in programming_words.items():\n",
    "    print(programming_word + ': ' + definition.title() + '.\\n')"
   ]
  },
  {
   "cell_type": "code",
   "execution_count": null,
   "metadata": {},
   "outputs": [],
   "source": [
    "# 9-14. Python module of the week: One excellent resource for exploring\n",
    "# the Python standard library is a site called 'Python Module of the Week'.\n",
    "# Go to https://pymotw.com/ and look at the table of contents. Find a module\n",
    "# that looks interesting to you and read about it, or explore the documentation\n",
    "# of the collections and random modules."
   ]
  }
 ],
 "metadata": {
  "kernelspec": {
   "display_name": "Python 3",
   "language": "python",
   "name": "python3"
  },
  "language_info": {
   "codemirror_mode": {
    "name": "ipython",
    "version": 3
   },
   "file_extension": ".py",
   "mimetype": "text/x-python",
   "name": "python",
   "nbconvert_exporter": "python",
   "pygments_lexer": "ipython3",
   "version": "3.6.2"
  }
 },
 "nbformat": 4,
 "nbformat_minor": 2
}
