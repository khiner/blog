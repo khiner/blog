{
 "cells": [
  {
   "cell_type": "markdown",
   "metadata": {},
   "source": [
    "# Chapter 11\n",
    "## Testing your code"
   ]
  },
  {
   "cell_type": "markdown",
   "metadata": {},
   "source": [
    "### Testing a function"
   ]
  },
  {
   "cell_type": "code",
   "execution_count": 1,
   "metadata": {},
   "outputs": [
    {
     "name": "stdout",
     "output_type": "stream",
     "text": [
      "Enter 'q' at any time to quit.\n",
      "\n",
      "Please give me a first name: karl\n",
      "Please give me a last name: hiner\n",
      "\tNeatly formatted name: Karl Hiner.\n",
      "\n",
      "Please give me a first name: q\n"
     ]
    }
   ],
   "source": [
    "from chapter_11_code.name_function import get_formatted_name\n",
    "\n",
    "print(\"Enter 'q' at any time to quit.\")\n",
    "while True:\n",
    "    first = input('\\nPlease give me a first name: ')\n",
    "    if first.lower() == 'q':\n",
    "        break\n",
    "    last = input('Please give me a last name: ')\n",
    "    if last.lower() == 'q':\n",
    "        break\n",
    "    \n",
    "    formatted_name = get_formatted_name(first, last)\n",
    "    print('\\tNeatly formatted name: ' + formatted_name + '.')"
   ]
  },
  {
   "cell_type": "markdown",
   "metadata": {},
   "source": [
    "#### A passing test"
   ]
  },
  {
   "cell_type": "markdown",
   "metadata": {},
   "source": [
    "#### A failing test"
   ]
  },
  {
   "cell_type": "markdown",
   "metadata": {},
   "source": [
    "#### Responding to a failed test"
   ]
  },
  {
   "cell_type": "markdown",
   "metadata": {},
   "source": [
    "#### Adding new tests"
   ]
  },
  {
   "cell_type": "code",
   "execution_count": 3,
   "metadata": {},
   "outputs": [],
   "source": [
    "# See chapter_11_code/test_name_function.py."
   ]
  },
  {
   "cell_type": "markdown",
   "metadata": {},
   "source": [
    "#### Try it yourself"
   ]
  },
  {
   "cell_type": "code",
   "execution_count": null,
   "metadata": {},
   "outputs": [],
   "source": [
    "# 11-1. City, country: Write a function that accepts two parameters:\n",
    "# a city name and a country name. The function should return a single string\n",
    "# of the form 'City, Country', such as 'Santiago, Chile'. Store the function in a\n",
    "# module called city_functions.py.\n",
    "\n",
    "# See chapter_11_code/city_functions.py\n",
    "\n",
    "# Create a file called test_cities.py that tests the function you just wrote\n",
    "# (remember that you need to import `unittest` and the function you want to test).\n",
    "# Write a method called `test_city_country()` to verify that calling your function\n",
    "# with calues such as 'santiago' and 'chile' results in the correct string. Run\n",
    "# test_cities.py, and make sure `test_city_country()` passes.\n",
    "\n",
    "# See chapter_11_code/test_cities.py\n",
    "\n",
    "# 11-2. Population: Modify your function so it requires a third parameter, `population`.\n",
    "# It should now return a single string of the form 'City, Country - population xxx',\n",
    "# such as Santiago, Chile - population 5000000. Run test_cities.py again. Make sure\n",
    "# `test_city_country()` fails this time.\n",
    "\n",
    "# Modify the function so the `population` parameter is optional. Run test_cities.py again,\n",
    "# and make sure `test_city_country()` passes again.\n",
    "\n",
    "# See chapter_11_code/city_functions.py\n",
    "\n",
    "# Write a second test called `test_city_country_population()` that verifies you can call\n",
    "# your function with the values 'santiago', 'chile', and 'population=5000000'. Run\n",
    "# test_cities.py again, and make sure this new test passes.\n",
    "\n",
    "# See chapter_11_code/test_cities.py"
   ]
  },
  {
   "cell_type": "markdown",
   "metadata": {},
   "source": [
    "### Testing a class"
   ]
  },
  {
   "cell_type": "markdown",
   "metadata": {},
   "source": [
    "#### A class to test"
   ]
  },
  {
   "cell_type": "code",
   "execution_count": null,
   "metadata": {},
   "outputs": [],
   "source": [
    "# See chapter_11_code/survey.py & chapter_11_code/language_survey.py."
   ]
  },
  {
   "cell_type": "markdown",
   "metadata": {},
   "source": [
    "#### Testing the `AnonymousSurvey` class"
   ]
  },
  {
   "cell_type": "markdown",
   "metadata": {},
   "source": [
    "#### The `setUp()` method"
   ]
  },
  {
   "cell_type": "code",
   "execution_count": null,
   "metadata": {},
   "outputs": [],
   "source": [
    "# See chapter_11_code/test_survey.py."
   ]
  },
  {
   "cell_type": "markdown",
   "metadata": {},
   "source": [
    "#### Try it yourself"
   ]
  },
  {
   "cell_type": "code",
   "execution_count": null,
   "metadata": {},
   "outputs": [],
   "source": [
    "# 11-3. Employee: Write a class called `Employee`. The `__init__()` method should\n",
    "# take in a first name, a last name, and an annual salary, and store each of these\n",
    "# as attributes. Write a method called `give_raise()` that adds $5000 to the annual\n",
    "# salary by default but also accepts a different raise amount.\n",
    "\n",
    "# See chapter_11_code/employee.py.\n",
    "\n",
    "# Write a test case for `Employee`. Write two test methods, `test_give_default_raise()`\n",
    "# and `test_give_custom_raise()`. Use the `setUp()` method so you don't have to create\n",
    "# a new employee instance in each test method. Run your test case, and make sure both\n",
    "# tests pass.\n",
    "\n",
    "# See chapter_11_code/test_employee.py."
   ]
  }
 ],
 "metadata": {
  "kernelspec": {
   "display_name": "Python 3",
   "language": "python",
   "name": "python3"
  },
  "language_info": {
   "codemirror_mode": {
    "name": "ipython",
    "version": 3
   },
   "file_extension": ".py",
   "mimetype": "text/x-python",
   "name": "python",
   "nbconvert_exporter": "python",
   "pygments_lexer": "ipython3",
   "version": "3.6.2"
  }
 },
 "nbformat": 4,
 "nbformat_minor": 2
}
