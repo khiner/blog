{
 "cells": [
  {
   "cell_type": "markdown",
   "metadata": {},
   "source": [
    "# Chapter 6\n",
    "## Dictionaries"
   ]
  },
  {
   "cell_type": "markdown",
   "metadata": {},
   "source": [
    "### A simple dictionary"
   ]
  },
  {
   "cell_type": "code",
   "execution_count": 1,
   "metadata": {},
   "outputs": [
    {
     "name": "stdout",
     "output_type": "stream",
     "text": [
      "green\n",
      "5\n"
     ]
    }
   ],
   "source": [
    "alien_0 = {'color': 'green', 'points': 5}\n",
    "\n",
    "print(alien_0['color'])\n",
    "print(alien_0['points'])"
   ]
  },
  {
   "cell_type": "markdown",
   "metadata": {},
   "source": [
    "### Working with dictionaries"
   ]
  },
  {
   "cell_type": "markdown",
   "metadata": {},
   "source": [
    "#### Accessing values in a dictionary"
   ]
  },
  {
   "cell_type": "code",
   "execution_count": 2,
   "metadata": {},
   "outputs": [
    {
     "name": "stdout",
     "output_type": "stream",
     "text": [
      "You just earned 5 points!\n"
     ]
    }
   ],
   "source": [
    "new_points = alien_0['points']\n",
    "print('You just earned ' + str(new_points) + ' points!')"
   ]
  },
  {
   "cell_type": "markdown",
   "metadata": {},
   "source": [
    "#### Adding new key-value pairs"
   ]
  },
  {
   "cell_type": "code",
   "execution_count": 3,
   "metadata": {},
   "outputs": [
    {
     "name": "stdout",
     "output_type": "stream",
     "text": [
      "{'color': 'green', 'points': 5}\n",
      "{'color': 'green', 'points': 5, 'x_position': 0, 'y_position': 25}\n"
     ]
    }
   ],
   "source": [
    "print(alien_0)\n",
    "\n",
    "alien_0['x_position'] = 0\n",
    "alien_0['y_position'] = 25\n",
    "print(alien_0)"
   ]
  },
  {
   "cell_type": "markdown",
   "metadata": {},
   "source": [
    "#### Starting with an empty dictionary"
   ]
  },
  {
   "cell_type": "code",
   "execution_count": 4,
   "metadata": {},
   "outputs": [
    {
     "name": "stdout",
     "output_type": "stream",
     "text": [
      "{'color': 'green', 'points': 5}\n"
     ]
    }
   ],
   "source": [
    "alien_0 = {}\n",
    "alien_0['color'] = 'green'\n",
    "alien_0['points'] = 5\n",
    "\n",
    "print(alien_0)"
   ]
  },
  {
   "cell_type": "markdown",
   "metadata": {},
   "source": [
    "#### Modifying values in a dictionary"
   ]
  },
  {
   "cell_type": "code",
   "execution_count": 5,
   "metadata": {},
   "outputs": [
    {
     "name": "stdout",
     "output_type": "stream",
     "text": [
      "The alien is green.\n",
      "The alien is now yellow.\n"
     ]
    }
   ],
   "source": [
    "alien_0 = {'color': 'green'}\n",
    "print('The alien is ' + alien_0['color'] + '.')\n",
    "\n",
    "alien_0['color'] = 'yellow'\n",
    "print('The alien is now ' + alien_0['color'] + '.')"
   ]
  },
  {
   "cell_type": "code",
   "execution_count": 7,
   "metadata": {},
   "outputs": [
    {
     "name": "stdout",
     "output_type": "stream",
     "text": [
      "Original x-position: 0\n",
      "New x-position: 2\n"
     ]
    }
   ],
   "source": [
    "alien_0 = {'x_position': 0, 'y_position': 25, 'speed': 'medium'}\n",
    "print('Original x-position: ' + str(alien_0['x_position']))\n",
    "\n",
    "# Move the alien to the right.\n",
    "# Determine how far to move the alien based on its current speed.\n",
    "if alien_0['speed'] == 'slow':\n",
    "    x_increment = 1\n",
    "elif alien_0['speed'] == 'medium':\n",
    "    x_increment = 2\n",
    "else:\n",
    "    x_increment = 3\n",
    "\n",
    "# The new position is the old position plus the increment.\n",
    "alien_0['x_position'] = alien_0['x_position'] + x_increment\n",
    "\n",
    "print('New x-position: ' + str(alien_0['x_position']))"
   ]
  },
  {
   "cell_type": "markdown",
   "metadata": {},
   "source": [
    "#### Removing key-value pairs"
   ]
  },
  {
   "cell_type": "code",
   "execution_count": 8,
   "metadata": {},
   "outputs": [
    {
     "name": "stdout",
     "output_type": "stream",
     "text": [
      "{'color': 'green', 'points': 5}\n",
      "{'color': 'green'}\n"
     ]
    }
   ],
   "source": [
    "alien_0 = {'color': 'green', 'points': 5}\n",
    "print(alien_0)\n",
    "\n",
    "del alien_0['points']\n",
    "print(alien_0)"
   ]
  },
  {
   "cell_type": "markdown",
   "metadata": {},
   "source": [
    "#### A dictionary of similar objects"
   ]
  },
  {
   "cell_type": "code",
   "execution_count": 9,
   "metadata": {},
   "outputs": [
    {
     "name": "stdout",
     "output_type": "stream",
     "text": [
      "Sarah's favorite language is C.\n"
     ]
    }
   ],
   "source": [
    "favorite_languages = {\n",
    "    'jen': 'python',\n",
    "    'sarah': 'c',\n",
    "    'edward': 'ruby',\n",
    "    'phil': 'python',\n",
    "}\n",
    "\n",
    "print('Sarah\\'s favorite language is ' + favorite_languages['sarah'].title() + '.')"
   ]
  },
  {
   "cell_type": "markdown",
   "metadata": {},
   "source": [
    "#### Try it yourself"
   ]
  },
  {
   "cell_type": "code",
   "execution_count": 11,
   "metadata": {},
   "outputs": [
    {
     "name": "stdout",
     "output_type": "stream",
     "text": [
      "First name: Sean\n",
      "Last name: Barry\n",
      "Age: 30\n",
      "City: Portland\n"
     ]
    }
   ],
   "source": [
    "# 6-1. Person: Use a dictionary to store information about a person you know.\n",
    "# Store their first name, last name, age and the city in which they live. You\n",
    "# should have keys such as `first_name`, `last_name`, `age`, and `city`.\n",
    "# Print each piece of information stored in your dictionary.\n",
    "\n",
    "sean_barry = {'first_name': 'sean', 'last_name': 'barry', 'age': 30, 'city': 'portland'}\n",
    "print('First name: ' + sean_barry['first_name'].title())\n",
    "print('Last name: ' + sean_barry['last_name'].title())\n",
    "print('Age: ' + str(sean_barry['age']))\n",
    "print('City: ' + sean_barry['city'].title())"
   ]
  },
  {
   "cell_type": "code",
   "execution_count": 14,
   "metadata": {},
   "outputs": [
    {
     "name": "stdout",
     "output_type": "stream",
     "text": [
      "John: 3\n",
      "Mary: 21\n",
      "Alex: 69\n",
      "Jay: 49\n"
     ]
    }
   ],
   "source": [
    "# 6-2. Favorite numbers: Use a dictionary to store people's favorite numbers.\n",
    "# Think of five names, and use them as keys in your dictionary. Think of a\n",
    "# favorite number for each person, and store each as a value in your dictionary.\n",
    "# Print each person's name and their favorite number.\n",
    "\n",
    "favorite_number_for_person = {\n",
    "    'john': 3,\n",
    "    'mary': 21,\n",
    "    'alex': 69,\n",
    "    'jay': 49,\n",
    "}\n",
    "\n",
    "print('John: ' + str(favorite_number_for_person['john']))\n",
    "print('Mary: ' + str(favorite_number_for_person['mary']))\n",
    "print('Alex: ' + str(favorite_number_for_person['alex']))\n",
    "print('Jay: ' + str(favorite_number_for_person['jay']))"
   ]
  },
  {
   "cell_type": "code",
   "execution_count": 15,
   "metadata": {},
   "outputs": [
    {
     "name": "stdout",
     "output_type": "stream",
     "text": [
      "list: An Ordered Collection Of Items.\n",
      "\n",
      "dictionary: An Unordered Set Of Associated Key-Value Pairs.\n",
      "\n",
      "string: A Specialized List Of Characters, Used To Store Text Data.\n",
      "\n",
      "for-in-loop: A Loop That Evaluates Once For Each Item In A Given Collection.\n",
      "\n"
     ]
    }
   ],
   "source": [
    "# 6-3. Glossary: A Python dictionary can be used to model an actual dictionary.\n",
    "# However, to avoid confusion, let's call it a glossary.\n",
    "\n",
    "# Think of five programming words you've learned about in the previous chapters.\n",
    "# Use these words as the keys in your glossary, and store their meanings as values.\n",
    "\n",
    "programming_words = {\n",
    "    'list': 'an ordered collection of items',\n",
    "    'dictionary': 'an unordered set of associated key-value pairs',\n",
    "    'string': 'a specialized list of characters, used to store text data',\n",
    "    'for-in-loop': 'a loop that evaluates once for each item in a given collection',\n",
    "}\n",
    "\n",
    "# Print each word and its meaning as neatly formatted output. You might print the\n",
    "# word followed by a colon and then its meaning, or print the word on one line\n",
    "# and then print its meaning indented on a second line. Use the newline character (\\n)\n",
    "# to insert a blank line between each word-meaning pair.\n",
    "\n",
    "print('list: ' + programming_words['list'].title() + '.\\n')\n",
    "print('dictionary: ' + programming_words['dictionary'].title() + '.\\n')\n",
    "print('string: ' + programming_words['string'].title() + '.\\n')\n",
    "print('for-in-loop: ' + programming_words['for-in-loop'].title() + '.\\n')"
   ]
  },
  {
   "cell_type": "markdown",
   "metadata": {},
   "source": [
    "### Looping through a dictionary"
   ]
  },
  {
   "cell_type": "markdown",
   "metadata": {},
   "source": [
    "#### Looping through all key-value pairs"
   ]
  },
  {
   "cell_type": "code",
   "execution_count": 16,
   "metadata": {},
   "outputs": [
    {
     "name": "stdout",
     "output_type": "stream",
     "text": [
      "\n",
      "Key: username\n",
      "Value: efermi\n",
      "\n",
      "Key: first\n",
      "Value: enrico\n",
      "\n",
      "Key: last\n",
      "Value: fermi\n"
     ]
    }
   ],
   "source": [
    "user_0 = {\n",
    "    'username': 'efermi',\n",
    "    'first': 'enrico',\n",
    "    'last': 'fermi',\n",
    "}\n",
    "\n",
    "for key, value in user_0.items():\n",
    "    print('\\nKey: ' + key)\n",
    "    print('Value: ' + value)"
   ]
  },
  {
   "cell_type": "code",
   "execution_count": 17,
   "metadata": {},
   "outputs": [
    {
     "name": "stdout",
     "output_type": "stream",
     "text": [
      "Jen's favorite language is Python.\n",
      "Sarah's favorite language is C.\n",
      "Edward's favorite language is Ruby.\n",
      "Phil's favorite language is Python.\n"
     ]
    }
   ],
   "source": [
    "for name, language in favorite_languages.items():\n",
    "    print(name.title() + \"'s favorite language is \" + language.title() + \".\")"
   ]
  },
  {
   "cell_type": "markdown",
   "metadata": {},
   "source": [
    "#### Looping through all the keys in a dictionary"
   ]
  },
  {
   "cell_type": "code",
   "execution_count": 19,
   "metadata": {},
   "outputs": [
    {
     "name": "stdout",
     "output_type": "stream",
     "text": [
      "Jen\n",
      "Sarah\n",
      "Edward\n",
      "Phil\n"
     ]
    }
   ],
   "source": [
    "for name in favorite_languages.keys():\n",
    "    print(name.title())"
   ]
  },
  {
   "cell_type": "code",
   "execution_count": 20,
   "metadata": {},
   "outputs": [
    {
     "name": "stdout",
     "output_type": "stream",
     "text": [
      "Jen\n",
      "Sarah\n",
      "Edward\n",
      "Phil\n"
     ]
    }
   ],
   "source": [
    "# same as above\n",
    "for name in favorite_languages:\n",
    "    print(name.title())"
   ]
  },
  {
   "cell_type": "code",
   "execution_count": 22,
   "metadata": {},
   "outputs": [
    {
     "name": "stdout",
     "output_type": "stream",
     "text": [
      "Jen\n",
      "Sarah\n",
      " Hi Sarah, I see your favorite language is C!\n",
      "Edward\n",
      "Phil\n",
      " Hi Phil, I see your favorite language is Python!\n"
     ]
    }
   ],
   "source": [
    "friends = ['phil', 'sarah']\n",
    "for name in favorite_languages.keys():\n",
    "    print(name.title())\n",
    "    \n",
    "    if name in friends:\n",
    "        print(' Hi ' + name.title()\n",
    "             + ', I see your favorite language is '\n",
    "             + favorite_languages[name].title() + '!')"
   ]
  },
  {
   "cell_type": "code",
   "execution_count": 23,
   "metadata": {},
   "outputs": [
    {
     "name": "stdout",
     "output_type": "stream",
     "text": [
      "Erin, please take our poll!\n"
     ]
    }
   ],
   "source": [
    "if 'erin' not in favorite_languages.keys():\n",
    "    print('Erin, please take our poll!')"
   ]
  },
  {
   "cell_type": "markdown",
   "metadata": {},
   "source": [
    "#### Looping through a dictionary's keys in order"
   ]
  },
  {
   "cell_type": "code",
   "execution_count": 24,
   "metadata": {},
   "outputs": [
    {
     "name": "stdout",
     "output_type": "stream",
     "text": [
      "Edward, thank you for taking the poll.\n",
      "Jen, thank you for taking the poll.\n",
      "Phil, thank you for taking the poll.\n",
      "Sarah, thank you for taking the poll.\n"
     ]
    }
   ],
   "source": [
    "for name in sorted(favorite_languages.keys()):\n",
    "    print(name.title() + ', thank you for taking the poll.')"
   ]
  },
  {
   "cell_type": "markdown",
   "metadata": {},
   "source": [
    "#### Looping through all values in a dictionary"
   ]
  },
  {
   "cell_type": "code",
   "execution_count": 26,
   "metadata": {},
   "outputs": [
    {
     "name": "stdout",
     "output_type": "stream",
     "text": [
      "The following languages have been mentiond:\n",
      "Python\n",
      "C\n",
      "Ruby\n",
      "Python\n"
     ]
    }
   ],
   "source": [
    "print('The following languages have been mentiond:')\n",
    "for language in favorite_languages.values():\n",
    "    print(language.title())"
   ]
  },
  {
   "cell_type": "code",
   "execution_count": 27,
   "metadata": {},
   "outputs": [
    {
     "name": "stdout",
     "output_type": "stream",
     "text": [
      "C\n",
      "Python\n",
      "Ruby\n"
     ]
    }
   ],
   "source": [
    "# only uniques using set\n",
    "for language in set(favorite_languages.values()):\n",
    "    print(language.title())"
   ]
  },
  {
   "cell_type": "markdown",
   "metadata": {},
   "source": [
    "#### Try it yourself"
   ]
  },
  {
   "cell_type": "code",
   "execution_count": 31,
   "metadata": {},
   "outputs": [
    {
     "name": "stdout",
     "output_type": "stream",
     "text": [
      "list: An Ordered Collection Of Items.\n",
      "\n",
      "dictionary: An Unordered Set Of Associated Key-Value Pairs.\n",
      "\n",
      "string: A Specialized List Of Characters, Used To Store Text Data.\n",
      "\n",
      "for-in-loop: A Loop That Evaluates Once For Each Item In A Given Collection.\n",
      "\n",
      "set: An Unordered Collection Of Unique Items.\n",
      "\n",
      "comment: Explanatory Text Intended For A Human Reader, Which Is Not Parsed Or Executed.\n",
      "\n",
      "if-statement: A Statement That Evaluates Boolean Condition And Executes Its Block If It Evaluates To `True`.\n",
      "\n",
      "del: A Python Keyword That Clears A Variable And Its Value From Memory.\n",
      "\n",
      "assignment: Linking A Value To A Variable.\n",
      "\n"
     ]
    }
   ],
   "source": [
    "# 6-4. Glossary 2: Now that you know how to loop through a dictionary,\n",
    "# clean up the code from 6-3 by replacing your series of `print` statements\n",
    "# with a loop that runs through the dictionary's keys and values.\n",
    "# When you're sure that your loop works, add five more Python terms to your\n",
    "# glossary. When you run your program again, these new words and meanings\n",
    "# should automatically be included in the output.\n",
    "\n",
    "programming_words['set'] = 'an unordered collection of unique items'\n",
    "programming_words['comment'] = 'explanatory text intended for a human reader, which is not parsed or executed'\n",
    "programming_words['if-statement'] = 'a statement that evaluates boolean condition and executes its block if ' +\\\n",
    "                                        'it evaluates to `True`'\n",
    "programming_words['del'] = 'a Python keyword that clears a variable and its value from memory'\n",
    "programming_words['assignment'] = 'linking a value to a variable'\n",
    "\n",
    "for programming_word, definition in programming_words.items():\n",
    "    print(programming_word + ': ' + definition.title() + '.\\n')"
   ]
  },
  {
   "cell_type": "code",
   "execution_count": 37,
   "metadata": {},
   "outputs": [
    {
     "name": "stdout",
     "output_type": "stream",
     "text": [
      "The Nile runs through Egypt.\n",
      "The Tigris runs through Turkey.\n",
      "The Mississipi runs through Usa.\n",
      "\n",
      "\n",
      "Nile\n",
      "Tigris\n",
      "Mississipi\n",
      "\n",
      "\n",
      "Egypt\n",
      "Turkey\n",
      "Usa\n"
     ]
    }
   ],
   "source": [
    "# 6-5. Rivers: Make a dictionary containing three major rivers and the country\n",
    "# each river runs through. One key-value pair might be 'nile': 'egypt'.\n",
    "\n",
    "country_for_river = {\n",
    "    'nile': 'egypt',\n",
    "    'tigris': 'turkey',\n",
    "    'mississipi': 'usa',\n",
    "}\n",
    "\n",
    "# Use a loop to print a sentence about each river, such as 'The Nile runs through Egypt.'\n",
    "for river, country in country_for_river.items():\n",
    "    print('The ' + river.title() + ' runs through ' + country.title() + '.')\n",
    "    \n",
    "# Use a loop to print the name of each river included in the dictionary.\n",
    "print('\\n')\n",
    "for river in country_for_river.keys():\n",
    "    print(river.title())\n",
    "\n",
    "print('\\n')\n",
    "for country in country_for_river.values():\n",
    "    print(country.title())"
   ]
  },
  {
   "cell_type": "code",
   "execution_count": 38,
   "metadata": {},
   "outputs": [
    {
     "name": "stdout",
     "output_type": "stream",
     "text": [
      "Thank you for taking the poll, Phil.\n",
      "Thank you for taking the poll, Sarah.\n",
      "Please take the poll, John.\n",
      "Thank you for taking the poll, Jen.\n",
      "Please take the poll, Kate.\n"
     ]
    }
   ],
   "source": [
    "# 6-6. Polling: Use the code in favorite_languages.py.\n",
    "# Make a list of people who should take the favorite languages poll.\n",
    "# Include some names that are already in the dictionary and some that are not.\n",
    "\n",
    "people_to_poll = ['phil', 'sarah', 'john', 'jen', 'kate']\n",
    "\n",
    "# Loop through the list of people who should take the poll. If they have already\n",
    "# taken the poll, print a message thanking them for responding. If they have not\n",
    "# yet taken the poll, print a message inviting them to take the poll.\n",
    "\n",
    "for person_to_poll in people_to_poll:\n",
    "    if person_to_poll in favorite_languages.keys():\n",
    "        print('Thank you for taking the poll, ' + person_to_poll.title() + '.')\n",
    "    else:\n",
    "        print('Please take the poll, ' + person_to_poll.title() + '.')"
   ]
  },
  {
   "cell_type": "markdown",
   "metadata": {},
   "source": [
    "### Nesting"
   ]
  },
  {
   "cell_type": "markdown",
   "metadata": {},
   "source": [
    "#### A list of dictionaries"
   ]
  },
  {
   "cell_type": "code",
   "execution_count": 39,
   "metadata": {},
   "outputs": [
    {
     "name": "stdout",
     "output_type": "stream",
     "text": [
      "{'color': 'green', 'points': 5}\n",
      "{'color': 'yellow', 'points': 10}\n",
      "{'color': 'red', 'points': 15}\n"
     ]
    }
   ],
   "source": [
    "alien_0 = {'color': 'green', 'points': 5}\n",
    "alien_1 = {'color': 'yellow', 'points': 10}\n",
    "alien_2 = {'color': 'red', 'points': 15}\n",
    "\n",
    "aliens = [alien_0, alien_1, alien_2]\n",
    "\n",
    "for alien in aliens:\n",
    "    print(alien)"
   ]
  },
  {
   "cell_type": "code",
   "execution_count": 40,
   "metadata": {},
   "outputs": [
    {
     "name": "stdout",
     "output_type": "stream",
     "text": [
      "{'color': 'green', 'points': 5, 'speed': 'slow'}\n",
      "{'color': 'green', 'points': 5, 'speed': 'slow'}\n",
      "{'color': 'green', 'points': 5, 'speed': 'slow'}\n",
      "{'color': 'green', 'points': 5, 'speed': 'slow'}\n",
      "{'color': 'green', 'points': 5, 'speed': 'slow'}\n",
      "...\n",
      "Total number of aliens: 30\n"
     ]
    }
   ],
   "source": [
    "aliens = []\n",
    "\n",
    "# Make 30 green aliens.\n",
    "for alien_number in range(30):\n",
    "    new_alien = {'color': 'green', 'points': 5, 'speed': 'slow'}\n",
    "    aliens.append(new_alien)\n",
    "\n",
    "# Show the first 5 aliens.\n",
    "for alien in aliens[:5]:\n",
    "    print(alien)\n",
    "print('...')\n",
    "\n",
    "# Show how many aliens have been created.\n",
    "print('Total number of aliens: ' + str(len(aliens)))"
   ]
  },
  {
   "cell_type": "code",
   "execution_count": 42,
   "metadata": {},
   "outputs": [
    {
     "name": "stdout",
     "output_type": "stream",
     "text": [
      "{'color': 'yellow', 'points': 10, 'speed': 'medium'}\n",
      "{'color': 'yellow', 'points': 10, 'speed': 'medium'}\n",
      "{'color': 'yellow', 'points': 10, 'speed': 'medium'}\n",
      "{'color': 'green', 'points': 5, 'speed': 'slow'}\n",
      "{'color': 'green', 'points': 5, 'speed': 'slow'}\n",
      "...\n"
     ]
    }
   ],
   "source": [
    "for alien in aliens[:3]:\n",
    "    if alien['color'] == 'green':\n",
    "        alien['color'] = 'yellow'\n",
    "        alien['speed'] = 'medium'\n",
    "        alien['points'] = 10\n",
    "# Show the first 5 aliens.\n",
    "for alien in aliens[:5]:\n",
    "    print(alien)\n",
    "print('...')"
   ]
  },
  {
   "cell_type": "markdown",
   "metadata": {},
   "source": [
    "#### A list in a dictionary"
   ]
  },
  {
   "cell_type": "code",
   "execution_count": 43,
   "metadata": {},
   "outputs": [
    {
     "name": "stdout",
     "output_type": "stream",
     "text": [
      "You ordered a thick-crust pizza with the following toppings:\n",
      "\tmushrooms\n",
      "\textra cheese\n"
     ]
    }
   ],
   "source": [
    "pizza = {\n",
    "    'crust': 'thick',\n",
    "    'toppings': ['mushrooms', 'extra cheese']\n",
    "}\n",
    "\n",
    "print('You ordered a ' + pizza['crust'] + '-crust pizza '\n",
    "      + 'with the following toppings:')\n",
    "\n",
    "for topping in pizza['toppings']:\n",
    "    print('\\t' + topping)"
   ]
  },
  {
   "cell_type": "code",
   "execution_count": 44,
   "metadata": {},
   "outputs": [
    {
     "name": "stdout",
     "output_type": "stream",
     "text": [
      "\n",
      "Jen's favorite languages are:\n",
      "\tPython\n",
      "\tRuby\n",
      "\n",
      "Sarah's favorite languages are:\n",
      "\tC\n",
      "\n",
      "Edward's favorite languages are:\n",
      "\tRuby\n",
      "\tGo\n",
      "\n",
      "Phil's favorite languages are:\n",
      "\tPython\n",
      "\tHaskell\n"
     ]
    }
   ],
   "source": [
    "favorite_languages = {\n",
    "    'jen': ['python', 'ruby'],\n",
    "    'sarah': ['c'],\n",
    "    'edward': ['ruby', 'go'],\n",
    "    'phil': ['python', 'haskell'],\n",
    "}\n",
    "\n",
    "for name, languages in favorite_languages.items():\n",
    "    print('\\n' + name.title() + '\\'s favorite languages are:')\n",
    "    for language in languages:\n",
    "        print('\\t' + language.title())"
   ]
  },
  {
   "cell_type": "markdown",
   "metadata": {},
   "source": [
    "#### A dictionary in a dictionary"
   ]
  },
  {
   "cell_type": "code",
   "execution_count": 46,
   "metadata": {},
   "outputs": [
    {
     "name": "stdout",
     "output_type": "stream",
     "text": [
      "\n",
      "Username: aeinstein\n",
      "\tFull name: Albert Einstein\n",
      "\tLocation: Princeton\n",
      "\n",
      "Username: mcurie\n",
      "\tFull name: Marie Curie\n",
      "\tLocation: Paris\n"
     ]
    }
   ],
   "source": [
    "users = {\n",
    "    'aeinstein': {\n",
    "        'first': 'albert',\n",
    "        'last': 'einstein',\n",
    "        'location': 'princeton',\n",
    "    },\n",
    "    'mcurie': {\n",
    "        'first': 'marie',\n",
    "        'last': 'curie',\n",
    "        'location': 'paris',\n",
    "    },\n",
    "}\n",
    "\n",
    "for username, user_info in users.items():\n",
    "    print('\\nUsername: ' + username)\n",
    "    full_name = user_info['first'] + ' ' + user_info['last']\n",
    "    location = user_info['location']\n",
    "    \n",
    "    print('\\tFull name: ' + full_name.title())\n",
    "    print('\\tLocation: ' + location.title())"
   ]
  },
  {
   "cell_type": "markdown",
   "metadata": {},
   "source": [
    "#### Try it yourself"
   ]
  },
  {
   "cell_type": "code",
   "execution_count": 47,
   "metadata": {},
   "outputs": [
    {
     "name": "stdout",
     "output_type": "stream",
     "text": [
      "\n",
      "First name: Sean\n",
      "Last name: Barry\n",
      "Age: 30\n",
      "City: Portland\n",
      "\n",
      "First name: Sean\n",
      "Last name: Sanford\n",
      "Age: 31\n",
      "City: Portland\n",
      "\n",
      "First name: Donald\n",
      "Last name: Glover\n",
      "Age: 34\n",
      "City: Los Angeles\n"
     ]
    }
   ],
   "source": [
    "# 6-7. People: Start with the program you wrote for 6-1.\n",
    "# Make two new dictionaries representing different people, and store all three\n",
    "# dictionaries in a list called people.  Loop through your list of people.\n",
    "# As you loop through the list, print everything you know about each person.\n",
    "\n",
    "sean_barry = {'first_name': 'sean', 'last_name': 'barry', 'age': 30, 'city': 'portland'}\n",
    "sean_sanford = {'first_name': 'sean', 'last_name': 'sanford', 'age': 31, 'city': 'portland'}\n",
    "donald_glover = {'first_name': 'donald', 'last_name': 'glover', 'age': 34, 'city': 'los angeles'}\n",
    "\n",
    "people = [sean_barry, sean_sanford, donald_glover]\n",
    "\n",
    "for person in people:\n",
    "    print('\\nFirst name: ' + person['first_name'].title())\n",
    "    print('Last name: ' + person['last_name'].title())\n",
    "    print('Age: ' + str(person['age']))\n",
    "    print('City: ' + person['city'].title())"
   ]
  },
  {
   "cell_type": "code",
   "execution_count": 49,
   "metadata": {},
   "outputs": [
    {
     "name": "stdout",
     "output_type": "stream",
     "text": [
      "\n",
      "Type: dog\n",
      "Owner: Wendy Thoren\n",
      "\n",
      "Type: cat\n",
      "Owner: Emily Mercer\n",
      "\n",
      "Type: bird\n",
      "Owner: Magen Saralampi\n"
     ]
    }
   ],
   "source": [
    "# 6-8. Pets: Make several dictionaries, where the name of each dictionary is the name of a pet.\n",
    "# In each dictionary, include the kind of animal and the owner's name. Store these\n",
    "# dictionaries in a list called `pets`. Next, loop through your list and as you do print\n",
    "# everything you know about each pet.\n",
    "\n",
    "gus = {\n",
    "    'type': 'dog',\n",
    "    'owner': 'wendy thoren',\n",
    "}\n",
    "circe = {\n",
    "    'type': 'cat',\n",
    "    'owner': 'emily mercer',\n",
    "}\n",
    "monty = {\n",
    "    'type': 'bird',\n",
    "    'owner': 'magen saralampi'\n",
    "}\n",
    "pets = [gus, circe, monty]\n",
    "\n",
    "for pet in pets:\n",
    "    print('\\nType: ' + pet['type'])\n",
    "    print('Owner: ' + pet['owner'].title())"
   ]
  },
  {
   "cell_type": "code",
   "execution_count": 54,
   "metadata": {},
   "outputs": [
    {
     "name": "stdout",
     "output_type": "stream",
     "text": [
      "\n",
      "Emily's favorite places are:\n",
      "\tNew Orleans\n",
      "\tPortland\n",
      "\tKawaii\n",
      "\n",
      "Margo's favorite places are:\n",
      "\tJapan\n",
      "\tViet Nam\n",
      "\n",
      "Ken's favorite places are:\n",
      "\tGermany\n",
      "\tKenya\n"
     ]
    }
   ],
   "source": [
    "# 6-9. Favorite places: Make a dictionary called `favorite places`. Think of three\n",
    "# names to use as keys in the dictionary, and store one to three favorite places\n",
    "# for each person.\n",
    "\n",
    "favorite_places = {\n",
    "    'emily': ['new orleans', 'portland', 'kawaii'],\n",
    "    'margo': ['japan', 'viet nam'],\n",
    "    'ken': ['germany', 'kenya'],\n",
    "}\n",
    "\n",
    "for name, favorite_places in favorite_places.items():\n",
    "    print('\\n' + name.title() + '\\'s favorite places are:')\n",
    "    for favorite_place in favorite_places:\n",
    "        print('\\t' + favorite_place.title())"
   ]
  },
  {
   "cell_type": "code",
   "execution_count": 55,
   "metadata": {},
   "outputs": [
    {
     "name": "stdout",
     "output_type": "stream",
     "text": [
      "John's favorite numbers:\n",
      "\t3\n",
      "\t5\n",
      "Mary's favorite numbers:\n",
      "\t21\n",
      "\t64\n",
      "Alex's favorite numbers:\n",
      "\t69\n",
      "\t420\n",
      "Jay's favorite numbers:\n",
      "\t49\n",
      "\t121\n",
      "\t1080\n"
     ]
    }
   ],
   "source": [
    "# 6-10. Favorite numbers: Modify your program from 6-2 so each person can have more than\n",
    "# one favorite number. Then print each person's name along with their favorite numbers.\n",
    "\n",
    "\n",
    "favorite_numbers_for_person = {\n",
    "    'john': [3, 5],\n",
    "    'mary': [21, 64],\n",
    "    'alex': [69, 420],\n",
    "    'jay': [49, 121, 1080],\n",
    "}\n",
    "\n",
    "for person, favorite_numbers in favorite_numbers_for_person.items():\n",
    "    print(person.title() + '\\'s favorite numbers:')\n",
    "    for favorite_number in favorite_numbers:\n",
    "        print('\\t' + str(favorite_number))"
   ]
  },
  {
   "cell_type": "code",
   "execution_count": 62,
   "metadata": {},
   "outputs": [
    {
     "name": "stdout",
     "output_type": "stream",
     "text": [
      "\n",
      "Minneapolis info:\n",
      "\tCountry: Usa\n",
      "\tPopulation: 4000000\n",
      "\tFact: Karl's home town!\n",
      "\n",
      "Tokyo info:\n",
      "\tCountry: Japan\n",
      "\tPopulation: 100000000\n",
      "\tFact: Where karl wants to travel next.\n",
      "\n",
      "Playa Grande info:\n",
      "\tCountry: Costa rica\n",
      "\tPopulation: 400000\n",
      "\tFact: Karl has travelled here.\n"
     ]
    }
   ],
   "source": [
    "# 6-11 Cities: Make a dictionary called `cities`. Use the names of three cities as\n",
    "# keys in your dictionary. Create a dictionary of information about each city and\n",
    "# include the country that the city is in, its approximate population, and one fact\n",
    "# about that city. The keys for each city's dictionary should be something like\n",
    "# `country`, `population`, and `fact`. Print the name of each city and all of the\n",
    "# information you have stored about it.\n",
    "\n",
    "cities = {\n",
    "    'minneapolis': {\n",
    "        'country': 'usa',\n",
    "        'population': 4_000_000,\n",
    "        'fact': 'Karl\\'s home town!',\n",
    "    },\n",
    "    'tokyo': {\n",
    "        'country': 'japan',\n",
    "        'population': 100_000_000,\n",
    "        'fact': 'Where Karl wants to travel next.',\n",
    "    },\n",
    "    'playa grande': {\n",
    "        'country': 'costa rica',\n",
    "        'population': 400_000,\n",
    "        'fact': 'Karl has travelled here.',\n",
    "    },\n",
    "}\n",
    "\n",
    "for city, info in cities.items():\n",
    "    print('\\n' + city.title() + ' info:')\n",
    "    for key, value in info.items():\n",
    "        print('\\t' + key.capitalize() + ': ' + str(value).capitalize())"
   ]
  },
  {
   "cell_type": "code",
   "execution_count": 67,
   "metadata": {},
   "outputs": [
    {
     "name": "stdout",
     "output_type": "stream",
     "text": [
      "color: green\n",
      "points: 5\n",
      "\n",
      "\n",
      "color: yellow\n",
      "points: 10\n",
      "\n",
      "\n",
      "color: red\n",
      "points: 15\n",
      "\n",
      "\n",
      "color: purple\n",
      "points: 30\n",
      "\n",
      "\n"
     ]
    }
   ],
   "source": [
    "# 6-12. Extensions: We're now working with examples that are complex enough that they\n",
    "# can be extended in any number of ways. Use one of the example programs from this chapter,\n",
    "# and extend it by adding new keys and values, changing the context of the program or\n",
    "# improving the formatting of the output.\n",
    "\n",
    "\n",
    "aliens = [\n",
    "    {'color': 'green', 'points': 5},\n",
    "    {'color': 'yellow', 'points': 10},\n",
    "    {'color': 'red', 'points': 15},\n",
    "    {'color': 'purple', 'points': 30},\n",
    "]\n",
    "\n",
    "for alien in aliens:\n",
    "    for key, value in alien.items():\n",
    "        print(key + ': ' + str(value))\n",
    "    print('\\n')"
   ]
  },
  {
   "cell_type": "code",
   "execution_count": null,
   "metadata": {},
   "outputs": [],
   "source": []
  }
 ],
 "metadata": {
  "kernelspec": {
   "display_name": "Python 3",
   "language": "python",
   "name": "python3"
  },
  "language_info": {
   "codemirror_mode": {
    "name": "ipython",
    "version": 3
   },
   "file_extension": ".py",
   "mimetype": "text/x-python",
   "name": "python",
   "nbconvert_exporter": "python",
   "pygments_lexer": "ipython3",
   "version": "3.6.2"
  }
 },
 "nbformat": 4,
 "nbformat_minor": 2
}
