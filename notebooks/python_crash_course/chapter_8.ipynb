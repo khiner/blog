{
 "cells": [
  {
   "cell_type": "markdown",
   "metadata": {},
   "source": [
    "# Chapter 8\n",
    "## Functions"
   ]
  },
  {
   "cell_type": "markdown",
   "metadata": {},
   "source": [
    "### Defining a function"
   ]
  },
  {
   "cell_type": "code",
   "execution_count": 1,
   "metadata": {},
   "outputs": [
    {
     "name": "stdout",
     "output_type": "stream",
     "text": [
      "Hello!\n"
     ]
    }
   ],
   "source": [
    "def greet_user():\n",
    "    \"\"\"Display a simple greeting.\"\"\"\n",
    "    print('Hello!')\n",
    "\n",
    "greet_user()"
   ]
  },
  {
   "cell_type": "markdown",
   "metadata": {},
   "source": [
    "#### Passing information to a function"
   ]
  },
  {
   "cell_type": "code",
   "execution_count": 2,
   "metadata": {},
   "outputs": [
    {
     "name": "stdout",
     "output_type": "stream",
     "text": [
      "Hello, Jesse!\n"
     ]
    }
   ],
   "source": [
    "def greet_user(username):\n",
    "    \"\"\"Display a simple greeting.\"\"\"\n",
    "    print('Hello, ' + username.title() + '!')\n",
    "\n",
    "greet_user('jesse')"
   ]
  },
  {
   "cell_type": "markdown",
   "metadata": {},
   "source": [
    "#### Arguments and parameters"
   ]
  },
  {
   "cell_type": "code",
   "execution_count": 3,
   "metadata": {},
   "outputs": [
    {
     "name": "stdout",
     "output_type": "stream",
     "text": [
      "Hello everyone! I am learning about Python functions.\n"
     ]
    }
   ],
   "source": [
    "# 8-1. Message: Write a function called `display_message()` that prints one\n",
    "# sentence telling everyone what you are learning about in this chapter.\n",
    "# Call the function, and make sure the message displays correctly.\n",
    "\n",
    "def display_message():\n",
    "    print('Hello everyone! I am learning about Python functions.')\n",
    "\n",
    "display_message()"
   ]
  },
  {
   "cell_type": "code",
   "execution_count": 4,
   "metadata": {},
   "outputs": [
    {
     "name": "stdout",
     "output_type": "stream",
     "text": [
      "One of my favorite books is \"The Computatioal Beauty Of Nature\".\n"
     ]
    }
   ],
   "source": [
    "# 8-2. Favorite book: Write a function called `favorite_book()` that accepts\n",
    "# one parameter, `title`. The function should print a message, such as 'One of\n",
    "# my favorite books is \"Alice in Wonderland\". Call the function, making sure\n",
    "# to include a book title as an argument in the function call.\n",
    "\n",
    "def favorite_book(title):\n",
    "    print('One of my favorite books is \"' + title.title() + '\".')\n",
    "\n",
    "favorite_book('The Computatioal Beauty of Nature')"
   ]
  },
  {
   "cell_type": "markdown",
   "metadata": {},
   "source": [
    "### Passing arguments"
   ]
  },
  {
   "cell_type": "markdown",
   "metadata": {},
   "source": [
    "#### Positional arguments"
   ]
  },
  {
   "cell_type": "code",
   "execution_count": 5,
   "metadata": {},
   "outputs": [
    {
     "name": "stdout",
     "output_type": "stream",
     "text": [
      "\n",
      "I have a hamster.\n",
      "My hamster's name is Harry.\n"
     ]
    }
   ],
   "source": [
    "def describe_pet(animal_type, pet_name):\n",
    "    \"\"\"Display information about a pet.\"\"\"\n",
    "    print('\\nI have a ' + animal_type + '.')\n",
    "    print('My ' + animal_type + '\\'s name is ' + pet_name.title() + '.')\n",
    "\n",
    "describe_pet('hamster', 'harry')"
   ]
  },
  {
   "cell_type": "code",
   "execution_count": 6,
   "metadata": {},
   "outputs": [
    {
     "name": "stdout",
     "output_type": "stream",
     "text": [
      "\n",
      "I have a dog.\n",
      "My dog's name is Willie.\n"
     ]
    }
   ],
   "source": [
    "describe_pet('dog', 'willie')"
   ]
  },
  {
   "cell_type": "code",
   "execution_count": 7,
   "metadata": {},
   "outputs": [
    {
     "name": "stdout",
     "output_type": "stream",
     "text": [
      "\n",
      "I have a harry.\n",
      "My harry's name is Hamster.\n"
     ]
    }
   ],
   "source": [
    "# Order matters for positional arguments!\n",
    "describe_pet('harry', 'hamster')"
   ]
  },
  {
   "cell_type": "markdown",
   "metadata": {},
   "source": [
    "#### Keyword arguments"
   ]
  },
  {
   "cell_type": "code",
   "execution_count": 8,
   "metadata": {},
   "outputs": [
    {
     "name": "stdout",
     "output_type": "stream",
     "text": [
      "\n",
      "I have a hamster.\n",
      "My hamster's name is Harry.\n"
     ]
    }
   ],
   "source": [
    "describe_pet(animal_type='hamster', pet_name='harry')"
   ]
  },
  {
   "cell_type": "code",
   "execution_count": 9,
   "metadata": {},
   "outputs": [
    {
     "name": "stdout",
     "output_type": "stream",
     "text": [
      "\n",
      "I have a hamster.\n",
      "My hamster's name is Harry.\n"
     ]
    }
   ],
   "source": [
    "# Order does not matter for keyword arguments.\n",
    "describe_pet(pet_name='harry', animal_type='hamster')"
   ]
  },
  {
   "cell_type": "markdown",
   "metadata": {},
   "source": [
    "#### Default values"
   ]
  },
  {
   "cell_type": "code",
   "execution_count": 10,
   "metadata": {},
   "outputs": [
    {
     "name": "stdout",
     "output_type": "stream",
     "text": [
      "\n",
      "I have a dog.\n",
      "My dog's name is Willie.\n"
     ]
    }
   ],
   "source": [
    "def describe_pet(pet_name, animal_type='dog'):\n",
    "    \"\"\"Display information about a pet.\"\"\"\n",
    "    print('\\nI have a ' + animal_type + '.')\n",
    "    print('My ' + animal_type + '\\'s name is ' + pet_name.title() + '.')\n",
    "\n",
    "describe_pet(pet_name='willie')"
   ]
  },
  {
   "cell_type": "code",
   "execution_count": 11,
   "metadata": {},
   "outputs": [
    {
     "name": "stdout",
     "output_type": "stream",
     "text": [
      "\n",
      "I have a dog.\n",
      "My dog's name is Willie.\n"
     ]
    }
   ],
   "source": [
    "# Position still works.\n",
    "describe_pet('willie')"
   ]
  },
  {
   "cell_type": "code",
   "execution_count": 12,
   "metadata": {},
   "outputs": [
    {
     "name": "stdout",
     "output_type": "stream",
     "text": [
      "\n",
      "I have a hamster.\n",
      "My hamster's name is Harry.\n"
     ]
    }
   ],
   "source": [
    "# ... and overriding with keword arguments still works.\n",
    "describe_pet(pet_name='harry', animal_type='hamster')"
   ]
  },
  {
   "cell_type": "markdown",
   "metadata": {},
   "source": [
    "#### Equivalent function calls"
   ]
  },
  {
   "cell_type": "code",
   "execution_count": 13,
   "metadata": {},
   "outputs": [
    {
     "name": "stdout",
     "output_type": "stream",
     "text": [
      "\n",
      "I have a hamster.\n",
      "My hamster's name is Harry.\n",
      "\n",
      "I have a hamster.\n",
      "My hamster's name is Harry.\n",
      "\n",
      "I have a hamster.\n",
      "My hamster's name is Harry.\n"
     ]
    }
   ],
   "source": [
    "describe_pet('harry', 'hamster')\n",
    "describe_pet(pet_name='harry', animal_type='hamster')\n",
    "describe_pet(animal_type='hamster', pet_name='harry')"
   ]
  },
  {
   "cell_type": "markdown",
   "metadata": {},
   "source": [
    "#### Avoiding argument errors"
   ]
  },
  {
   "cell_type": "code",
   "execution_count": 14,
   "metadata": {},
   "outputs": [
    {
     "ename": "TypeError",
     "evalue": "describe_pet() missing 1 required positional argument: 'pet_name'",
     "output_type": "error",
     "traceback": [
      "\u001b[0;31m---------------------------------------------------------------------------\u001b[0m",
      "\u001b[0;31mTypeError\u001b[0m                                 Traceback (most recent call last)",
      "\u001b[0;32m<ipython-input-14-c5ad95588fb7>\u001b[0m in \u001b[0;36m<module>\u001b[0;34m()\u001b[0m\n\u001b[1;32m      1\u001b[0m \u001b[0;31m# Generate a type error:\u001b[0m\u001b[0;34m\u001b[0m\u001b[0;34m\u001b[0m\u001b[0m\n\u001b[0;32m----> 2\u001b[0;31m \u001b[0mdescribe_pet\u001b[0m\u001b[0;34m(\u001b[0m\u001b[0;34m)\u001b[0m\u001b[0;34m\u001b[0m\u001b[0m\n\u001b[0m",
      "\u001b[0;31mTypeError\u001b[0m: describe_pet() missing 1 required positional argument: 'pet_name'"
     ]
    }
   ],
   "source": [
    "# Generate a missing-argument error:\n",
    "describe_pet()"
   ]
  },
  {
   "cell_type": "markdown",
   "metadata": {},
   "source": [
    "#### Try it yourself"
   ]
  },
  {
   "cell_type": "code",
   "execution_count": 20,
   "metadata": {},
   "outputs": [
    {
     "name": "stdout",
     "output_type": "stream",
     "text": [
      "Making a medium-sized shirt with the message 'Heynongman!'.\n",
      "Making a medium-sized shirt with the message 'Heynongman!'.\n"
     ]
    }
   ],
   "source": [
    "# 8-3. T-shirt: Write a function called `make_shirt()` that accepts a size\n",
    "# and the text of a message that should be printed on the shirt. The function\n",
    "# should print a sentence summarizing the size of the shirt and the message\n",
    "# printed on it.\n",
    "\n",
    "def make_shirt(size, message):\n",
    "    print('Making a ' + size + '-sized shirt with the message \\'' + message + '\\'.')\n",
    "\n",
    "# Call the function once using positional arguments to make a shirt.\n",
    "make_shirt('medium', 'Heynongman!')\n",
    "# Call the function a second time using keyword arguments.\n",
    "make_shirt(message='Heynongman!', size='medium')"
   ]
  },
  {
   "cell_type": "code",
   "execution_count": 21,
   "metadata": {},
   "outputs": [
    {
     "name": "stdout",
     "output_type": "stream",
     "text": [
      "Making a large-sized shirt with the message I love Python.\n",
      "Making a medium-sized shirt with the message I love Python.\n",
      "Making a large-sized shirt with the message Heynongman!.\n"
     ]
    }
   ],
   "source": [
    "# 8-4. Large shirts: Modify the `make_shirt()` function so that shirts are large\n",
    "# by default with a message that reads 'I love Python.'\n",
    "\n",
    "def make_shirt(size='large', message='I love Python'):\n",
    "    print('Making a ' + size + '-sized shirt with the message ' + message + '.')\n",
    "\n",
    "# Make a large shirt and a medium shirt with the default message,\n",
    "make_shirt()\n",
    "make_shirt('medium')\n",
    "\n",
    "# and a shirt of any size with a different message.\n",
    "make_shirt(message='Heynongman!')"
   ]
  },
  {
   "cell_type": "code",
   "execution_count": 22,
   "metadata": {},
   "outputs": [
    {
     "name": "stdout",
     "output_type": "stream",
     "text": [
      "Kópavogur is in Iceland\n",
      "Akureyri is in Iceland\n",
      "London is in England\n"
     ]
    }
   ],
   "source": [
    "# 8-5. Cities: Write a function called `describe_city()` that accepts the name\n",
    "# of a city and its country. The function should print a simple sentence, such\n",
    "# as 'Reykjavik is in Iceland.' Give the parameter for the country a default\n",
    "# value.\n",
    "\n",
    "def describe_city(city_name, country='iceland'):\n",
    "    print(city_name.title() + ' is in ' + country.title())\n",
    "\n",
    "# Call your function for three different cities, at least one of which\n",
    "# is not in the default country.\n",
    "\n",
    "describe_city('kópavogur')\n",
    "describe_city('akureyri')\n",
    "describe_city('london', 'england')"
   ]
  },
  {
   "cell_type": "markdown",
   "metadata": {},
   "source": [
    "### Return values"
   ]
  },
  {
   "cell_type": "markdown",
   "metadata": {},
   "source": [
    "#### Returning a simple value"
   ]
  },
  {
   "cell_type": "code",
   "execution_count": 1,
   "metadata": {},
   "outputs": [
    {
     "name": "stdout",
     "output_type": "stream",
     "text": [
      "Jimi Hendrix\n"
     ]
    }
   ],
   "source": [
    "def get_formatted_name(first_name, last_name):\n",
    "    \"\"\"Return a full name, neatly formatted\"\"\"\n",
    "    full_name = first_name + ' ' + last_name\n",
    "    return full_name.title()\n",
    "\n",
    "musician = get_formatted_name('jimi', 'hendrix')\n",
    "print(musician)"
   ]
  },
  {
   "cell_type": "markdown",
   "metadata": {},
   "source": [
    "#### Making an argument optional"
   ]
  },
  {
   "cell_type": "code",
   "execution_count": 3,
   "metadata": {},
   "outputs": [
    {
     "name": "stdout",
     "output_type": "stream",
     "text": [
      "Jimi Hendrix\n",
      "John Lee Hooker\n"
     ]
    }
   ],
   "source": [
    "def get_formatted_name(first_name, last_name, middle_name=''):\n",
    "    \"\"\"Return a full name, neatly formatted\"\"\"\n",
    "    if middle_name:\n",
    "        full_name = first_name + ' ' + middle_name + ' ' + last_name\n",
    "    else:\n",
    "        full_name = first_name + ' ' + last_name\n",
    "    return full_name.title()\n",
    "\n",
    "musician = get_formatted_name('jimi', 'hendrix')\n",
    "print(musician)\n",
    "\n",
    "musician = get_formatted_name('john', 'hooker', 'lee')\n",
    "print(musician)"
   ]
  },
  {
   "cell_type": "markdown",
   "metadata": {},
   "source": [
    "#### Returning a dictionary"
   ]
  },
  {
   "cell_type": "code",
   "execution_count": 5,
   "metadata": {},
   "outputs": [
    {
     "name": "stdout",
     "output_type": "stream",
     "text": [
      "{'first': 'jimi', 'last': 'hendrix'}\n"
     ]
    }
   ],
   "source": [
    "def build_person(first_name, last_name):\n",
    "    \"\"\"Return a dictionary of information about a person.\"\"\"\n",
    "    person = {'first': first_name, 'last': last_name}\n",
    "    return person\n",
    "\n",
    "musician = build_person('jimi', 'hendrix')\n",
    "print(musician)"
   ]
  },
  {
   "cell_type": "code",
   "execution_count": 6,
   "metadata": {},
   "outputs": [
    {
     "name": "stdout",
     "output_type": "stream",
     "text": [
      "{'first': 'jimi', 'last': 'hendrix', 'age': 27}\n"
     ]
    }
   ],
   "source": [
    "def build_person(first_name, last_name, age=''):\n",
    "    \"\"\"Return a dictionary of information about a person.\"\"\"\n",
    "    person = {'first': first_name, 'last': last_name}\n",
    "    if age:\n",
    "        person['age'] = age\n",
    "    return person\n",
    "\n",
    "musician = build_person('jimi', 'hendrix', age=27)\n",
    "print(musician)"
   ]
  },
  {
   "cell_type": "markdown",
   "metadata": {},
   "source": [
    "#### Using a function with a `while` loop"
   ]
  },
  {
   "cell_type": "code",
   "execution_count": 8,
   "metadata": {},
   "outputs": [
    {
     "name": "stdout",
     "output_type": "stream",
     "text": [
      "\n",
      "Please tell me your name:\n",
      "(enter 'q' at any time to quit)\n",
      "First name: Karl\n",
      "Last name: hiner\n",
      "\n",
      "Hello, Karl Hiner!\n",
      "\n",
      "Please tell me your name:\n",
      "(enter 'q' at any time to quit)\n",
      "First name: q\n"
     ]
    }
   ],
   "source": [
    "while True:\n",
    "    print('\\nPlease tell me your name:')\n",
    "    print('(enter \\'q\\' at any time to quit)')\n",
    "    \n",
    "    first_name = input('First name: ')\n",
    "    if first_name.lower() == 'q':\n",
    "        break\n",
    "        \n",
    "    last_name = input('Last name: ')\n",
    "    if last_name.lower() == 'q':\n",
    "        break\n",
    "    formatted_name = get_formatted_name(first_name, last_name)\n",
    "    print('\\nHello, ' + formatted_name + '!')\n"
   ]
  },
  {
   "cell_type": "markdown",
   "metadata": {},
   "source": [
    "#### Try it yourself"
   ]
  },
  {
   "cell_type": "code",
   "execution_count": 9,
   "metadata": {},
   "outputs": [
    {
     "name": "stdout",
     "output_type": "stream",
     "text": [
      "New York, Usa\n",
      "Santiago, Chile\n",
      "Berlin, Germany\n"
     ]
    }
   ],
   "source": [
    "# 8-6. City names: Write a function called `city_country()` that takes in the name\n",
    "# of a city and its county. The function should return a string formatted like this:\n",
    "# \"Santiago, Chile\"\n",
    "\n",
    "def city_country(city_name, country_name):\n",
    "    return city_name.title() + ', ' + country_name.title()\n",
    "\n",
    "# Call your function with at least three city-country pairs, and print the value\n",
    "# that's returned.\n",
    "\n",
    "print(city_country('new york', 'USA'))\n",
    "print(city_country('santiago', 'chile'))\n",
    "print(city_country('berlin', 'germany'))"
   ]
  },
  {
   "cell_type": "code",
   "execution_count": 14,
   "metadata": {},
   "outputs": [
    {
     "name": "stdout",
     "output_type": "stream",
     "text": [
      "{'artist_name': 'animal collective', 'album_title': 'merriweather post pavilion'}\n",
      "{'artist_name': 'the beatles', 'album_title': 'help'}\n",
      "{'artist_name': 'pink floyd', 'album_title': 'dark side of the moon'}\n",
      "{'artist_name': 'beck', 'album_title': 'mellow gold', 'num_tracks': 13}\n",
      "{'artist_name': 'xtc', 'album_title': 'skylarking'}\n"
     ]
    }
   ],
   "source": [
    "# 8-7. Album: Write a function called `make_album()` that builds a dictionary\n",
    "# describing a music album. The function should take in an artist name and an\n",
    "# album title, and it should return a dictionary containing these two pieces\n",
    "# of information. Use the function to make three dictionaries representing\n",
    "# different albums. Print each return value to show that the dictionaries are\n",
    "# storing the album information correctly.\n",
    "\n",
    "def make_album(artist_name, album_title):\n",
    "    return {'artist_name': artist_name, 'album_title': album_title}\n",
    "\n",
    "print(make_album('animal collective', 'merriweather post pavilion'))\n",
    "print(make_album('the beatles', 'help'))\n",
    "print(make_album('pink floyd', 'dark side of the moon'))\n",
    "\n",
    "# Add an optional parameter to `make_album()` that allows you to store the\n",
    "# number of tracks on an album. If the calling line includes a value for the\n",
    "# number of tracks, add that value to the album's dictionary. Make at least\n",
    "# one new function call that includes the number of tracks on an album.\n",
    "\n",
    "def make_album(artist_name, album_title, num_tracks=0):\n",
    "    album_info = {'artist_name': artist_name, 'album_title': album_title}\n",
    "    if num_tracks:\n",
    "        album_info['num_tracks'] = num_tracks\n",
    "    return album_info\n",
    "\n",
    "print(make_album('beck', 'mellow gold', 13))\n",
    "print(make_album('xtc', 'skylarking'))"
   ]
  },
  {
   "cell_type": "code",
   "execution_count": 15,
   "metadata": {},
   "outputs": [
    {
     "name": "stdout",
     "output_type": "stream",
     "text": [
      "\n",
      "Please tell me the album info:\n",
      "(enter 'q' at any time to quit)\n",
      "Album artist: John Coltrane\n",
      "Album title: Love Supreme\n",
      "{'artist_name': 'John Coltrane', 'album_title': 'Love Supreme'}\n",
      "\n",
      "Please tell me the album info:\n",
      "(enter 'q' at any time to quit)\n",
      "Album artist: q\n"
     ]
    }
   ],
   "source": [
    "# 8-8. User albums: Start with your program from 8-7. Write a `while` loop\n",
    "# that allows users to enter an album's artist and title. Once you have that\n",
    "# information, call `make_album()` with the user's input and print the\n",
    "# dictionary that's created. Be sure to include a quit value in the `while`\n",
    "# loop.\n",
    "\n",
    "while True:\n",
    "    print('\\nPlease tell me the album info:')\n",
    "    print('(enter \\'q\\' at any time to quit)')\n",
    "    \n",
    "    album_artist = input('Album artist: ')\n",
    "    if album_artist.lower() == 'q':\n",
    "        break\n",
    "        \n",
    "    album_title = input('Album title: ')\n",
    "    if album_title.lower() == 'q':\n",
    "        break\n",
    "    album_info = make_album(album_artist, album_title)\n",
    "    print(album_info)"
   ]
  },
  {
   "cell_type": "markdown",
   "metadata": {},
   "source": [
    "### Passing a list"
   ]
  },
  {
   "cell_type": "code",
   "execution_count": 17,
   "metadata": {},
   "outputs": [
    {
     "name": "stdout",
     "output_type": "stream",
     "text": [
      "Hello, Hannah!\n",
      "Hello, Ty!\n",
      "Hello, Margot!\n"
     ]
    }
   ],
   "source": [
    "def greet_users(names):\n",
    "    \"\"\"Print a simple greeting to each user in the list.\"\"\"\n",
    "    for name in names:\n",
    "        message = 'Hello, ' + name.title() + '!'\n",
    "        print(message)\n",
    "\n",
    "usernames = ['hannah', 'ty', 'margot']\n",
    "greet_users(usernames)"
   ]
  },
  {
   "cell_type": "markdown",
   "metadata": {},
   "source": [
    "#### Modifying a list in a function"
   ]
  },
  {
   "cell_type": "code",
   "execution_count": 19,
   "metadata": {},
   "outputs": [
    {
     "name": "stdout",
     "output_type": "stream",
     "text": [
      "Printing model: dodecahedron\n",
      "Printing model: robot pendant\n",
      "Printing model: iphone case\n",
      "\n",
      "The following models have been printed:\n",
      "dodecahedron\n",
      "robot pendant\n",
      "iphone case\n"
     ]
    }
   ],
   "source": [
    "# Without using functions\n",
    "\n",
    "unprinted_designs = ['iphone case', 'robot pendant', 'dodecahedron']\n",
    "completed_models = []\n",
    "\n",
    "# Simulate printing each design, until none are left.\n",
    "while unprinted_designs:\n",
    "    current_design = unprinted_designs.pop()\n",
    "    print('Printing model: ' + current_design)\n",
    "    completed_models.append(current_design)\n",
    "\n",
    "# Display all completed models.\n",
    "print('\\nThe following models have been printed:')\n",
    "for completed_model in completed_models:\n",
    "    print(completed_model)"
   ]
  },
  {
   "cell_type": "code",
   "execution_count": 20,
   "metadata": {},
   "outputs": [
    {
     "name": "stdout",
     "output_type": "stream",
     "text": [
      "Printing model: dodecahedron\n",
      "Printing model: robot pendant\n",
      "Printing model: iphone case\n",
      "\n",
      "The following models have been printed:\n",
      "dodecahedron\n",
      "robot pendant\n",
      "iphone case\n"
     ]
    }
   ],
   "source": [
    "# Using two functions, one for printing and\n",
    "# one for summarizing completed prints.\n",
    "\n",
    "def print_models(unprinted_designs, completed_models):\n",
    "    \"\"\"\n",
    "    Simulate printing each design, until none are left.\n",
    "    Move each design to completed_models after printing.\n",
    "    \"\"\"\n",
    "    while unprinted_designs:\n",
    "        current_design = unprinted_designs.pop()\n",
    "        print('Printing model: ' + current_design)\n",
    "        completed_models.append(current_design)\n",
    "\n",
    "def show_completed_models(completed_models):\n",
    "    \"\"\"Show all the models that were printed.\"\"\"\n",
    "    print('\\nThe following models have been printed:')\n",
    "    for completed_model in completed_models:\n",
    "        print(completed_model)\n",
    "\n",
    "unprinted_designs = ['iphone case', 'robot pendant', 'dodecahedron']\n",
    "completed_models = []\n",
    "print_models(unprinted_designs, completed_models)\n",
    "show_completed_models(completed_models)"
   ]
  },
  {
   "cell_type": "markdown",
   "metadata": {},
   "source": [
    "#### Preventing a function from modifying a list"
   ]
  },
  {
   "cell_type": "code",
   "execution_count": 22,
   "metadata": {},
   "outputs": [
    {
     "name": "stdout",
     "output_type": "stream",
     "text": [
      "Printing model: dodecahedron\n",
      "Printing model: robot pendant\n",
      "Printing model: iphone case\n",
      "\n",
      "The following models have been printed:\n",
      "dodecahedron\n",
      "robot pendant\n",
      "iphone case\n",
      "Original unprinted designs: ['iphone case', 'robot pendant', 'dodecahedron']\n"
     ]
    }
   ],
   "source": [
    "unprinted_designs = ['iphone case', 'robot pendant', 'dodecahedron']\n",
    "completed_models = []\n",
    "print_models(unprinted_designs[:], completed_models)\n",
    "show_completed_models(completed_models)\n",
    "print('Original unprinted designs: ' + str(unprinted_designs))"
   ]
  },
  {
   "cell_type": "markdown",
   "metadata": {},
   "source": [
    "#### Try it yourself"
   ]
  },
  {
   "cell_type": "code",
   "execution_count": 33,
   "metadata": {},
   "outputs": [
    {
     "name": "stdout",
     "output_type": "stream",
     "text": [
      "Harry Houdini\n",
      "Penn\n",
      "Teller\n"
     ]
    }
   ],
   "source": [
    "# 8-9. Magicians: Make a list of magician's names. Pass the list to a\n",
    "# function called `show_magicians()`, which prints the name of each\n",
    "# magician in the list.\n",
    "\n",
    "def show_magicians(magician_names):\n",
    "    for magician_name in magician_names:\n",
    "        print(magician_name.title())\n",
    "\n",
    "magician_names = ['harry houdini', 'penn', 'teller']\n",
    "show_magicians(magician_names)"
   ]
  },
  {
   "cell_type": "code",
   "execution_count": 34,
   "metadata": {},
   "outputs": [
    {
     "name": "stdout",
     "output_type": "stream",
     "text": [
      "Harry Houdini The Great\n",
      "Penn The Great\n",
      "Teller The Great\n"
     ]
    }
   ],
   "source": [
    "# 8-10. Great magicians: Start with a copy of your program from 8-9.\n",
    "# Write a function called `make_great()` that modifies the list of\n",
    "# magicians by adding the phrase 'the Great' to each magician's name.\n",
    "# Call `show_magicians()` to see that the list has actually been\n",
    "# modified.\n",
    "\n",
    "def make_great(magician_names):\n",
    "    for i, magician_name in enumerate(magician_names):\n",
    "        # I'm cheating here, but it's better ;)\n",
    "        magician_names[i] = magician_name + ' the Great'\n",
    "    return magician_names\n",
    "\n",
    "make_great(magician_names)\n",
    "show_magicians(magician_names)"
   ]
  },
  {
   "cell_type": "code",
   "execution_count": 36,
   "metadata": {},
   "outputs": [
    {
     "name": "stdout",
     "output_type": "stream",
     "text": [
      "Harry Houdini\n",
      "Penn\n",
      "Teller\n",
      "\n",
      "\n",
      "Harry Houdini The Great\n",
      "Penn The Great\n",
      "Teller The Great\n"
     ]
    }
   ],
   "source": [
    "# 8-11. Unchanged magicians: Start with your work from 8-10. Call the\n",
    "# function `make_great()` with a copy of the list of magicians' names.\n",
    "# Because the original list will be unchanged, return the new list and\n",
    "# store it in a separate list. Call `show_magicians()` with each list\n",
    "# to show that you have one list of the original names and one list\n",
    "# with 'the Great' added to each magician's name.\n",
    "\n",
    "magician_names = ['harry houdini', 'penn', 'teller']\n",
    "magician_names_made_great = make_great(magician_names[:])\n",
    "\n",
    "show_magicians(magician_names)\n",
    "print('\\n')\n",
    "show_magicians(magician_names_made_great)"
   ]
  },
  {
   "cell_type": "markdown",
   "metadata": {},
   "source": [
    "### Passing an arbitrary number of arguments"
   ]
  },
  {
   "cell_type": "code",
   "execution_count": 37,
   "metadata": {},
   "outputs": [
    {
     "name": "stdout",
     "output_type": "stream",
     "text": [
      "('pepperoni',)\n",
      "('mushrooms', 'green peppers', 'extra cheese')\n"
     ]
    }
   ],
   "source": [
    "def make_pizza(*toppings):\n",
    "    \"\"\"Print the list of toppings that have been requested.\"\"\"\n",
    "    print(toppings)\n",
    "\n",
    "make_pizza('pepperoni')\n",
    "make_pizza('mushrooms', 'green peppers', 'extra cheese')"
   ]
  },
  {
   "cell_type": "code",
   "execution_count": 38,
   "metadata": {},
   "outputs": [
    {
     "name": "stdout",
     "output_type": "stream",
     "text": [
      "\n",
      "Making a pizza with the following toppings:\n",
      "- pepperoni\n",
      "\n",
      "Making a pizza with the following toppings:\n",
      "- mushrooms\n",
      "- green peppers\n",
      "- extra cheese\n"
     ]
    }
   ],
   "source": [
    "def make_pizza(*toppings):\n",
    "    \"\"\"Summarize the pizza we are about to make.\"\"\"\n",
    "    print('\\nMaking a pizza with the following toppings:')\n",
    "    for topping in toppings:\n",
    "        print('- ' + topping)\n",
    "\n",
    "make_pizza('pepperoni')\n",
    "make_pizza('mushrooms', 'green peppers', 'extra cheese')"
   ]
  },
  {
   "cell_type": "markdown",
   "metadata": {},
   "source": [
    "#### Mixing positional and arbitrary arguments"
   ]
  },
  {
   "cell_type": "code",
   "execution_count": 3,
   "metadata": {},
   "outputs": [
    {
     "name": "stdout",
     "output_type": "stream",
     "text": [
      "\n",
      "Making a 16-inch pizza with the following toppings:\n",
      "- pepperoni\n",
      "\n",
      "Making a 12-inch pizza with the following toppings:\n",
      "- mushrooms\n",
      "- green peppers\n",
      "- extra cheese\n"
     ]
    }
   ],
   "source": [
    "def make_pizza(size_inches, *toppings):\n",
    "    \"\"\"Summarize the pizza we are about to make.\"\"\"\n",
    "    print('\\nMaking a ' + str(size_inches) + '-inch pizza with the following toppings:')\n",
    "    for topping in toppings:\n",
    "        print('- ' + topping)\n",
    "\n",
    "make_pizza(16, 'pepperoni')\n",
    "make_pizza(12, 'mushrooms', 'green peppers', 'extra cheese')"
   ]
  },
  {
   "cell_type": "markdown",
   "metadata": {},
   "source": [
    "#### Using arbitrary keyword arguments"
   ]
  },
  {
   "cell_type": "code",
   "execution_count": 4,
   "metadata": {},
   "outputs": [
    {
     "name": "stdout",
     "output_type": "stream",
     "text": [
      "{'first_name': 'albert', 'last_name': 'einstein', 'location': 'princeton', 'field': 'physics'}\n"
     ]
    }
   ],
   "source": [
    "def build_profile(first_name, last_name, **user_info):\n",
    "    \"\"\"Build a dictionary containing everything we know about a user.\"\"\"\n",
    "    profile = {}\n",
    "    profile['first_name'] = first_name\n",
    "    profile['last_name'] = last_name\n",
    "    for key, value in user_info.items():\n",
    "        profile[key] = value\n",
    "    return profile\n",
    "\n",
    "user_profile = build_profile('albert', 'einstein', location='princeton', field='physics')\n",
    "print(user_profile)"
   ]
  },
  {
   "cell_type": "markdown",
   "metadata": {},
   "source": [
    "#### Try it yourself"
   ]
  },
  {
   "cell_type": "code",
   "execution_count": 7,
   "metadata": {},
   "outputs": [
    {
     "name": "stdout",
     "output_type": "stream",
     "text": [
      "Sandwich items:\n",
      "- ham\n",
      "Sandwich items:\n",
      "- ham\n",
      "- cheese\n",
      "Sandwich items:\n",
      "- ham\n",
      "- cheese\n",
      "- mayo\n"
     ]
    }
   ],
   "source": [
    "# 8-12. Sandwiches: Write a function that accepts a list of items a person wants\n",
    "# on a sandwich. The function should have one parameter that collects as many\n",
    "# items as the function call provides, and it should print a summary of the\n",
    "# sandwich that is being ordered. Call the function three times, using a\n",
    "# different number of arguments each time.\n",
    "\n",
    "def summarize_sandwich(*items):\n",
    "    print('Sandwich items:')\n",
    "    for item in items:\n",
    "        print('- ' + item);\n",
    "\n",
    "summarize_sandwich('ham')\n",
    "summarize_sandwich('ham', 'cheese')\n",
    "summarize_sandwich('ham', 'cheese', 'mayo')"
   ]
  },
  {
   "cell_type": "code",
   "execution_count": 8,
   "metadata": {},
   "outputs": [
    {
     "name": "stdout",
     "output_type": "stream",
     "text": [
      "{'first_name': 'karl', 'last_name': 'hiner', 'location': 'portlant', 'interests': ['music', 'machine learning', 'skiing']}\n"
     ]
    }
   ],
   "source": [
    "# 8-13. User profile: Start with a copy of user_profile.py.\n",
    "# Build a profile of yourself by calling `build_profile()`,\n",
    "# using your first and last names and three other key-value pairs\n",
    "# that describe you.\n",
    "\n",
    "print(build_profile('karl', 'hiner', location='portlant', interests=['music', 'machine learning', 'skiing']))"
   ]
  },
  {
   "cell_type": "code",
   "execution_count": 13,
   "metadata": {},
   "outputs": [
    {
     "name": "stdout",
     "output_type": "stream",
     "text": [
      "{'manufacturer': 'subaru', 'model_name': 'outback', 'color': 'blue', 'row_package': True}\n"
     ]
    }
   ],
   "source": [
    "# 8-14. Cars: Write a function that stores information about a car in\n",
    "# a dictionary. The function should always receive a manufacturer and\n",
    "# a model name. If should then accept an arbitrary number of keyword\n",
    "# arguments. Call the function with the required information and two\n",
    "# other name-value pairs, such as a color or an optional feature.\n",
    "# Your function should work for a call like this one:\n",
    "# car = make_car('subaru', 'outback', color='blue', row_package=True)\n",
    "\n",
    "# Print the dictionary that's returned to make sure all the information\n",
    "# was stored correctly.\n",
    "\n",
    "def make_car(manufacturer, model_name, **options):\n",
    "    car = {\n",
    "        'manufacturer': manufacturer,\n",
    "        'model_name': model_name,\n",
    "    }\n",
    "    for option_name, option_value in options.items():\n",
    "        car[option_name] = option_value\n",
    "    return car\n",
    "\n",
    "car = make_car('subaru', 'outback', color='blue', row_package=True)\n",
    "print(car)"
   ]
  },
  {
   "cell_type": "markdown",
   "metadata": {},
   "source": [
    "### Storing your functions in modules"
   ]
  },
  {
   "cell_type": "markdown",
   "metadata": {},
   "source": [
    "#### Importing an entire module"
   ]
  },
  {
   "cell_type": "code",
   "execution_count": 22,
   "metadata": {},
   "outputs": [
    {
     "name": "stdout",
     "output_type": "stream",
     "text": [
      "\n",
      "Making a 16-inch pizza with the following toppings:\n",
      "- pepperoni\n",
      "\n",
      "Making a 12-inch pizza with the following toppings:\n",
      "- mushrooms\n",
      "- green peppers\n",
      "- extra cheese\n"
     ]
    }
   ],
   "source": [
    "# See file chapter_8_code/pizza.py for module definition\n",
    "import chapter_8_code.pizza\n",
    "\n",
    "pizza.make_pizza(16, 'pepperoni')\n",
    "pizza.make_pizza(12, 'mushrooms', 'green peppers', 'extra cheese')"
   ]
  },
  {
   "cell_type": "markdown",
   "metadata": {},
   "source": [
    "#### Importing specific functions"
   ]
  },
  {
   "cell_type": "code",
   "execution_count": 23,
   "metadata": {},
   "outputs": [
    {
     "name": "stdout",
     "output_type": "stream",
     "text": [
      "\n",
      "Making a 16-inch pizza with the following toppings:\n",
      "- pepperoni\n",
      "\n",
      "Making a 12-inch pizza with the following toppings:\n",
      "- mushrooms\n",
      "- green peppers\n",
      "- extra cheese\n"
     ]
    }
   ],
   "source": [
    "from chapter_8_code.pizza import make_pizza\n",
    "\n",
    "make_pizza(16, 'pepperoni')\n",
    "make_pizza(12, 'mushrooms', 'green peppers', 'extra cheese')"
   ]
  },
  {
   "cell_type": "markdown",
   "metadata": {},
   "source": [
    "#### Using `as` to give a function an alias"
   ]
  },
  {
   "cell_type": "code",
   "execution_count": 24,
   "metadata": {},
   "outputs": [
    {
     "name": "stdout",
     "output_type": "stream",
     "text": [
      "\n",
      "Making a 16-inch pizza with the following toppings:\n",
      "- pepperoni\n",
      "\n",
      "Making a 12-inch pizza with the following toppings:\n",
      "- mushrooms\n",
      "- green peppers\n",
      "- extra cheese\n"
     ]
    }
   ],
   "source": [
    "from chapter_8_code.pizza import make_pizza as mp\n",
    "\n",
    "mp(16, 'pepperoni')\n",
    "mp(12, 'mushrooms', 'green peppers', 'extra cheese')"
   ]
  },
  {
   "cell_type": "markdown",
   "metadata": {},
   "source": [
    "#### Uising `as` to give a module an alias"
   ]
  },
  {
   "cell_type": "code",
   "execution_count": 25,
   "metadata": {},
   "outputs": [
    {
     "name": "stdout",
     "output_type": "stream",
     "text": [
      "\n",
      "Making a 16-inch pizza with the following toppings:\n",
      "- pepperoni\n",
      "\n",
      "Making a 12-inch pizza with the following toppings:\n",
      "- mushrooms\n",
      "- green peppers\n",
      "- extra cheese\n"
     ]
    }
   ],
   "source": [
    "import pizza as p\n",
    "\n",
    "p.make_pizza(16, 'pepperoni')\n",
    "p.make_pizza(12, 'mushrooms', 'green peppers', 'extra cheese')"
   ]
  },
  {
   "cell_type": "markdown",
   "metadata": {},
   "source": [
    "#### Importing all functions in a module"
   ]
  },
  {
   "cell_type": "code",
   "execution_count": 26,
   "metadata": {},
   "outputs": [
    {
     "name": "stdout",
     "output_type": "stream",
     "text": [
      "\n",
      "Making a 16-inch pizza with the following toppings:\n",
      "- pepperoni\n",
      "\n",
      "Making a 12-inch pizza with the following toppings:\n",
      "- mushrooms\n",
      "- green peppers\n",
      "- extra cheese\n"
     ]
    }
   ],
   "source": [
    "from pizza import *\n",
    "\n",
    "make_pizza(16, 'pepperoni')\n",
    "make_pizza(12, 'mushrooms', 'green peppers', 'extra cheese')"
   ]
  },
  {
   "cell_type": "markdown",
   "metadata": {},
   "source": [
    "### Styling functions"
   ]
  },
  {
   "cell_type": "markdown",
   "metadata": {},
   "source": [
    "#### Try it yourself"
   ]
  },
  {
   "cell_type": "code",
   "execution_count": 27,
   "metadata": {},
   "outputs": [
    {
     "name": "stdout",
     "output_type": "stream",
     "text": [
      "Printing model: dodecahedron\n",
      "Printing model: robot pendant\n",
      "Printing model: iphone case\n",
      "\n",
      "The following models have been printed:\n",
      "dodecahedron\n",
      "robot pendant\n",
      "iphone case\n"
     ]
    }
   ],
   "source": [
    "# 8-15. Printing models: Put the functions for the example `printing_models.py`\n",
    "# in a separate file called `printing_functions.py`. Write an import statement\n",
    "# at the top of `printing_models.py`, and modify the file to use the imported\n",
    "# functions.\n",
    "\n",
    "import chapter_8_code.printing_models as pm\n",
    "\n",
    "unprinted_designs = ['iphone case', 'robot pendant', 'dodecahedron']\n",
    "completed_models = []\n",
    "pm.print_models(unprinted_designs, completed_models)\n",
    "pm.show_completed_models(completed_models)"
   ]
  },
  {
   "cell_type": "code",
   "execution_count": 31,
   "metadata": {},
   "outputs": [
    {
     "name": "stdout",
     "output_type": "stream",
     "text": [
      "{'manufacturer': 'subaru', 'model_name': 'outback', 'color': 'blue', 'row_package': True}\n",
      "{'manufacturer': 'subaru', 'model_name': 'outback', 'color': 'blue', 'row_package': True}\n",
      "{'manufacturer': 'subaru', 'model_name': 'outback', 'color': 'blue', 'row_package': True}\n",
      "{'manufacturer': 'subaru', 'model_name': 'outback', 'color': 'blue', 'row_package': True}\n"
     ]
    }
   ],
   "source": [
    "# 8-17. Imports: Using a program you wrote that has one function in it, store\n",
    "# that function in a separate file. Import the function into your main program\n",
    "# file, and call the function using each of these approaches:\n",
    "\n",
    "# import module_name\n",
    "# from module_name import function_name\n",
    "# from module_name import function_name as fn\n",
    "# import module_name as mn\n",
    "# from module_name import *\n",
    "\n",
    "import making_cars\n",
    "from making_cars import make_car\n",
    "from making_cars import make_car as mcar # avoid overlap with mc module below\n",
    "import making_cars as mc\n",
    "from making_cars import *\n",
    "\n",
    "print(making_cars.make_car('subaru', 'outback', color='blue', row_package=True))\n",
    "print(make_car('subaru', 'outback', color='blue', row_package=True))\n",
    "print(mcar('subaru', 'outback', color='blue', row_package=True))\n",
    "print(mc.make_car('subaru', 'outback', color='blue', row_package=True))"
   ]
  },
  {
   "cell_type": "code",
   "execution_count": null,
   "metadata": {},
   "outputs": [],
   "source": []
  }
 ],
 "metadata": {
  "kernelspec": {
   "display_name": "Python 3",
   "language": "python",
   "name": "python3"
  },
  "language_info": {
   "codemirror_mode": {
    "name": "ipython",
    "version": 3
   },
   "file_extension": ".py",
   "mimetype": "text/x-python",
   "name": "python",
   "nbconvert_exporter": "python",
   "pygments_lexer": "ipython3",
   "version": "3.6.2"
  }
 },
 "nbformat": 4,
 "nbformat_minor": 2
}
