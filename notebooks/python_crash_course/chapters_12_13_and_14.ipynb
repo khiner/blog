{
 "cells": [
  {
   "cell_type": "markdown",
   "metadata": {},
   "source": [
    "# Chapters 12, 13 and 14\n",
    "## Alien Invasion Game"
   ]
  },
  {
   "cell_type": "code",
   "execution_count": null,
   "metadata": {},
   "outputs": [],
   "source": [
    "# In these chapters, we build a \"Space Invadors\"-style game using Pygame.\n",
    "# To run the game, run the following:\n",
    "# > pip3 install pygame\n",
    "# > cd alien_invasion\n",
    "# > python3 alien_invasion.py"
   ]
  }
 ],
 "metadata": {
  "kernelspec": {
   "display_name": "Python 3",
   "language": "python",
   "name": "python3"
  },
  "language_info": {
   "codemirror_mode": {
    "name": "ipython",
    "version": 3
   },
   "file_extension": ".py",
   "mimetype": "text/x-python",
   "name": "python",
   "nbconvert_exporter": "python",
   "pygments_lexer": "ipython3",
   "version": "3.6.2"
  }
 },
 "nbformat": 4,
 "nbformat_minor": 2
}
