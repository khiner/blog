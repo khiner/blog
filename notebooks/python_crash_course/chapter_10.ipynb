{
 "cells": [
  {
   "cell_type": "markdown",
   "metadata": {},
   "source": [
    "# Chapter 10\n",
    "## Files and exceptions"
   ]
  },
  {
   "cell_type": "markdown",
   "metadata": {},
   "source": [
    "### Reading from a file"
   ]
  },
  {
   "cell_type": "markdown",
   "metadata": {},
   "source": [
    "#### Reading an entire file"
   ]
  },
  {
   "cell_type": "code",
   "execution_count": 1,
   "metadata": {},
   "outputs": [
    {
     "name": "stdout",
     "output_type": "stream",
     "text": [
      "3.1415926535\n",
      "  8979323846\n",
      "  2643383279\n",
      "\n"
     ]
    }
   ],
   "source": [
    "with open('chapter_10_resources/pi_digits.txt') as file_object:\n",
    "    contents = file_object.read()\n",
    "    print(contents)"
   ]
  },
  {
   "cell_type": "code",
   "execution_count": 2,
   "metadata": {},
   "outputs": [
    {
     "name": "stdout",
     "output_type": "stream",
     "text": [
      "3.1415926535\n",
      "  8979323846\n",
      "  2643383279\n"
     ]
    }
   ],
   "source": [
    "# Remove the empty line caused by the empty string returned from `read()`\n",
    "# when reaching the end of the file.\n",
    "with open('chapter_10_resources/pi_digits.txt') as file_object:\n",
    "    contents = file_object.read()\n",
    "    print(contents.rstrip())"
   ]
  },
  {
   "cell_type": "markdown",
   "metadata": {},
   "source": [
    "#### Reading line by line"
   ]
  },
  {
   "cell_type": "code",
   "execution_count": 5,
   "metadata": {},
   "outputs": [
    {
     "name": "stdout",
     "output_type": "stream",
     "text": [
      "3.1415926535\n",
      "  8979323846\n",
      "  2643383279\n"
     ]
    }
   ],
   "source": [
    "file_name = 'chapter_10_resources/pi_digits.txt'\n",
    "\n",
    "with open(file_name) as file_object:\n",
    "    for line in file_object:\n",
    "        print(line.rstrip())"
   ]
  },
  {
   "cell_type": "markdown",
   "metadata": {},
   "source": [
    "#### Making a list of lines from a file"
   ]
  },
  {
   "cell_type": "code",
   "execution_count": 6,
   "metadata": {},
   "outputs": [
    {
     "name": "stdout",
     "output_type": "stream",
     "text": [
      "3.1415926535\n",
      "  8979323846\n",
      "  2643383279\n"
     ]
    }
   ],
   "source": [
    "with open(file_name) as file_object:\n",
    "    lines = file_object.readlines()\n",
    "    \n",
    "for line in lines:\n",
    "    print(line.rstrip())"
   ]
  },
  {
   "cell_type": "markdown",
   "metadata": {},
   "source": [
    "#### Working with a file's contents"
   ]
  },
  {
   "cell_type": "code",
   "execution_count": 8,
   "metadata": {},
   "outputs": [
    {
     "name": "stdout",
     "output_type": "stream",
     "text": [
      "3.141592653589793238462643383279\n",
      "32\n"
     ]
    }
   ],
   "source": [
    "pi_string = ''\n",
    "for line in lines:\n",
    "    pi_string += line.strip()\n",
    "    \n",
    "print(pi_string)\n",
    "print(len(pi_string))"
   ]
  },
  {
   "cell_type": "markdown",
   "metadata": {},
   "source": [
    "#### Large files: one million digits"
   ]
  },
  {
   "cell_type": "code",
   "execution_count": 10,
   "metadata": {},
   "outputs": [
    {
     "name": "stdout",
     "output_type": "stream",
     "text": [
      "3.14159265358979323846264338327950288419716939937510...\n",
      "1000002\n"
     ]
    }
   ],
   "source": [
    "file_name = 'chapter_10_resources/pi_million_digits.txt'\n",
    "\n",
    "pi_string = ''\n",
    "with open(file_name) as file_object:\n",
    "    for line in file_object:\n",
    "        pi_string += line.strip()\n",
    "\n",
    "print(pi_string[:52] + '...')\n",
    "print(len(pi_string))"
   ]
  },
  {
   "cell_type": "markdown",
   "metadata": {},
   "source": [
    "#### Is your birthday contained in pi?"
   ]
  },
  {
   "cell_type": "code",
   "execution_count": 17,
   "metadata": {},
   "outputs": [
    {
     "name": "stdout",
     "output_type": "stream",
     "text": [
      "Enter your birthday, in the form mmddyy: 042587\n",
      "Your birthday appears in the first million digits of pi!\n"
     ]
    }
   ],
   "source": [
    "birthday = input('Enter your birthday, in the form mmddyy: ')\n",
    "if birthday in pi_string:\n",
    "    print('Your birthday appears in the first million digits of pi!')\n",
    "else:\n",
    "    print('Your birthday does not appear in the first million digits of pi.')"
   ]
  },
  {
   "cell_type": "markdown",
   "metadata": {},
   "source": [
    "#### Try it yourself"
   ]
  },
  {
   "cell_type": "code",
   "execution_count": 19,
   "metadata": {},
   "outputs": [
    {
     "name": "stdout",
     "output_type": "stream",
     "text": [
      "In Python you can create classes that represent real-world objects.\n",
      "In Python you can manipulate strings.\n",
      "In Python you can read and write to and from files.\n",
      "In Python you can read and manipulate user input.\n",
      "In Python you can create classes that represent real-world objects.\n",
      "In Python you can manipulate strings.\n",
      "In Python you can read and write to and from files.\n",
      "In Python you can read and manipulate user input.\n",
      "In Python you can create classes that represent real-world objects.\n",
      "In Python you can manipulate strings.\n",
      "In Python you can read and write to and from files.\n",
      "In Python you can read and manipulate user input.\n"
     ]
    }
   ],
   "source": [
    "# 10-1. Learning Python: Open a blank file in your text editor and\n",
    "# write a few lines summarizing what you've learned about Python so far.\n",
    "# Start each line with the phrase 'In Python you can...'. Save the file\n",
    "# as `learning_python.txt` in the same directory as your exercises from\n",
    "# this chapter. Write a program that reads the file and prints what you\n",
    "# wrote three times. Print the contents once by reading in the entire\n",
    "# file, once by looping over the file object, and once by storing the\n",
    "# lines in a list and then working with them outside the `with` block.\n",
    "\n",
    "learning_python_file_name = 'chapter_10_code/learning_python.txt'\n",
    "with open(learning_python_file_name) as learning_python_file:\n",
    "    print(learning_python_file.read().rstrip())\n",
    "\n",
    "with open(learning_python_file_name) as learning_python_file:\n",
    "    for line in learning_python_file:\n",
    "        print(line.rstrip())\n",
    "\n",
    "lines = []\n",
    "with open(learning_python_file_name) as learning_python_file:\n",
    "    lines = learning_python_file.readlines()\n",
    "\n",
    "for line in lines:\n",
    "    print(line.rstrip())"
   ]
  },
  {
   "cell_type": "code",
   "execution_count": 22,
   "metadata": {},
   "outputs": [
    {
     "name": "stdout",
     "output_type": "stream",
     "text": [
      "In C you can create classes that represent real-world objects.\n",
      "In C you can manipulate strings.\n",
      "In C you can read and write to and from files.\n",
      "In C you can read and manipulate user input.\n"
     ]
    }
   ],
   "source": [
    "# 10-2. Learning C: You can use the `replace()` method to replace any\n",
    "# word in a string with a different word.\n",
    "# Read in each line from the file you just created, and replace the\n",
    "# word 'Python' with the name of another language, such as 'C'.\n",
    "# Print each modified line to the screen.\n",
    "\n",
    "with open(learning_python_file_name) as learning_python_file:\n",
    "    for line in learning_python_file:\n",
    "        print(line.replace('Python', 'C').rstrip())"
   ]
  },
  {
   "cell_type": "markdown",
   "metadata": {},
   "source": [
    "### Writing to a file"
   ]
  },
  {
   "cell_type": "markdown",
   "metadata": {},
   "source": [
    "#### Writing to an empty file"
   ]
  },
  {
   "cell_type": "code",
   "execution_count": 26,
   "metadata": {},
   "outputs": [],
   "source": [
    "file_name = 'chapter_10_output/programming.txt'\n",
    "\n",
    "with open(file_name, 'w') as file_object:\n",
    "    file_object.write('I love programming.')"
   ]
  },
  {
   "cell_type": "markdown",
   "metadata": {},
   "source": [
    "#### Writing multiple lines"
   ]
  },
  {
   "cell_type": "code",
   "execution_count": 27,
   "metadata": {},
   "outputs": [],
   "source": [
    "with open(file_name, 'w') as file_object:\n",
    "    file_object.write('I love programming.')\n",
    "    file_object.write('I love creating new games.') # Will be written on same line."
   ]
  },
  {
   "cell_type": "code",
   "execution_count": 28,
   "metadata": {},
   "outputs": [],
   "source": [
    "with open(file_name, 'w') as file_object:\n",
    "    file_object.write('I love programming.\\n') # Append newlines manually.\n",
    "    file_object.write('I love creating new games.\\n')"
   ]
  },
  {
   "cell_type": "markdown",
   "metadata": {},
   "source": [
    "#### Appending to a file"
   ]
  },
  {
   "cell_type": "code",
   "execution_count": 29,
   "metadata": {},
   "outputs": [],
   "source": [
    "with open(file_name, 'a') as file_object:\n",
    "    file_object.write('I also love finding meaning in large datasets.\\n')\n",
    "    file_object.write('I love creating apps that can run in a browser.\\n')"
   ]
  },
  {
   "cell_type": "markdown",
   "metadata": {},
   "source": [
    "#### Try it yourself"
   ]
  },
  {
   "cell_type": "code",
   "execution_count": 30,
   "metadata": {},
   "outputs": [
    {
     "name": "stdout",
     "output_type": "stream",
     "text": [
      "Please enter your first and last name: karl hiner\n"
     ]
    }
   ],
   "source": [
    "# 10-3. Guest: Write a program that prompts the user for their name.\n",
    "# When they respond, write their name to a file called `guest.txt`.\n",
    "\n",
    "name = input('Please enter your first and last name: ')\n",
    "with open('chapter_10_output/guests.txt', 'w') as guests_file:\n",
    "    guests_file.write(name + '\\n')"
   ]
  },
  {
   "cell_type": "code",
   "execution_count": 31,
   "metadata": {},
   "outputs": [
    {
     "name": "stdout",
     "output_type": "stream",
     "text": [
      "Please enter your first and last name (or 'q' to quit): karl hiner\n",
      "Hello Karl Hiner!\n",
      "Please enter your first and last name (or 'q' to quit): donald sutherland\n",
      "Hello Donald Sutherland!\n",
      "Please enter your first and last name (or 'q' to quit): q\n"
     ]
    }
   ],
   "source": [
    "# 10-4. Guest book: Write a `while` loop that prompts users for their name.\n",
    "# When they enter their name, print a greeting to the screen and add a line\n",
    "# recording their visit in a file called `guest_book.txt`. Make sure each\n",
    "# entry appears on a new line in the file.\n",
    "\n",
    "while True:\n",
    "    name = input('Please enter your first and last name (or \\'q\\' to quit): ')\n",
    "    if name.lower() == 'q':\n",
    "        break\n",
    "    print('Hello ' + name.title() + '!')\n",
    "    with open('chapter_10_output/guest_book.txt', 'a') as guest_book_file:\n",
    "        guest_book_file.write(name.title() + '\\n')"
   ]
  },
  {
   "cell_type": "code",
   "execution_count": 33,
   "metadata": {},
   "outputs": [
    {
     "name": "stdout",
     "output_type": "stream",
     "text": [
      "Why do you like programming? (enter 'q' to quit)because it is so rewarding to see the results\n",
      "Why do you like programming? (enter 'q' to quit)q\n"
     ]
    }
   ],
   "source": [
    "# 10-5. Programming poll: Write a `while` loop that asks people why they like\n",
    "# programming. Each time someone enters a reason, add their reason to a file\n",
    "# that stores all the responses.\n",
    "\n",
    "while True:\n",
    "    programming_reason = input('Why do you like programming? (enter \\'q\\' to quit)')\n",
    "    if programming_reason.lower() == 'q':\n",
    "        break\n",
    "    with open('chapter_10_output/programming_poll.txt', 'a') as programming_poll_file:\n",
    "        programming_poll_file.write(programming_reason + '\\n')"
   ]
  },
  {
   "cell_type": "markdown",
   "metadata": {},
   "source": [
    "### Exceptions"
   ]
  },
  {
   "cell_type": "markdown",
   "metadata": {},
   "source": [
    "#### Handling the `ZeroDivisionError` exception"
   ]
  },
  {
   "cell_type": "code",
   "execution_count": 34,
   "metadata": {},
   "outputs": [
    {
     "ename": "ZeroDivisionError",
     "evalue": "division by zero",
     "output_type": "error",
     "traceback": [
      "\u001b[0;31m---------------------------------------------------------------------------\u001b[0m",
      "\u001b[0;31mZeroDivisionError\u001b[0m                         Traceback (most recent call last)",
      "\u001b[0;32m<ipython-input-34-42db4135b653>\u001b[0m in \u001b[0;36m<module>\u001b[0;34m()\u001b[0m\n\u001b[0;32m----> 1\u001b[0;31m \u001b[0mprint\u001b[0m\u001b[0;34m(\u001b[0m\u001b[0;36m5\u001b[0m\u001b[0;34m/\u001b[0m\u001b[0;36m0\u001b[0m\u001b[0;34m)\u001b[0m\u001b[0;34m\u001b[0m\u001b[0m\n\u001b[0m",
      "\u001b[0;31mZeroDivisionError\u001b[0m: division by zero"
     ]
    }
   ],
   "source": [
    "print(5/0)"
   ]
  },
  {
   "cell_type": "markdown",
   "metadata": {},
   "source": [
    "#### Using `try-except` blocks"
   ]
  },
  {
   "cell_type": "code",
   "execution_count": 35,
   "metadata": {},
   "outputs": [
    {
     "name": "stdout",
     "output_type": "stream",
     "text": [
      "You can't divide by zero!\n"
     ]
    }
   ],
   "source": [
    "try:\n",
    "    print(5/0)\n",
    "except ZeroDivisionError:\n",
    "    print(\"You can't divide by zero!\")"
   ]
  },
  {
   "cell_type": "markdown",
   "metadata": {},
   "source": [
    "#### Using exceptions to prevent crashes"
   ]
  },
  {
   "cell_type": "code",
   "execution_count": 37,
   "metadata": {},
   "outputs": [
    {
     "name": "stdout",
     "output_type": "stream",
     "text": [
      "Give me two numbers, and I will divide them.\n",
      "Enter 'q' to quit.\n",
      "\n",
      "First number: 5\n",
      "Second number: 0\n"
     ]
    },
    {
     "ename": "ZeroDivisionError",
     "evalue": "division by zero",
     "output_type": "error",
     "traceback": [
      "\u001b[0;31m---------------------------------------------------------------------------\u001b[0m",
      "\u001b[0;31mZeroDivisionError\u001b[0m                         Traceback (most recent call last)",
      "\u001b[0;32m<ipython-input-37-71fd7e8c453b>\u001b[0m in \u001b[0;36m<module>\u001b[0;34m()\u001b[0m\n\u001b[1;32m      9\u001b[0m     \u001b[0;32mif\u001b[0m \u001b[0msecond_number\u001b[0m\u001b[0;34m.\u001b[0m\u001b[0mlower\u001b[0m\u001b[0;34m(\u001b[0m\u001b[0;34m)\u001b[0m \u001b[0;34m==\u001b[0m \u001b[0;34m'q'\u001b[0m\u001b[0;34m:\u001b[0m\u001b[0;34m\u001b[0m\u001b[0m\n\u001b[1;32m     10\u001b[0m         \u001b[0;32mbreak\u001b[0m\u001b[0;34m\u001b[0m\u001b[0m\n\u001b[0;32m---> 11\u001b[0;31m     \u001b[0manswer\u001b[0m \u001b[0;34m=\u001b[0m \u001b[0mint\u001b[0m\u001b[0;34m(\u001b[0m\u001b[0mfirst_number\u001b[0m\u001b[0;34m)\u001b[0m \u001b[0;34m/\u001b[0m \u001b[0mint\u001b[0m\u001b[0;34m(\u001b[0m\u001b[0msecond_number\u001b[0m\u001b[0;34m)\u001b[0m\u001b[0;34m\u001b[0m\u001b[0m\n\u001b[0m\u001b[1;32m     12\u001b[0m     \u001b[0mprint\u001b[0m\u001b[0;34m(\u001b[0m\u001b[0manswer\u001b[0m\u001b[0;34m)\u001b[0m\u001b[0;34m\u001b[0m\u001b[0m\n",
      "\u001b[0;31mZeroDivisionError\u001b[0m: division by zero"
     ]
    }
   ],
   "source": [
    "print('Give me two numbers, and I will divide them.')\n",
    "print('Enter \\'q\\' to quit.')\n",
    "\n",
    "while True:\n",
    "    first_number = input('\\nFirst number: ')\n",
    "    if first_number.lower() == 'q':\n",
    "        break\n",
    "    second_number = input('Second number: ')\n",
    "    if second_number.lower() == 'q':\n",
    "        break\n",
    "    answer = int(first_number) / int(second_number)\n",
    "    print(answer)"
   ]
  },
  {
   "cell_type": "markdown",
   "metadata": {},
   "source": [
    "#### The `else` block"
   ]
  },
  {
   "cell_type": "code",
   "execution_count": 38,
   "metadata": {},
   "outputs": [
    {
     "name": "stdout",
     "output_type": "stream",
     "text": [
      "Give me two numbers, and I will divide them.\n",
      "Enter 'q' to quit.\n",
      "\n",
      "First number: 5\n",
      "Second number: 0\n",
      "You can't divide by 0!\n",
      "\n",
      "First number: 5\n",
      "Second number: 1\n",
      "5.0\n",
      "\n",
      "First number: q\n"
     ]
    }
   ],
   "source": [
    "print('Give me two numbers, and I will divide them.')\n",
    "print('Enter \\'q\\' to quit.')\n",
    "\n",
    "while True:\n",
    "    first_number = input('\\nFirst number: ')\n",
    "    if first_number.lower() == 'q':\n",
    "        break\n",
    "    second_number = input('Second number: ')\n",
    "    if second_number.lower() == 'q':\n",
    "        break\n",
    "    try:\n",
    "        answer = int(first_number) / int(second_number)\n",
    "    except ZeroDivisionError:\n",
    "        print(\"You can't divide by 0!\")\n",
    "    else:\n",
    "        print(answer)"
   ]
  },
  {
   "cell_type": "markdown",
   "metadata": {},
   "source": [
    "#### Handling the `FileNotFoundError` exception"
   ]
  },
  {
   "cell_type": "code",
   "execution_count": 39,
   "metadata": {},
   "outputs": [
    {
     "ename": "FileNotFoundError",
     "evalue": "[Errno 2] No such file or directory: 'alice.txt'",
     "output_type": "error",
     "traceback": [
      "\u001b[0;31m---------------------------------------------------------------------------\u001b[0m",
      "\u001b[0;31mFileNotFoundError\u001b[0m                         Traceback (most recent call last)",
      "\u001b[0;32m<ipython-input-39-6ae99e8dad53>\u001b[0m in \u001b[0;36m<module>\u001b[0;34m()\u001b[0m\n\u001b[1;32m      1\u001b[0m \u001b[0mfile_name\u001b[0m \u001b[0;34m=\u001b[0m \u001b[0;34m'alice.txt'\u001b[0m\u001b[0;34m\u001b[0m\u001b[0m\n\u001b[1;32m      2\u001b[0m \u001b[0;34m\u001b[0m\u001b[0m\n\u001b[0;32m----> 3\u001b[0;31m \u001b[0;32mwith\u001b[0m \u001b[0mopen\u001b[0m\u001b[0;34m(\u001b[0m\u001b[0mfile_name\u001b[0m\u001b[0;34m)\u001b[0m \u001b[0;32mas\u001b[0m \u001b[0mf_obj\u001b[0m\u001b[0;34m:\u001b[0m\u001b[0;34m\u001b[0m\u001b[0m\n\u001b[0m\u001b[1;32m      4\u001b[0m     \u001b[0mcontents\u001b[0m \u001b[0;34m=\u001b[0m \u001b[0mf_obj\u001b[0m\u001b[0;34m.\u001b[0m\u001b[0mread\u001b[0m\u001b[0;34m(\u001b[0m\u001b[0;34m)\u001b[0m\u001b[0;34m\u001b[0m\u001b[0m\n",
      "\u001b[0;31mFileNotFoundError\u001b[0m: [Errno 2] No such file or directory: 'alice.txt'"
     ]
    }
   ],
   "source": [
    "file_name = 'alice.txt'\n",
    "\n",
    "# Generates exception:\n",
    "with open(file_name) as f_obj:\n",
    "    contents = f_obj.read()"
   ]
  },
  {
   "cell_type": "code",
   "execution_count": 41,
   "metadata": {},
   "outputs": [
    {
     "name": "stdout",
     "output_type": "stream",
     "text": [
      "Sorry, the file alice.txt does not exist.\n"
     ]
    }
   ],
   "source": [
    "file_name = 'alice.txt'\n",
    "\n",
    "try:\n",
    "    with open(file_name) as f_obj:\n",
    "        contents = f_obj.read()\n",
    "except FileNotFoundError:\n",
    "        print('Sorry, the file ' + file_name + ' does not exist.')"
   ]
  },
  {
   "cell_type": "markdown",
   "metadata": {},
   "source": [
    "#### Analyzing text"
   ]
  },
  {
   "cell_type": "code",
   "execution_count": 42,
   "metadata": {},
   "outputs": [
    {
     "data": {
      "text/plain": [
       "['Alice', 'in', 'Wonderland']"
      ]
     },
     "execution_count": 42,
     "metadata": {},
     "output_type": "execute_result"
    }
   ],
   "source": [
    "title = 'Alice in Wonderland'\n",
    "title.split()"
   ]
  },
  {
   "cell_type": "code",
   "execution_count": 43,
   "metadata": {},
   "outputs": [
    {
     "name": "stdout",
     "output_type": "stream",
     "text": [
      "The file chapter_10_resources/alice.txt has about 29461 words.\n"
     ]
    }
   ],
   "source": [
    "file_name = 'chapter_10_resources/alice.txt'\n",
    "\n",
    "try:\n",
    "    with open(file_name) as f_obj:\n",
    "        contents = f_obj.read()\n",
    "except FileNotFoundError:\n",
    "        print('Sorry, the file ' + file_name + ' does not exist.')\n",
    "else:\n",
    "    words = contents.split()\n",
    "    num_words = len(words)\n",
    "    print('The file ' + file_name + ' has about ' + str(num_words) + ' words.')"
   ]
  },
  {
   "cell_type": "markdown",
   "metadata": {},
   "source": [
    "#### Working with multiple files"
   ]
  },
  {
   "cell_type": "code",
   "execution_count": 45,
   "metadata": {},
   "outputs": [
    {
     "name": "stdout",
     "output_type": "stream",
     "text": [
      "The file alice.txt has about 29461 words.\n"
     ]
    }
   ],
   "source": [
    "def count_words(file_name):\n",
    "    \"\"\"Count the approximate number of words in a file.\"\"\"\n",
    "    try:\n",
    "        with open('chapter_10_resources/' + file_name) as f_obj:\n",
    "            contents = f_obj.read()\n",
    "    except FileNotFoundError:\n",
    "        print('Sorry, the file ' + file_name + ' does not exist.')\n",
    "    else:\n",
    "        words = contents.split()\n",
    "        num_words = len(words)\n",
    "        print('The file ' + file_name + ' has about ' + str(num_words) + ' words.')\n",
    "\n",
    "file_name = 'alice.txt'\n",
    "count_words(file_name)"
   ]
  },
  {
   "cell_type": "code",
   "execution_count": 46,
   "metadata": {},
   "outputs": [
    {
     "name": "stdout",
     "output_type": "stream",
     "text": [
      "The file alice.txt has about 29461 words.\n",
      "Sorry, the file does_not_exist.txt does not exist.\n",
      "The file moby_dick.txt has about 215136 words.\n",
      "The file little_women.txt has about 189079 words.\n"
     ]
    }
   ],
   "source": [
    "file_names = ['alice.txt', 'does_not_exist.txt', 'moby_dick.txt', 'little_women.txt']\n",
    "for file_name in file_names:\n",
    "    count_words(file_name)"
   ]
  },
  {
   "cell_type": "markdown",
   "metadata": {},
   "source": [
    "#### Failing silently"
   ]
  },
  {
   "cell_type": "code",
   "execution_count": 47,
   "metadata": {},
   "outputs": [],
   "source": [
    "def count_words(file_name):\n",
    "    \"\"\"Count the approximate number of words in a file.\"\"\"\n",
    "    try:\n",
    "        with open('chapter_10_resources/' + file_name) as f_obj:\n",
    "            contents = f_obj.read()\n",
    "    except FileNotFoundError:\n",
    "        pass # New! Ignore this exception.\n",
    "    else:\n",
    "        words = contents.split()\n",
    "        num_words = len(words)\n",
    "        print('The file ' + file_name + ' has about ' + str(num_words) + ' words.')"
   ]
  },
  {
   "cell_type": "code",
   "execution_count": 48,
   "metadata": {},
   "outputs": [
    {
     "name": "stdout",
     "output_type": "stream",
     "text": [
      "The file alice.txt has about 29461 words.\n",
      "The file moby_dick.txt has about 215136 words.\n",
      "The file little_women.txt has about 189079 words.\n"
     ]
    }
   ],
   "source": [
    "file_names = ['alice.txt', 'does_not_exist.txt', 'moby_dick.txt', 'little_women.txt']\n",
    "for file_name in file_names:\n",
    "    count_words(file_name)"
   ]
  },
  {
   "cell_type": "markdown",
   "metadata": {},
   "source": [
    "#### Try it yourself"
   ]
  },
  {
   "cell_type": "code",
   "execution_count": 49,
   "metadata": {},
   "outputs": [
    {
     "name": "stdout",
     "output_type": "stream",
     "text": [
      "Please enter a number (or 'q' to quit): 1\n",
      "Please enter a second number (or 'q' to quit): 2\n",
      "Addition result: 3\n",
      "Please enter a number (or 'q' to quit): 2\n",
      "Please enter a second number (or 'q' to quit): 3\n",
      "Addition result: 5\n",
      "Please enter a number (or 'q' to quit): 2\n",
      "Please enter a second number (or 'q' to quit): an\n",
      "You entered 2 and an.\n",
      "Please enter a valid number for each!\n",
      "Please enter a number (or 'q' to quit): a\n",
      "Please enter a second number (or 'q' to quit): an\n",
      "You entered a and an.\n",
      "Please enter a valid number for each!\n",
      "Please enter a number (or 'q' to quit): q\n"
     ]
    }
   ],
   "source": [
    "# 10-6. Addition: One common problem when prompting for numerical input\n",
    "# occurs when people provide text instead of numbers. When you try to\n",
    "# convert the input to an `int`, you'll get a `ValueError`.\n",
    "# Write a program that prompts for two numbers. Add them together and\n",
    "# print the result. Catch the `ValueError` if either input value is not\n",
    "# a number, and print a friendly error message. Test your program by\n",
    "# entering two numbers and then by entering some text instead of a number.\n",
    "\n",
    "# 10-7. Addition calculator: Wrap your code from 10-6 in a while loop\n",
    "# so that the user can continue entering numbers even if they make a\n",
    "# mistake and enter text instead of a number.\n",
    "\n",
    "while True:\n",
    "    first_number = input('Please enter a number (or \\'q\\' to quit): ')\n",
    "    if first_number.lower() == 'q':\n",
    "        break\n",
    "    second_number = input('Please enter a second number (or \\'q\\' to quit): ')\n",
    "    if second_number.lower() == 'q':\n",
    "        break\n",
    "    \n",
    "    try:\n",
    "        first_number = int(first_number)\n",
    "        second_number = int(second_number)\n",
    "    except ValueError:\n",
    "        print('You entered ' + str(first_number) + ' and ' + str(second_number)  + '.')\n",
    "        print('Please enter a valid number for each!')\n",
    "    else:\n",
    "        print('Addition result: ' + str(first_number + second_number))"
   ]
  },
  {
   "cell_type": "code",
   "execution_count": 54,
   "metadata": {},
   "outputs": [
    {
     "name": "stdout",
     "output_type": "stream",
     "text": [
      "Circe\n",
      "Merlyn\n",
      "Mariah\n",
      "Gus\n",
      "Toby\n",
      "Mac\n",
      "Could not find the file.\n"
     ]
    }
   ],
   "source": [
    "# 10-8. Cats and dogs: Make two files, `cats.txt` and `dogs.txt`.\n",
    "# Store at least three names of cats in the first file and three\n",
    "# names of dogs in the second file. Write a program that tries to\n",
    "# read these files and print the contents of the file to the screen.\n",
    "# Wrap your code in a `try-except` block to catch the `FileNotFound`\n",
    "# error, and print a friendly message if a file is missing. Move one\n",
    "# of the files to a different location on your system, and make sure\n",
    "# the code in the `except` block executes properly.\n",
    "\n",
    "try:\n",
    "    with open('chapter_10_resources/cats.txt') as cats_file:\n",
    "        print(cats_file.read().rstrip())\n",
    "    with open('chapter_10_resources/dogs.txt') as dogs_file:\n",
    "        print(dogs_file.read().rstrip())\n",
    "    with open('chapter_10_resources/does_not_exist.txt') as other_file:\n",
    "        print(other_file.read().rstrip())\n",
    "except FileNotFoundError:\n",
    "    print('Could not find the file.')"
   ]
  },
  {
   "cell_type": "code",
   "execution_count": 55,
   "metadata": {},
   "outputs": [
    {
     "name": "stdout",
     "output_type": "stream",
     "text": [
      "Circe\n",
      "Merlyn\n",
      "Mariah\n",
      "Gus\n",
      "Toby\n",
      "Mac\n"
     ]
    }
   ],
   "source": [
    "# 10-9. Silent cats and dogs: Modify your `except` block in 10-8\n",
    "# to fail silently if either file is missing.\n",
    "\n",
    "try:\n",
    "    with open('chapter_10_resources/cats.txt') as cats_file:\n",
    "        print(cats_file.read().rstrip())\n",
    "    with open('chapter_10_resources/dogs.txt') as dogs_file:\n",
    "        print(dogs_file.read().rstrip())\n",
    "    with open('chapter_10_resources/does_not_exist.txt') as other_file:\n",
    "        print(other_file.read().rstrip())\n",
    "except FileNotFoundError:\n",
    "    pass"
   ]
  },
  {
   "cell_type": "code",
   "execution_count": 57,
   "metadata": {},
   "outputs": [
    {
     "name": "stdout",
     "output_type": "stream",
     "text": [
      "The word 'the' appears 11593 times in Dracula.\n"
     ]
    }
   ],
   "source": [
    "# 10-10. Common words: Visit Project Gutenberg (https://gutenberg.org)\n",
    "# and find a few texts you'd like to analyze. Download the text files for\n",
    "# these works, or copy the raw text from your browser into a text file on\n",
    "# your computer.\n",
    "# You can use the `count()` method to find out how many times a word or\n",
    "# phrase appears in a string.\n",
    "# Write a program that reads the files you found at Project Gutenberg and\n",
    "# determines how many times the word 'the' appears in each text.\n",
    "\n",
    "with open('chapter_10_resources/dracula.txt') as dracula_file:\n",
    "    num_the = dracula_file.read().lower().count('the')\n",
    "    print(\"The word 'the' appears \" + str(num_the) + \" times in Dracula.\")"
   ]
  },
  {
   "cell_type": "markdown",
   "metadata": {},
   "source": [
    "### Storing data"
   ]
  },
  {
   "cell_type": "markdown",
   "metadata": {},
   "source": [
    "#### Using `json.dump()` and `json.load()`"
   ]
  },
  {
   "cell_type": "code",
   "execution_count": 59,
   "metadata": {},
   "outputs": [],
   "source": [
    "import json\n",
    "\n",
    "numbers = [2, 3, 5, 7, 11, 13]\n",
    "\n",
    "file_name = 'chapter_10_output/numbers.json'\n",
    "with open(file_name, 'w') as file_object:\n",
    "    json.dump(numbers, file_object)"
   ]
  },
  {
   "cell_type": "code",
   "execution_count": 60,
   "metadata": {},
   "outputs": [
    {
     "name": "stdout",
     "output_type": "stream",
     "text": [
      "[2, 3, 5, 7, 11, 13]\n"
     ]
    }
   ],
   "source": [
    "with open(file_name) as file_object:\n",
    "    numbers = json.load(file_object)\n",
    "    \n",
    "print(numbers)"
   ]
  },
  {
   "cell_type": "markdown",
   "metadata": {},
   "source": [
    "#### Saving and reading user-generated data"
   ]
  },
  {
   "cell_type": "code",
   "execution_count": 62,
   "metadata": {},
   "outputs": [
    {
     "name": "stdout",
     "output_type": "stream",
     "text": [
      "What is your name? khiner\n",
      "We'll remember you when you come back, khiner!\n"
     ]
    }
   ],
   "source": [
    "user_name = input('What is your name? ')\n",
    "\n",
    "file_name = 'chapter_10_output/user_name.json'\n",
    "with open(file_name, 'w') as file_object:\n",
    "    json.dump(user_name, file_object)\n",
    "    print(\"We'll remember you when you come back, \" + user_name + \"!\")"
   ]
  },
  {
   "cell_type": "code",
   "execution_count": 63,
   "metadata": {},
   "outputs": [
    {
     "name": "stdout",
     "output_type": "stream",
     "text": [
      "Welcome back, khiner!\n"
     ]
    }
   ],
   "source": [
    "with open(file_name) as file_object:\n",
    "    user_name = json.load(file_object)\n",
    "    print('Welcome back, ' + user_name + '!')"
   ]
  },
  {
   "cell_type": "code",
   "execution_count": 64,
   "metadata": {},
   "outputs": [
    {
     "name": "stdout",
     "output_type": "stream",
     "text": [
      "Welcome back, khiner!\n"
     ]
    }
   ],
   "source": [
    "try:\n",
    "    with open(file_name) as file_object:\n",
    "        user_name = json.load(file_object)\n",
    "except FileNotFoundError:\n",
    "    user_name = input('What is your name? ')\n",
    "    with open(file_name, 'w') as file_object:\n",
    "        json.dump(user_name, file_object)\n",
    "        print(\"We'll remember you when you come back, \" + user_name + \"!\")\n",
    "else:\n",
    "    print('Welcome back, ' + user_name + '!')"
   ]
  },
  {
   "cell_type": "markdown",
   "metadata": {},
   "source": [
    "#### Refactoring"
   ]
  },
  {
   "cell_type": "code",
   "execution_count": 66,
   "metadata": {},
   "outputs": [
    {
     "name": "stdout",
     "output_type": "stream",
     "text": [
      "Welcome back, khiner!\n"
     ]
    }
   ],
   "source": [
    "import json\n",
    "\n",
    "def greet_user():\n",
    "    \"\"\"Greet the user by name.\"\"\"\n",
    "    file_name = 'chapter_10_output/user_name.json'\n",
    "    try:\n",
    "        with open(file_name) as file_object:\n",
    "            user_name = json.load(file_object)\n",
    "    except FileNotFoundError:\n",
    "        user_name = input('What is your name? ')\n",
    "        with open(file_name, 'w') as file_object:\n",
    "            json.dump(user_name, file_object)\n",
    "            print(\"We'll remember you when you come back, \" + user_name + \"!\")\n",
    "    else:\n",
    "        print('Welcome back, ' + user_name + '!')\n",
    "\n",
    "greet_user()"
   ]
  },
  {
   "cell_type": "code",
   "execution_count": 70,
   "metadata": {},
   "outputs": [
    {
     "name": "stdout",
     "output_type": "stream",
     "text": [
      "What is your name? khiner\n",
      "We'll remember you when you come back, khiner!\n"
     ]
    }
   ],
   "source": [
    "def get_stored_user_name():\n",
    "    \"\"\"Get stored username if available\"\"\"\n",
    "    file_name = 'user_name.json'\n",
    "    try:\n",
    "        with open(file_name) as file_object:\n",
    "            user_name = json.load(file_object)\n",
    "    except FileNotFoundError:\n",
    "        return None\n",
    "    else:\n",
    "        return user_name\n",
    "\n",
    "def get_new_user_name():\n",
    "    \"\"\"Prompt for a new username.\"\"\"\n",
    "    file_name = 'user_name.json'\n",
    "\n",
    "    user_name = input('What is your name? ')\n",
    "    with open(file_name, 'w') as file_object:\n",
    "        json.dump(user_name, file_object)\n",
    "    return user_name\n",
    "\n",
    "def greet_user():\n",
    "    \"\"\"Greet the user by name.\"\"\"\n",
    "    user_name = get_stored_user_name()\n",
    "    if user_name:\n",
    "        print('Welcome back, ' + user_name + '!')\n",
    "    else:\n",
    "        user_name = get_new_user_name()\n",
    "        print(\"We'll remember you when you come back, \" + user_name + \"!\")\n",
    "            \n",
    "greet_user()"
   ]
  },
  {
   "cell_type": "markdown",
   "metadata": {},
   "source": [
    "#### Try it yourself"
   ]
  },
  {
   "cell_type": "code",
   "execution_count": 72,
   "metadata": {},
   "outputs": [
    {
     "name": "stdout",
     "output_type": "stream",
     "text": [
      "What is your favorite number? 10\n",
      "I know your favorite number! It's 10\n"
     ]
    }
   ],
   "source": [
    "# 10-11. Favorite number: Write a program that prompts for the user's\n",
    "# favorite number. Use `json.dump()` to store this number in a file.\n",
    "# Write a separate program that reads in this value and prints the\n",
    "# message, \"I know your favorite number! It's _____.\"\n",
    "\n",
    "import json\n",
    "\n",
    "file_name = 'chapter_10_output/favorite_number.json'\n",
    "favorite_number = input('What is your favorite number? ')\n",
    "with open(file_name, 'w') as favorite_number_file:\n",
    "    json.dump(favorite_number, favorite_number_file)\n",
    "\n",
    "with open(file_name) as favorite_number_file:\n",
    "    favorite_number = json.load(favorite_number_file)\n",
    "\n",
    "print('I know your favorite number! It\\'s ' + str(favorite_number))"
   ]
  },
  {
   "cell_type": "code",
   "execution_count": 75,
   "metadata": {},
   "outputs": [
    {
     "name": "stdout",
     "output_type": "stream",
     "text": [
      "I know your favorite number! It's 12\n"
     ]
    }
   ],
   "source": [
    "# 10-12. Favorite number remembered: Combine the two programs from\n",
    "# 10-11 into one file. If the number is already stored, report the\n",
    "# favorite number to the user. If not, prompt for the user's favorite\n",
    "# number and store it in a file. Run the program twice to see that it\n",
    "# works.\n",
    "\n",
    "try:\n",
    "    with open(file_name) as favorite_number_file:\n",
    "        favorite_number = json.load(favorite_number_file)\n",
    "\n",
    "    print('I know your favorite number! It\\'s ' + str(favorite_number))\n",
    "except FileNotFoundError:\n",
    "    favorite_number = input('What is your favorite number? ')\n",
    "    with open(file_name, 'w') as favorite_number_file:\n",
    "        json.dump(favorite_number, favorite_number_file)"
   ]
  },
  {
   "cell_type": "code",
   "execution_count": 80,
   "metadata": {},
   "outputs": [
    {
     "name": "stdout",
     "output_type": "stream",
     "text": [
      "Are you khiner? (y/n)n\n",
      "What is your name? khiner\n",
      "We'll remember you when you come back, khiner!\n"
     ]
    }
   ],
   "source": [
    "# 10-13. Verify user: The final listing for `remember_me.py` assumes\n",
    "# either that the user has already entered their username or that the\n",
    "# program is running for the first time. We should modify it in case\n",
    "# the current user is not the person who last used the program.\n",
    "# Before printing a welcome back message in `greet_user()`, ask the\n",
    "# user if this is the correct username. If it's not, call\n",
    "# `get_new_username()` to get the correct username.\n",
    "\n",
    "def get_stored_user_name():\n",
    "    \"\"\"Get stored username if available\"\"\"\n",
    "    file_name = 'user_name.json'\n",
    "    try:\n",
    "        with open(file_name) as file_object:\n",
    "            user_name = json.load(file_object)\n",
    "    except FileNotFoundError:\n",
    "        return None\n",
    "    else:\n",
    "        return user_name\n",
    "\n",
    "def get_new_user_name():\n",
    "    \"\"\"Prompt for a new username.\"\"\"\n",
    "    file_name = 'user_name.json'\n",
    "\n",
    "    user_name = input('What is your name? ')\n",
    "    with open(file_name, 'w') as file_object:\n",
    "        json.dump(user_name, file_object)\n",
    "    return user_name\n",
    "\n",
    "def say_goodbye(user_name):\n",
    "    print(\"We'll remember you when you come back, \" + user_name + \"!\")\n",
    "\n",
    "def greet_user():\n",
    "    \"\"\"Greet the user by name.\"\"\"\n",
    "    user_name = get_stored_user_name()\n",
    "    if user_name:\n",
    "        is_most_recent_user_input = input('Are you ' + user_name + '? (y/n)')\n",
    "        is_most_recent_user = is_most_recent_user_input.lower() == 'y'\n",
    "        if is_most_recent_user:\n",
    "            print('Welcome back, ' + user_name + '!')\n",
    "        else:\n",
    "            say_goodbye(get_new_user_name())\n",
    "    else:\n",
    "        say_goodbye(get_new_user_name())\n",
    "\n",
    "            \n",
    "greet_user()"
   ]
  },
  {
   "cell_type": "code",
   "execution_count": null,
   "metadata": {},
   "outputs": [],
   "source": []
  }
 ],
 "metadata": {
  "kernelspec": {
   "display_name": "Python 3",
   "language": "python",
   "name": "python3"
  },
  "language_info": {
   "codemirror_mode": {
    "name": "ipython",
    "version": 3
   },
   "file_extension": ".py",
   "mimetype": "text/x-python",
   "name": "python",
   "nbconvert_exporter": "python",
   "pygments_lexer": "ipython3",
   "version": "3.6.2"
  }
 },
 "nbformat": 4,
 "nbformat_minor": 2
}
