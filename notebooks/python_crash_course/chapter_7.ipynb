{
 "cells": [
  {
   "cell_type": "markdown",
   "metadata": {},
   "source": [
    "# Chapter 7\n",
    "## User input and while loops"
   ]
  },
  {
   "cell_type": "markdown",
   "metadata": {},
   "source": [
    "### How the `input()` function works"
   ]
  },
  {
   "cell_type": "code",
   "execution_count": 1,
   "metadata": {},
   "outputs": [
    {
     "name": "stdout",
     "output_type": "stream",
     "text": [
      "Tell me something, and I will repeat it back to you: my message\n",
      "my message\n"
     ]
    }
   ],
   "source": [
    "message = input('Tell me something, and I will repeat it back to you: ')\n",
    "print(message)"
   ]
  },
  {
   "cell_type": "markdown",
   "metadata": {},
   "source": [
    "#### Writing clear prompts"
   ]
  },
  {
   "cell_type": "code",
   "execution_count": 2,
   "metadata": {},
   "outputs": [
    {
     "name": "stdout",
     "output_type": "stream",
     "text": [
      "Please enter your name: Karl\n",
      "Hello, Karl!\n"
     ]
    }
   ],
   "source": [
    "name = input('Please enter your name: ')\n",
    "print('Hello, ' + name + '!')"
   ]
  },
  {
   "cell_type": "code",
   "execution_count": 5,
   "metadata": {},
   "outputs": [
    {
     "name": "stdout",
     "output_type": "stream",
     "text": [
      "If you tell us who you are, we can personalize the messages you see.\n",
      "What is your first name? Karl\n",
      "\n",
      "Hello, Karl!\n"
     ]
    }
   ],
   "source": [
    "prompt = 'If you tell us who you are, we can personalize the messages you see.'\n",
    "prompt += '\\nWhat is your first name? '\n",
    "name = input(prompt)\n",
    "print('\\nHello, ' + name + '!')"
   ]
  },
  {
   "cell_type": "markdown",
   "metadata": {},
   "source": [
    "#### Using `int()` to accept numerical input"
   ]
  },
  {
   "cell_type": "code",
   "execution_count": 7,
   "metadata": {},
   "outputs": [
    {
     "name": "stdout",
     "output_type": "stream",
     "text": [
      "How old are you? 30\n"
     ]
    },
    {
     "data": {
      "text/plain": [
       "'30'"
      ]
     },
     "execution_count": 7,
     "metadata": {},
     "output_type": "execute_result"
    }
   ],
   "source": [
    "# `age` will be interpretted as a string by default.\n",
    "age = input('How old are you? ')\n",
    "age"
   ]
  },
  {
   "cell_type": "code",
   "execution_count": 8,
   "metadata": {},
   "outputs": [
    {
     "ename": "TypeError",
     "evalue": "'>=' not supported between instances of 'str' and 'int'",
     "output_type": "error",
     "traceback": [
      "\u001b[0;31m---------------------------------------------------------------------------\u001b[0m",
      "\u001b[0;31mTypeError\u001b[0m                                 Traceback (most recent call last)",
      "\u001b[0;32m<ipython-input-8-29cf01cc9c2d>\u001b[0m in \u001b[0;36m<module>\u001b[0;34m()\u001b[0m\n\u001b[1;32m      1\u001b[0m \u001b[0;31m# This will generate a type error:\u001b[0m\u001b[0;34m\u001b[0m\u001b[0;34m\u001b[0m\u001b[0m\n\u001b[0;32m----> 2\u001b[0;31m \u001b[0mage\u001b[0m \u001b[0;34m>=\u001b[0m \u001b[0;36m18\u001b[0m\u001b[0;34m\u001b[0m\u001b[0m\n\u001b[0m",
      "\u001b[0;31mTypeError\u001b[0m: '>=' not supported between instances of 'str' and 'int'"
     ]
    }
   ],
   "source": [
    "# This will generate a type error:\n",
    "age >= 18"
   ]
  },
  {
   "cell_type": "code",
   "execution_count": 9,
   "metadata": {},
   "outputs": [
    {
     "name": "stdout",
     "output_type": "stream",
     "text": [
      "How old are you? 30\n"
     ]
    },
    {
     "data": {
      "text/plain": [
       "True"
      ]
     },
     "execution_count": 9,
     "metadata": {},
     "output_type": "execute_result"
    }
   ],
   "source": [
    "# This fixes the issue by using the `int()` function.\n",
    "age = input('How old are you? ')\n",
    "age = int(age)\n",
    "age >= 18"
   ]
  },
  {
   "cell_type": "code",
   "execution_count": 10,
   "metadata": {},
   "outputs": [
    {
     "name": "stdout",
     "output_type": "stream",
     "text": [
      "How tall are you, in inches? 71\n",
      "\n",
      "You're tall enough to ride!\n"
     ]
    }
   ],
   "source": [
    "height = input('How tall are you, in inches? ')\n",
    "height = int(height)\n",
    "\n",
    "if height >= 36:\n",
    "    print('\\nYou\\'re tall enough to ride!')\n",
    "else:\n",
    "    print('\\nYou\\'ll be able to ride when you\\'re a little older.')"
   ]
  },
  {
   "cell_type": "markdown",
   "metadata": {},
   "source": [
    "#### The modulo operator"
   ]
  },
  {
   "cell_type": "code",
   "execution_count": 11,
   "metadata": {},
   "outputs": [
    {
     "data": {
      "text/plain": [
       "1"
      ]
     },
     "execution_count": 11,
     "metadata": {},
     "output_type": "execute_result"
    }
   ],
   "source": [
    "4 % 3"
   ]
  },
  {
   "cell_type": "code",
   "execution_count": 12,
   "metadata": {},
   "outputs": [
    {
     "data": {
      "text/plain": [
       "2"
      ]
     },
     "execution_count": 12,
     "metadata": {},
     "output_type": "execute_result"
    }
   ],
   "source": [
    "5 % 3"
   ]
  },
  {
   "cell_type": "code",
   "execution_count": 13,
   "metadata": {},
   "outputs": [
    {
     "data": {
      "text/plain": [
       "0"
      ]
     },
     "execution_count": 13,
     "metadata": {},
     "output_type": "execute_result"
    }
   ],
   "source": [
    "6 % 3"
   ]
  },
  {
   "cell_type": "code",
   "execution_count": 14,
   "metadata": {},
   "outputs": [
    {
     "data": {
      "text/plain": [
       "1"
      ]
     },
     "execution_count": 14,
     "metadata": {},
     "output_type": "execute_result"
    }
   ],
   "source": [
    "7 % 3"
   ]
  },
  {
   "cell_type": "code",
   "execution_count": 15,
   "metadata": {},
   "outputs": [
    {
     "name": "stdout",
     "output_type": "stream",
     "text": [
      "Enter a number, and I'll tell you if it's even or odd: 3\n",
      "\n",
      "The number 3 is odd.\n"
     ]
    }
   ],
   "source": [
    "number = int(input('Enter a number, and I\\'ll tell you if it\\'s even or odd: '))\n",
    "\n",
    "if number % 2 == 0:\n",
    "    print('\\nThe number ' + str(number) + ' is even.')\n",
    "else:\n",
    "    print('\\nThe number ' + str(number) + ' is odd.')"
   ]
  },
  {
   "cell_type": "markdown",
   "metadata": {},
   "source": [
    "#### Try it yourself"
   ]
  },
  {
   "cell_type": "code",
   "execution_count": 17,
   "metadata": {},
   "outputs": [
    {
     "name": "stdout",
     "output_type": "stream",
     "text": [
      "What make of car would you like to rent? tOyOta\n",
      "Let me see if I can find you a Toyota.\n"
     ]
    }
   ],
   "source": [
    "# 7-1. Rental car: Write a program that asks the user what kind of rental car\n",
    "# they would like. Print a message about that car, such as 'Let me see if I\n",
    "# can find you a Subaru.'\n",
    "\n",
    "car_make = input('What make of car would you like to rent? ')\n",
    "print('Let me see if I can find you a ' + car_make.title() + '.')"
   ]
  },
  {
   "cell_type": "code",
   "execution_count": 19,
   "metadata": {},
   "outputs": [
    {
     "name": "stdout",
     "output_type": "stream",
     "text": [
      "How many people are in your dinner group? 10\n",
      "I'm sorry, but you will have to wait for a table.\n"
     ]
    }
   ],
   "source": [
    "# 7-2. Restaurant seating: Write a program that asks the user how many people\n",
    "# are in their dinner group. If the answer is more than eight, print a message\n",
    "# saying they'll have to wait for a table. Otherwise, report that their table\n",
    "# is ready.\n",
    "\n",
    "party_size = int(input('How many people are in your dinner group? '))\n",
    "\n",
    "if party_size > 8:\n",
    "    print('I\\'m sorry, but you will have to wait for a table.')\n",
    "else:\n",
    "    print('Your table is ready!')"
   ]
  },
  {
   "cell_type": "code",
   "execution_count": 24,
   "metadata": {},
   "outputs": [
    {
     "name": "stdout",
     "output_type": "stream",
     "text": [
      "Give me a number, any integer, and I will tell you if it's a multiple of 10. -21\n",
      "The given number is not a multiple of 10.\n"
     ]
    }
   ],
   "source": [
    "# 7-3. Multiples of ten: Ask the user for a number, and then report whether\n",
    "# the number is a multiple of 10 or not.\n",
    "\n",
    "number = int(input('Give me a number, any integer, and I will tell you if it\\'s a multiple of 10. '))\n",
    "if number % 10 == 0:\n",
    "    print('The given number is a multiple of 10.')\n",
    "else:\n",
    "    print('The given number is not a multiple of 10.')"
   ]
  },
  {
   "cell_type": "markdown",
   "metadata": {},
   "source": [
    "### Introducing `while` loops"
   ]
  },
  {
   "cell_type": "markdown",
   "metadata": {},
   "source": [
    "#### The `while` loop in action"
   ]
  },
  {
   "cell_type": "code",
   "execution_count": 25,
   "metadata": {},
   "outputs": [
    {
     "name": "stdout",
     "output_type": "stream",
     "text": [
      "1\n",
      "2\n",
      "3\n",
      "4\n",
      "5\n"
     ]
    }
   ],
   "source": [
    "current_number = 1\n",
    "while current_number <= 5:\n",
    "    print(current_number)\n",
    "    current_number += 1"
   ]
  },
  {
   "cell_type": "markdown",
   "metadata": {},
   "source": [
    "#### Letting the user choose when to quit"
   ]
  },
  {
   "cell_type": "code",
   "execution_count": 29,
   "metadata": {},
   "outputs": [
    {
     "name": "stdout",
     "output_type": "stream",
     "text": [
      "\n",
      "Tell me something, and I will repeat it back to you:\n",
      "Enter 'quit' to end the program. quite\n",
      "quite\n",
      "\n",
      "Tell me something, and I will repeat it back to you:\n",
      "Enter 'quit' to end the program. Quietly\n",
      "Quietly\n",
      "\n",
      "Tell me something, and I will repeat it back to you:\n",
      "Enter 'quit' to end the program. QuiT\n"
     ]
    }
   ],
   "source": [
    "prompt = '\\nTell me something, and I will repeat it back to you:'\n",
    "prompt += '\\nEnter \\'quit\\' to end the program. '\n",
    "\n",
    "message = ''\n",
    "while message.lower() != 'quit':\n",
    "    message = input(prompt)\n",
    "    if message.lower() != 'quit':\n",
    "        print(message)"
   ]
  },
  {
   "cell_type": "markdown",
   "metadata": {},
   "source": [
    "#### Using a flag"
   ]
  },
  {
   "cell_type": "code",
   "execution_count": 31,
   "metadata": {},
   "outputs": [
    {
     "name": "stdout",
     "output_type": "stream",
     "text": [
      "\n",
      "Tell me something, and I will repeat it back to you:\n",
      "Enter 'quit' to end the program. Quite\n",
      "Quite\n",
      "\n",
      "Tell me something, and I will repeat it back to you:\n",
      "Enter 'quit' to end the program. quietly\n",
      "quietly\n",
      "\n",
      "Tell me something, and I will repeat it back to you:\n",
      "Enter 'quit' to end the program. Quit\n"
     ]
    }
   ],
   "source": [
    "active = True\n",
    "while active:\n",
    "    message = input(prompt)\n",
    "    if message.lower() == 'quit':\n",
    "        active = False\n",
    "    else:\n",
    "        print(message)"
   ]
  },
  {
   "cell_type": "markdown",
   "metadata": {},
   "source": [
    "#### Using `break` to exit a loop"
   ]
  },
  {
   "cell_type": "code",
   "execution_count": 32,
   "metadata": {},
   "outputs": [
    {
     "name": "stdout",
     "output_type": "stream",
     "text": [
      "\n",
      "Please enter the name of a city you have visited:\n",
      "(Enter 'quit' when you are finished.) Costa rica\n",
      "I'd love to go to Costa Rica!\n",
      "\n",
      "Please enter the name of a city you have visited:\n",
      "(Enter 'quit' when you are finished.) quit\n"
     ]
    }
   ],
   "source": [
    "prompt = '\\nPlease enter the name of a city you have visited:'\n",
    "prompt += '\\n(Enter \\'quit\\' when you are finished.) '\n",
    "\n",
    "while True:\n",
    "    city = input(prompt)\n",
    "    \n",
    "    if city.lower() == 'quit':\n",
    "        break\n",
    "    else:\n",
    "        print(\"I'd love to go to \" + city.title() + \"!\")"
   ]
  },
  {
   "cell_type": "markdown",
   "metadata": {},
   "source": [
    "#### Using `continue` in a loop"
   ]
  },
  {
   "cell_type": "code",
   "execution_count": 33,
   "metadata": {},
   "outputs": [
    {
     "name": "stdout",
     "output_type": "stream",
     "text": [
      "1\n",
      "3\n",
      "5\n",
      "7\n",
      "9\n"
     ]
    }
   ],
   "source": [
    "current_number = 0\n",
    "while current_number < 10:\n",
    "    current_number += 1\n",
    "    if current_number % 2 == 0:\n",
    "        continue\n",
    "\n",
    "    print(current_number)"
   ]
  },
  {
   "cell_type": "markdown",
   "metadata": {},
   "source": [
    "#### Try it yourself"
   ]
  },
  {
   "cell_type": "code",
   "execution_count": 37,
   "metadata": {},
   "outputs": [
    {
     "name": "stdout",
     "output_type": "stream",
     "text": [
      "What topping would you like on your pizza? (Type 'quit' when you're done.) onions\n",
      "Ok! We will add onions to your pizza.\n",
      "What topping would you like on your pizza? (Type 'quit' when you're done.) green peppers\n",
      "Ok! We will add green peppers to your pizza.\n",
      "What topping would you like on your pizza? (Type 'quit' when you're done.) quit\n"
     ]
    }
   ],
   "source": [
    "# 7-4. Pizza toppings: Write a loop that prompts the user to enter a series of\n",
    "# pizza toppings until they enter a 'quit' value. As they enter each topping,\n",
    "# print a message saying you'll add that topping to their pizza.\n",
    "\n",
    "while True:\n",
    "    topping = input('What topping would you like on your pizza? (Type \\'quit\\' when you\\'re done.) ')\n",
    "    if topping.lower() == 'quit':\n",
    "        break\n",
    "    print('Ok! We will add ' + topping.lower() + ' to your pizza.')"
   ]
  },
  {
   "cell_type": "code",
   "execution_count": 38,
   "metadata": {},
   "outputs": [
    {
     "name": "stdout",
     "output_type": "stream",
     "text": [
      "How old are you? 2\n",
      "Your ticket will be free.\n",
      "How old are you? 3\n",
      "Your ticket will be $10.\n",
      "How old are you? 10\n",
      "Your ticket will be $10.\n",
      "How old are you? 11\n",
      "Your ticket will be $10.\n",
      "How old are you? 12\n",
      "Your ticket will be $10.\n",
      "How old are you? 13\n",
      "Your ticket will be $15.\n",
      "How old are you? 12459\n",
      "Your ticket will be $15.\n",
      "How old are you? quit\n"
     ]
    }
   ],
   "source": [
    "# 7-5. Movie tickets: A movie theater charges different ticket prices depending on a\n",
    "# person's age. If a person is under the age of 3, the ticket is free; if they are\n",
    "# between 3 and 12, the ticket is $10; and if they are over age 12, the ticket is\n",
    "# $15. Write a loop in which you ask users their age, and then tell them the cost\n",
    "# of their movie ticket.\n",
    "\n",
    "while True:\n",
    "    age = input('How old are you? ')\n",
    "    if age.lower() == 'quit':\n",
    "        break\n",
    "    \n",
    "    age = int(age)\n",
    "    if age < 3:\n",
    "        cost = 'free'\n",
    "    elif age <= 12:\n",
    "        cost = '$10'\n",
    "    else:\n",
    "        cost = '$15'\n",
    "    \n",
    "    print('Your ticket will be ' + cost + '.')"
   ]
  },
  {
   "cell_type": "code",
   "execution_count": 39,
   "metadata": {},
   "outputs": [],
   "source": [
    "# 7-6. Three exits: Write different versions of either 7-4 or 7-5\n",
    "# that do each of the following at least once:\n",
    "\n",
    "# * Use a conditional test in the `while` statement to stop the loop.\n",
    "# * Use an active variable to control how long the loop runs.\n",
    "# * Use a `break` statement to exit the loop when the user enters a `'quit'` value.\n",
    "\n",
    "# *** This has already been done! ***\n",
    "\n",
    "# 7-7. Infinity: Write a loop that never ends, and run it.\n",
    "\n",
    "# No thank you.  I'd like to keep this notebook fully executable without infinite loops."
   ]
  },
  {
   "cell_type": "markdown",
   "metadata": {},
   "source": [
    "### Using a `while` loop with lists and dictionaries"
   ]
  },
  {
   "cell_type": "markdown",
   "metadata": {},
   "source": [
    "#### Moving items from one list to another"
   ]
  },
  {
   "cell_type": "code",
   "execution_count": 41,
   "metadata": {},
   "outputs": [
    {
     "name": "stdout",
     "output_type": "stream",
     "text": [
      "Verifying user: Candace\n",
      "Verifying user: Brian\n",
      "Verifying user: Alice\n",
      "\n",
      "The following users have been confirmed:\n",
      "Candace\n",
      "Brian\n",
      "Alice\n"
     ]
    }
   ],
   "source": [
    "# Start with users that need to be verified,\n",
    "# and an empty list to hold confirmed users.\n",
    "unconfirmed_users = ['alice', 'brian', 'candace']\n",
    "confirmed_users = []\n",
    "\n",
    "# Verify each user until there are no more unconfirmed users.\n",
    "# Move each verified user into the list of confirmed users.\n",
    "\n",
    "while unconfirmed_users:\n",
    "    current_user = unconfirmed_users.pop()\n",
    "    \n",
    "    print('Verifying user: ' + current_user.title())\n",
    "    confirmed_users.append(current_user)\n",
    "\n",
    "# Display all confirmed users.\n",
    "print('\\nThe following users have been confirmed:')\n",
    "for confirmed_user in confirmed_users:\n",
    "    print(confirmed_user.title())"
   ]
  },
  {
   "cell_type": "markdown",
   "metadata": {},
   "source": [
    "#### Removing all instances of specific values from a list"
   ]
  },
  {
   "cell_type": "code",
   "execution_count": 42,
   "metadata": {},
   "outputs": [
    {
     "name": "stdout",
     "output_type": "stream",
     "text": [
      "['dog', 'cat', 'dog', 'goldfish', 'cat', 'rabbit', 'cat']\n",
      "['dog', 'dog', 'goldfish', 'rabbit']\n"
     ]
    }
   ],
   "source": [
    "pets = ['dog', 'cat', 'dog', 'goldfish', 'cat', 'rabbit', 'cat']\n",
    "print(pets)\n",
    "\n",
    "while 'cat' in pets:\n",
    "    pets.remove('cat')\n",
    "\n",
    "print(pets)"
   ]
  },
  {
   "cell_type": "markdown",
   "metadata": {},
   "source": [
    "#### Filling a dictionary with user input"
   ]
  },
  {
   "cell_type": "code",
   "execution_count": 44,
   "metadata": {},
   "outputs": [
    {
     "name": "stdout",
     "output_type": "stream",
     "text": [
      "\n",
      "What is your name? Karl\n",
      "Which mountain would you like to climb someday? mt. hood\n",
      "Would you like to let another person respond? (yes/no) yes\n",
      "\n",
      "What is your name? emily\n",
      "Which mountain would you like to climb someday? mt. Everest\n",
      "Would you like to let another person respond? (yes/no) no\n",
      "\n",
      "--- Poll Results ---\n",
      "Karl would like to climb Mt. Hood.\n",
      "Emily would like to climb Mt. Everest.\n"
     ]
    }
   ],
   "source": [
    "responses = {}\n",
    "\n",
    "polling_active = True\n",
    "\n",
    "while polling_active:\n",
    "    name = input('\\nWhat is your name? ')\n",
    "    response = input('Which mountain would you like to climb someday? ')\n",
    "    \n",
    "    responses[name] = response\n",
    "    \n",
    "    repeat = input('Would you like to let another person respond? (yes/no) ')\n",
    "    if repeat.lower() == 'no':\n",
    "        polling_active = False\n",
    "\n",
    "print('\\n--- Poll Results ---')\n",
    "for name, response in responses.items():\n",
    "    print(name.title() + ' would like to climb ' + response.title() + '.')"
   ]
  },
  {
   "cell_type": "markdown",
   "metadata": {},
   "source": [
    "#### Try it yourself"
   ]
  },
  {
   "cell_type": "code",
   "execution_count": 47,
   "metadata": {},
   "outputs": [
    {
     "name": "stdout",
     "output_type": "stream",
     "text": [
      "I made your reuben sandwich.\n",
      "I made your roast beef on sourdough sandwich.\n",
      "I made your pastrami sandwich.\n",
      "\n",
      "The following sandwiches have been made:\n",
      "\treuben sandwich\n",
      "\troast beef on sourdough sandwich\n",
      "\tpastrami sandwich\n"
     ]
    }
   ],
   "source": [
    "# 7-8. Deli: Make a list called `sandwich_orders` and fill it with the\n",
    "# names of various sandwiches. Then make an empty list called\n",
    "# `finished_sandwiches`. Loop through the list of sandwich orders and print\n",
    "# a message for each order, such as 'I made your tuna sandwich.' As each\n",
    "# sandwich is made, move it to the list of finished sandwiches. After all\n",
    "# the sandwiches have been made, print a message listing each sandwich that\n",
    "# was made.\n",
    "\n",
    "sandwich_orders = ['pastrami', 'roast beef on sourdough', 'reuben']\n",
    "\n",
    "finished_sandwiches = []\n",
    "\n",
    "while sandwich_orders:\n",
    "    sandwich_order = sandwich_orders.pop()\n",
    "    print('I made your ' + sandwich_order + ' sandwich.')\n",
    "    finished_sandwiches.append(sandwich_order)\n",
    "\n",
    "print('\\nThe following sandwiches have been made:')\n",
    "for finished_sandwich in finished_sandwiches:\n",
    "    print('\\t' + finished_sandwich + ' sandwich')"
   ]
  },
  {
   "cell_type": "code",
   "execution_count": 48,
   "metadata": {},
   "outputs": [
    {
     "name": "stdout",
     "output_type": "stream",
     "text": [
      "We're sorry, but we are out of pastrami.\n",
      "I made your reuben sandwich.\n",
      "I made your roast beef on sourdough sandwich.\n",
      "\n",
      "The following sandwiches have been made:\n",
      "\treuben sandwich\n",
      "\troast beef on sourdough sandwich\n"
     ]
    }
   ],
   "source": [
    "# 7-9. No pastrami: Using the list `sandwich_orders` from 7-8, make sure the\n",
    "# sandwich `'pastrami'` appears in the list at least three times. Add code\n",
    "# near the beginning of your program to print a message saying the deli has\n",
    "# run out of pastrami, and then use a `while` loop to remove all occurrences\n",
    "# of `'pastrami'` from `sandwich_orders`. make sure no pastrami sandwiches end\n",
    "# up in `finished_sandwiches`.\n",
    "\n",
    "sandwich_orders = ['pastrami', 'pastrami', 'pastrami', 'roast beef on sourdough', 'reuben']\n",
    "\n",
    "print('We\\'re sorry, but we are out of pastrami.')\n",
    "while 'pastrami' in sandwich_orders:\n",
    "    sandwich_orders.remove('pastrami')\n",
    "\n",
    "finished_sandwiches = []\n",
    "\n",
    "while sandwich_orders:\n",
    "    sandwich_order = sandwich_orders.pop()\n",
    "    print('I made your ' + sandwich_order + ' sandwich.')\n",
    "    finished_sandwiches.append(sandwich_order)\n",
    "\n",
    "print('\\nThe following sandwiches have been made:')\n",
    "for finished_sandwich in finished_sandwiches:\n",
    "    print('\\t' + finished_sandwich + ' sandwich')"
   ]
  },
  {
   "cell_type": "code",
   "execution_count": 51,
   "metadata": {},
   "outputs": [
    {
     "name": "stdout",
     "output_type": "stream",
     "text": [
      "\n",
      "What is your name? karl\n",
      "If you could visit one place in the world, where would you go? thailand\n",
      "Would you like to let another person respond? (yes/no) yes\n",
      "\n",
      "What is your name? emily\n",
      "If you could visit one place in the world, where would you go? iceland\n",
      "Would you like to let another person respond? (yes/no) no\n",
      "\n",
      "--- Poll Results ---\n",
      "Karl would like to visit Thailand.\n",
      "Emily would like to visit Iceland.\n"
     ]
    }
   ],
   "source": [
    "# 7-10. Dream vacation: Write a program that polls users about their dream\n",
    "# vacation. Write a prompt similar to 'If you could visit one place in the\n",
    "# world, where would you go?' Include a block of code that prints the \n",
    "# results of the poll.\n",
    "\n",
    "responses = {}\n",
    "\n",
    "while True:\n",
    "    name = input('\\nWhat is your name? ')\n",
    "    response = input('If you could visit one place in the world, where would you go? ')\n",
    "    \n",
    "    responses[name] = response\n",
    "    \n",
    "    repeat = input('Would you like to let another person respond? (yes/no) ')\n",
    "    if repeat.lower() == 'no':\n",
    "        break\n",
    "\n",
    "print('\\n--- Poll Results ---')\n",
    "for name, response in responses.items():\n",
    "    print(name.title() + ' would like to visit ' + response.title() + '.')"
   ]
  },
  {
   "cell_type": "code",
   "execution_count": null,
   "metadata": {},
   "outputs": [],
   "source": []
  }
 ],
 "metadata": {
  "kernelspec": {
   "display_name": "Python 3",
   "language": "python",
   "name": "python3"
  },
  "language_info": {
   "codemirror_mode": {
    "name": "ipython",
    "version": 3
   },
   "file_extension": ".py",
   "mimetype": "text/x-python",
   "name": "python",
   "nbconvert_exporter": "python",
   "pygments_lexer": "ipython3",
   "version": "3.6.2"
  }
 },
 "nbformat": 4,
 "nbformat_minor": 2
}
