{
 "cells": [
  {
   "cell_type": "markdown",
   "metadata": {},
   "source": [
    "# Chapter 5\n",
    "## If Statements"
   ]
  },
  {
   "cell_type": "markdown",
   "metadata": {},
   "source": [
    "### A simple example"
   ]
  },
  {
   "cell_type": "code",
   "execution_count": 1,
   "metadata": {},
   "outputs": [
    {
     "name": "stdout",
     "output_type": "stream",
     "text": [
      "Audi\n",
      "BMW\n",
      "Subaru\n",
      "Toyota\n"
     ]
    }
   ],
   "source": [
    "cars = ['audi', 'bmw', 'subaru', 'toyota']\n",
    "\n",
    "for car in cars:\n",
    "    if car == 'bmw':\n",
    "        print(car.upper())\n",
    "    else:\n",
    "        print(car.title())"
   ]
  },
  {
   "cell_type": "markdown",
   "metadata": {},
   "source": [
    "### Conditional tests"
   ]
  },
  {
   "cell_type": "markdown",
   "metadata": {},
   "source": [
    "#### Checking for equality"
   ]
  },
  {
   "cell_type": "code",
   "execution_count": 2,
   "metadata": {},
   "outputs": [
    {
     "data": {
      "text/plain": [
       "True"
      ]
     },
     "execution_count": 2,
     "metadata": {},
     "output_type": "execute_result"
    }
   ],
   "source": [
    "car = 'bmw'\n",
    "car == 'bmw'"
   ]
  },
  {
   "cell_type": "code",
   "execution_count": 3,
   "metadata": {},
   "outputs": [
    {
     "data": {
      "text/plain": [
       "False"
      ]
     },
     "execution_count": 3,
     "metadata": {},
     "output_type": "execute_result"
    }
   ],
   "source": [
    "car = 'audi'\n",
    "car == 'bmw'"
   ]
  },
  {
   "cell_type": "markdown",
   "metadata": {},
   "source": [
    "#### Ignoring case when checking for equality"
   ]
  },
  {
   "cell_type": "code",
   "execution_count": 4,
   "metadata": {},
   "outputs": [
    {
     "data": {
      "text/plain": [
       "False"
      ]
     },
     "execution_count": 4,
     "metadata": {},
     "output_type": "execute_result"
    }
   ],
   "source": [
    "car = 'Audi'\n",
    "car == 'audi'"
   ]
  },
  {
   "cell_type": "code",
   "execution_count": 5,
   "metadata": {},
   "outputs": [
    {
     "data": {
      "text/plain": [
       "True"
      ]
     },
     "execution_count": 5,
     "metadata": {},
     "output_type": "execute_result"
    }
   ],
   "source": [
    "car = 'Audi'\n",
    "car.lower() == 'audi'"
   ]
  },
  {
   "cell_type": "code",
   "execution_count": 7,
   "metadata": {},
   "outputs": [
    {
     "data": {
      "text/plain": [
       "'Audi'"
      ]
     },
     "execution_count": 7,
     "metadata": {},
     "output_type": "execute_result"
    }
   ],
   "source": [
    "car # The value of the variable is unaffected by `lower()`."
   ]
  },
  {
   "cell_type": "markdown",
   "metadata": {},
   "source": [
    "#### Checking for inequality"
   ]
  },
  {
   "cell_type": "code",
   "execution_count": 8,
   "metadata": {},
   "outputs": [
    {
     "name": "stdout",
     "output_type": "stream",
     "text": [
      "Hold the anchoviews!\n"
     ]
    }
   ],
   "source": [
    "requested_topping = 'mushrooms'\n",
    "\n",
    "if requested_topping != 'anchovies':\n",
    "    print('Hold the anchoviews!')"
   ]
  },
  {
   "cell_type": "markdown",
   "metadata": {},
   "source": [
    "#### Numerical comparisons"
   ]
  },
  {
   "cell_type": "code",
   "execution_count": 9,
   "metadata": {},
   "outputs": [
    {
     "data": {
      "text/plain": [
       "True"
      ]
     },
     "execution_count": 9,
     "metadata": {},
     "output_type": "execute_result"
    }
   ],
   "source": [
    "age = 18\n",
    "age == 18"
   ]
  },
  {
   "cell_type": "code",
   "execution_count": 10,
   "metadata": {},
   "outputs": [
    {
     "name": "stdout",
     "output_type": "stream",
     "text": [
      "That is not the correct answer. Please try again!\n"
     ]
    }
   ],
   "source": [
    "answer = 17\n",
    "\n",
    "if answer != 42:\n",
    "    print('That is not the correct answer. Please try again!')"
   ]
  },
  {
   "cell_type": "code",
   "execution_count": 11,
   "metadata": {},
   "outputs": [
    {
     "data": {
      "text/plain": [
       "True"
      ]
     },
     "execution_count": 11,
     "metadata": {},
     "output_type": "execute_result"
    }
   ],
   "source": [
    "age = 19\n",
    "age < 21"
   ]
  },
  {
   "cell_type": "code",
   "execution_count": 12,
   "metadata": {},
   "outputs": [
    {
     "data": {
      "text/plain": [
       "True"
      ]
     },
     "execution_count": 12,
     "metadata": {},
     "output_type": "execute_result"
    }
   ],
   "source": [
    "age <= 21"
   ]
  },
  {
   "cell_type": "code",
   "execution_count": 13,
   "metadata": {},
   "outputs": [
    {
     "data": {
      "text/plain": [
       "False"
      ]
     },
     "execution_count": 13,
     "metadata": {},
     "output_type": "execute_result"
    }
   ],
   "source": [
    "age > 21"
   ]
  },
  {
   "cell_type": "code",
   "execution_count": 14,
   "metadata": {},
   "outputs": [
    {
     "data": {
      "text/plain": [
       "False"
      ]
     },
     "execution_count": 14,
     "metadata": {},
     "output_type": "execute_result"
    }
   ],
   "source": [
    "age >= 21"
   ]
  },
  {
   "cell_type": "markdown",
   "metadata": {},
   "source": [
    "#### Checking multiple conditions"
   ]
  },
  {
   "cell_type": "code",
   "execution_count": 15,
   "metadata": {},
   "outputs": [
    {
     "data": {
      "text/plain": [
       "False"
      ]
     },
     "execution_count": 15,
     "metadata": {},
     "output_type": "execute_result"
    }
   ],
   "source": [
    "age_0 = 22\n",
    "age_1 = 18\n",
    "age_0 >= 21 and age_1 >= 21"
   ]
  },
  {
   "cell_type": "code",
   "execution_count": 16,
   "metadata": {},
   "outputs": [
    {
     "data": {
      "text/plain": [
       "True"
      ]
     },
     "execution_count": 16,
     "metadata": {},
     "output_type": "execute_result"
    }
   ],
   "source": [
    "age_1 = 22\n",
    "age_0 >= 21 and age_1 >= 21"
   ]
  },
  {
   "cell_type": "code",
   "execution_count": 17,
   "metadata": {},
   "outputs": [
    {
     "data": {
      "text/plain": [
       "True"
      ]
     },
     "execution_count": 17,
     "metadata": {},
     "output_type": "execute_result"
    }
   ],
   "source": [
    "# optional parenthesis for clarity\n",
    "(age_0 >= 21) and (age_1 >= 21)"
   ]
  },
  {
   "cell_type": "code",
   "execution_count": 18,
   "metadata": {},
   "outputs": [
    {
     "data": {
      "text/plain": [
       "True"
      ]
     },
     "execution_count": 18,
     "metadata": {},
     "output_type": "execute_result"
    }
   ],
   "source": [
    "age_0 = 22\n",
    "age_1 = 18\n",
    "age_0 >= 21 or age_1 >= 21"
   ]
  },
  {
   "cell_type": "code",
   "execution_count": 19,
   "metadata": {},
   "outputs": [
    {
     "data": {
      "text/plain": [
       "False"
      ]
     },
     "execution_count": 19,
     "metadata": {},
     "output_type": "execute_result"
    }
   ],
   "source": [
    "age_0 = 18\n",
    "age_0 >= 21 or age_1 >= 21"
   ]
  },
  {
   "cell_type": "markdown",
   "metadata": {},
   "source": [
    "#### Checking whether a value is in a list"
   ]
  },
  {
   "cell_type": "code",
   "execution_count": 20,
   "metadata": {},
   "outputs": [
    {
     "data": {
      "text/plain": [
       "True"
      ]
     },
     "execution_count": 20,
     "metadata": {},
     "output_type": "execute_result"
    }
   ],
   "source": [
    "requested_toppings = ['mushrooms', 'onions', 'pineapple']\n",
    "'mushrooms' in requested_toppings"
   ]
  },
  {
   "cell_type": "code",
   "execution_count": 21,
   "metadata": {},
   "outputs": [
    {
     "data": {
      "text/plain": [
       "False"
      ]
     },
     "execution_count": 21,
     "metadata": {},
     "output_type": "execute_result"
    }
   ],
   "source": [
    "'pepperoni' in requested_toppings"
   ]
  },
  {
   "cell_type": "markdown",
   "metadata": {},
   "source": [
    "#### Checking whether a value is not in a list"
   ]
  },
  {
   "cell_type": "code",
   "execution_count": 23,
   "metadata": {},
   "outputs": [
    {
     "name": "stdout",
     "output_type": "stream",
     "text": [
      "Marie, you can post a response if you wish.\n"
     ]
    }
   ],
   "source": [
    "banned_users = ['andrew', 'carolina', 'david']\n",
    "user = 'marie'\n",
    "\n",
    "if user not in banned_users:\n",
    "    print(user.title() + ', you can post a response if you wish.')"
   ]
  },
  {
   "cell_type": "markdown",
   "metadata": {},
   "source": [
    "#### Try it yourself"
   ]
  },
  {
   "cell_type": "code",
   "execution_count": 25,
   "metadata": {},
   "outputs": [
    {
     "name": "stdout",
     "output_type": "stream",
     "text": [
      "Is car == 'subaru'? I predict True.\n",
      "True\n",
      "\n",
      "Is car == 'audi'? I predict False.\n",
      "False\n"
     ]
    }
   ],
   "source": [
    "# 5-1. Conditional tests: Write a series of conditional tests.\n",
    "# Print a statement describing each test and your prediction for\n",
    "# the results of each test.\n",
    "\n",
    "car = 'subaru'\n",
    "print(\"Is car == 'subaru'? I predict True.\")\n",
    "print(car == 'subaru')\n",
    "\n",
    "print(\"\\nIs car == 'audi'? I predict False.\")\n",
    "print(car == 'audi')"
   ]
  },
  {
   "cell_type": "code",
   "execution_count": 29,
   "metadata": {},
   "outputs": [
    {
     "name": "stdout",
     "output_type": "stream",
     "text": [
      "True\n",
      "True\n",
      "True\n",
      "False\n",
      "False\n",
      "True\n",
      "False\n",
      "True\n",
      "False\n",
      "False\n"
     ]
    }
   ],
   "source": [
    "# Create at least 10 tests. Have at least 5 tests evaluate to `True` and\n",
    "# another 5 tests evaluate to `False`.\n",
    "\n",
    "degrees = 90.0\n",
    "print(degrees == 90.0)\n",
    "print(degrees <= 90)\n",
    "print(degrees >= 90)\n",
    "print(degrees < 90)\n",
    "print(degrees > 90)\n",
    "print(degrees <= 90 and degrees >= 90)\n",
    "print(degrees < 90 or degrees > 90)\n",
    "print(degrees < 60 or degrees > 60)\n",
    "print(degrees <= 89.9 or degrees >= 90.1)\n",
    "print(degrees == 90 and degrees == 100)"
   ]
  },
  {
   "cell_type": "code",
   "execution_count": 32,
   "metadata": {},
   "outputs": [
    {
     "name": "stdout",
     "output_type": "stream",
     "text": [
      "False\n",
      "True\n",
      "True\n",
      "See above block for numeric comparison examples.\n",
      "True\n",
      "False\n",
      "True\n",
      "False\n"
     ]
    }
   ],
   "source": [
    "# 5-2. More conditional tests: You don't have to limit the number of\n",
    "# tests you create to 10. If you want to try more comparisons, write\n",
    "# more tests and add them to conditional_tests.py. Have at least one\n",
    "# `True` and one `False` result for each of the following:\n",
    "\n",
    "# Tests for equality and inequality with strings\n",
    "\n",
    "print('hi' == 'Hi')\n",
    "print('hi' == 'hi')\n",
    "\n",
    "# Tests using the `lower()` function\n",
    "\n",
    "print('hi' == 'Hi'.lower())\n",
    "\n",
    "# Numerical tests involving equality and inequality, greater than and\n",
    "# less than, greateer than or equal to, and less than or equal to\n",
    "\n",
    "print('See above block for numeric comparison examples.')\n",
    "\n",
    "# Tests using the `and` keyword and the `or` keyword\n",
    "\n",
    "print('hi' == 'Hi' or 'hi' == 'Hi'.lower())\n",
    "print('hi' == 'Hi' and 'hi' == 'Hi'.lower())\n",
    "\n",
    "# Test whether an item is in a list\n",
    "\n",
    "print('hi' in ['hi', 'bye'])\n",
    "\n",
    "# Test whether an item is not in a list\n",
    "\n",
    "print('hi' not in ['hi', 'bye'])"
   ]
  },
  {
   "cell_type": "markdown",
   "metadata": {},
   "source": [
    "### `if` statements"
   ]
  },
  {
   "cell_type": "markdown",
   "metadata": {},
   "source": [
    "#### Simple if statements"
   ]
  },
  {
   "cell_type": "code",
   "execution_count": 33,
   "metadata": {},
   "outputs": [
    {
     "name": "stdout",
     "output_type": "stream",
     "text": [
      "You are old enough to vote!\n"
     ]
    }
   ],
   "source": [
    "age = 19\n",
    "if age >= 18:\n",
    "    print('You are old enough to vote!')"
   ]
  },
  {
   "cell_type": "code",
   "execution_count": 34,
   "metadata": {},
   "outputs": [
    {
     "name": "stdout",
     "output_type": "stream",
     "text": [
      "You are old enough to vote!\n",
      "Have you registered to vote yet?\n"
     ]
    }
   ],
   "source": [
    "age = 19\n",
    "if age >= 18:\n",
    "    # multiline block in if statement\n",
    "    print('You are old enough to vote!')\n",
    "    print('Have you registered to vote yet?')"
   ]
  },
  {
   "cell_type": "markdown",
   "metadata": {},
   "source": [
    "#### `if-else` statements"
   ]
  },
  {
   "cell_type": "code",
   "execution_count": 35,
   "metadata": {},
   "outputs": [
    {
     "name": "stdout",
     "output_type": "stream",
     "text": [
      "Sorry, you are too young to vote.\n",
      "Please register to vote as soon as you turn 18!\n"
     ]
    }
   ],
   "source": [
    "age = 17\n",
    "if age >= 18:\n",
    "    # multiline block in if statement\n",
    "    print('You are old enough to vote!')\n",
    "    print('Have you registered to vote yet?')\n",
    "else:\n",
    "    print('Sorry, you are too young to vote.')\n",
    "    print('Please register to vote as soon as you turn 18!')"
   ]
  },
  {
   "cell_type": "markdown",
   "metadata": {},
   "source": [
    "#### The `if-elif-else` chain"
   ]
  },
  {
   "cell_type": "code",
   "execution_count": 36,
   "metadata": {},
   "outputs": [
    {
     "name": "stdout",
     "output_type": "stream",
     "text": [
      "Your admission cost is $5.\n"
     ]
    }
   ],
   "source": [
    "age = 12\n",
    "\n",
    "if age < 4:\n",
    "    print('Your admission cost is $0.')\n",
    "elif age < 18:\n",
    "    print('Your admission cost is $5.')\n",
    "else:\n",
    "    print('Your admission cost is $10.')"
   ]
  },
  {
   "cell_type": "code",
   "execution_count": 37,
   "metadata": {},
   "outputs": [
    {
     "name": "stdout",
     "output_type": "stream",
     "text": [
      "Your admission cost is $5.\n"
     ]
    }
   ],
   "source": [
    "# Cleanup\n",
    "\n",
    "age = 12\n",
    "\n",
    "if age < 4:\n",
    "    price = 0\n",
    "elif age < 18:\n",
    "    price = 5\n",
    "else:\n",
    "    price = 10\n",
    "\n",
    "print('Your admission cost is $' + str(price) + '.')"
   ]
  },
  {
   "cell_type": "markdown",
   "metadata": {},
   "source": [
    "#### Using multiple `elif` blocks"
   ]
  },
  {
   "cell_type": "code",
   "execution_count": 38,
   "metadata": {},
   "outputs": [
    {
     "name": "stdout",
     "output_type": "stream",
     "text": [
      "Your admission cost is $5.\n"
     ]
    }
   ],
   "source": [
    "# Cleanup\n",
    "\n",
    "age = 12\n",
    "\n",
    "if age < 4:\n",
    "    price = 0\n",
    "elif age < 18:\n",
    "    price = 5\n",
    "elif age < 65:\n",
    "    price = 10\n",
    "else:\n",
    "    price = 5\n",
    "\n",
    "print('Your admission cost is $' + str(price) + '.')"
   ]
  },
  {
   "cell_type": "markdown",
   "metadata": {},
   "source": [
    "#### Omitting the `else` block"
   ]
  },
  {
   "cell_type": "code",
   "execution_count": 39,
   "metadata": {},
   "outputs": [
    {
     "name": "stdout",
     "output_type": "stream",
     "text": [
      "Your admission cost is $5.\n"
     ]
    }
   ],
   "source": [
    "# Cleanup\n",
    "\n",
    "age = 12\n",
    "\n",
    "if age < 4:\n",
    "    price = 0\n",
    "elif age < 18:\n",
    "    price = 5\n",
    "elif age < 65:\n",
    "    price = 10\n",
    "elif age >= 65: # Sanity check!\n",
    "    price = 5\n",
    "\n",
    "print('Your admission cost is $' + str(price) + '.')"
   ]
  },
  {
   "cell_type": "markdown",
   "metadata": {},
   "source": [
    "#### Testing multiple conditions"
   ]
  },
  {
   "cell_type": "code",
   "execution_count": 40,
   "metadata": {},
   "outputs": [
    {
     "name": "stdout",
     "output_type": "stream",
     "text": [
      "Adding mushrooms.\n",
      "Adding extra cheese.\n",
      "\n",
      "Finished making your pizza!\n"
     ]
    }
   ],
   "source": [
    "requested_toppings = ['mushrooms', 'extra cheese']\n",
    "\n",
    "if 'mushrooms' in requested_toppings:\n",
    "    print('Adding mushrooms.')\n",
    "if 'pepperoni' in requested_toppings:\n",
    "    print('Adding pepperoni.')\n",
    "if 'extra cheese' in requested_toppings:\n",
    "    print('Adding extra cheese.')\n",
    "\n",
    "print('\\nFinished making your pizza!')"
   ]
  },
  {
   "cell_type": "code",
   "execution_count": 41,
   "metadata": {},
   "outputs": [
    {
     "name": "stdout",
     "output_type": "stream",
     "text": [
      "Adding mushrooms.\n",
      "\n",
      "Finished making your pizza!\n"
     ]
    }
   ],
   "source": [
    "# if-elif block will not work, because the other cases will be skipped!\n",
    "requested_toppings = ['mushrooms', 'extra cheese']\n",
    "\n",
    "if 'mushrooms' in requested_toppings:\n",
    "    print('Adding mushrooms.')\n",
    "elif 'pepperoni' in requested_toppings:\n",
    "    print('Adding pepperoni.')\n",
    "elif 'extra cheese' in requested_toppings:\n",
    "    print('Adding extra cheese.')\n",
    "\n",
    "print('\\nFinished making your pizza!')"
   ]
  },
  {
   "cell_type": "markdown",
   "metadata": {},
   "source": [
    "#### Try it yourself"
   ]
  },
  {
   "cell_type": "code",
   "execution_count": 44,
   "metadata": {},
   "outputs": [
    {
     "name": "stdout",
     "output_type": "stream",
     "text": [
      "You just earned 5 points!\n",
      "You just earned 10 points!\n",
      "You just earned 10 points!\n",
      "You just earned 15 points!\n",
      "You just earned 10 points!\n",
      "You just earned 15 points!\n",
      "You are an adult.\n",
      "You really like bananas!\n",
      "You really like mangos!\n"
     ]
    }
   ],
   "source": [
    "# 5-3. Alien colors #1: Imagine an alien was just shot down in a game.\n",
    "# Create a variable called `alien_color` and assign it a value of\n",
    "# `'green'`, `'yellow'`, or `'red'`.\n",
    "\n",
    "alien_color = 'green'\n",
    "\n",
    "# Write an `if` statement to test whether the alien's color is green.\n",
    "# If it is print a message that the player just earned 5 points.\n",
    "\n",
    "if alien_color == 'green':\n",
    "    print('You just earned 5 points!')\n",
    "\n",
    "# Write one version of this program that passes the `if` test and another that fails.\n",
    "# (The version that fails will have no output.)\n",
    "\n",
    "alien_color = 'red'\n",
    "\n",
    "if alien_color == 'green':\n",
    "    print('You just earned 5 points!')\n",
    "    \n",
    "# 5-4. Alien colors #2: Choose a color for an alien as you did in 5-3,\n",
    "# and write an `if-else` chain.\n",
    "\n",
    "# If the alien's color is green, print a statement that the player just earned\n",
    "# 5 points for shooting the alien.\n",
    "# If the alien's color isn't green, print a statement that the player just earned\n",
    "# 10 points.\n",
    "\n",
    "if alien_color == 'green':\n",
    "    print('You just earned 5 points!')\n",
    "else:\n",
    "    print('You just earned 10 points!')\n",
    "\n",
    "# Write one version of this program that runs the `if` block and another that\n",
    "# runs the `else` block.\n",
    "\n",
    "alien_color = 'red'\n",
    "\n",
    "if alien_color == 'green':\n",
    "    print('You just earned 5 points!')\n",
    "else:\n",
    "    print('You just earned 10 points!')\n",
    "\n",
    "# 5-5. Alien colors #3: Turn your `if-else` chain from 5-4 into an `if-elif-else` chain.\n",
    "\n",
    "# If the alien's color is green, print a statement that the player just earned\n",
    "# 5 points for shooting the alien.\n",
    "# If the alien's color is yellow, print a statement that the player just earned\n",
    "# 10 points.\n",
    "# If the alien's color is red, print a statement that the player just earned\n",
    "# 15 points.\n",
    "# Write three versions of this program, making sure each message is printed for the\n",
    "# appropriate color alien.\n",
    "\n",
    "if alien_color == 'green':\n",
    "    points = 5\n",
    "elif alien_color == 'yellow':\n",
    "    points = 10\n",
    "elif alien_color == 'red':\n",
    "    points = 15\n",
    "\n",
    "print('You just earned ' + str(points) + ' points!')\n",
    "\n",
    "alien_color = 'yellow'\n",
    "\n",
    "if alien_color == 'green':\n",
    "    points = 5\n",
    "elif alien_color == 'yellow':\n",
    "    points = 10\n",
    "elif alien_color == 'red':\n",
    "    points = 15\n",
    "\n",
    "print('You just earned ' + str(points) + ' points!')\n",
    "\n",
    "alien_color = 'red'\n",
    "\n",
    "if alien_color == 'green':\n",
    "    points = 5\n",
    "elif alien_color == 'yellow':\n",
    "    points = 10\n",
    "elif alien_color == 'red':\n",
    "    points = 15\n",
    "\n",
    "print('You just earned ' + str(points) + ' points!')\n",
    "\n",
    "# 5-6. Stages of life: Write an `if-elif-else` chain that determines a person's\n",
    "# stage of life. Set a value for the variable age, and then:\n",
    "\n",
    "# If the person is less than 2 years old, print a message that the person is\n",
    "# a baby.\n",
    "# If the person is at least 2 years old but less than 4, print a message that the person is\n",
    "# a toddler.\n",
    "# If the person is at least 4 years old but less than 13, print a message that the person is\n",
    "# a kid.\n",
    "# If the person is at least 13 years old but less than 20, print a message that the person is\n",
    "# a teenager.\n",
    "# If the person is at least 20 years old but less than 65, print a message that the person is\n",
    "# an adult.\n",
    "# If the person is age 65 or older, print a message that the person is an elder.\n",
    "\n",
    "age = 20\n",
    "\n",
    "if age < 2:\n",
    "    age_label = 'a baby'\n",
    "elif age < 4:\n",
    "    age_label = 'a toddler'\n",
    "elif age < 13:\n",
    "    age_label = 'a kid'\n",
    "elif age < 20:\n",
    "    age_label = 'a teenager'\n",
    "elif age < 65:\n",
    "    age_label = 'an adult'\n",
    "elif age >= 65:\n",
    "    age_label = 'an elder'\n",
    "\n",
    "print('You are ' + age_label + '.')\n",
    "\n",
    "# 5-7. Favorite fruit: Make a list of your favorite fruits, and then write a series of\n",
    "# independent `if` statements that check for certain fruits in your list.\n",
    "\n",
    "# Make a list of your three favorite fruits and call it `favorite_fruits`\n",
    "\n",
    "favorite_fruits = ['mangos', 'bananas', 'raspberries']\n",
    "\n",
    "# Write five `if` statements. Each should check whether a certain kind of fruit is in your\n",
    "# list. If the fruit is in your list, the `if` block should print a statement, such as\n",
    "# 'You really like bananas!'\n",
    "\n",
    "fruits_to_test = ['peaches', 'plums', 'bananas', 'mangos']\n",
    "for fruit_to_test in fruits_to_test:\n",
    "    if fruit_to_test in favorite_fruits:\n",
    "        print('You really like ' + fruit_to_test + '!')"
   ]
  },
  {
   "cell_type": "markdown",
   "metadata": {},
   "source": [
    "### Using `if` statements with lists"
   ]
  },
  {
   "cell_type": "markdown",
   "metadata": {},
   "source": [
    "#### Checking for special items"
   ]
  },
  {
   "cell_type": "code",
   "execution_count": null,
   "metadata": {},
   "outputs": [],
   "source": []
  }
 ],
 "metadata": {
  "kernelspec": {
   "display_name": "Python 3",
   "language": "python",
   "name": "python3"
  },
  "language_info": {
   "codemirror_mode": {
    "name": "ipython",
    "version": 3
   },
   "file_extension": ".py",
   "mimetype": "text/x-python",
   "name": "python",
   "nbconvert_exporter": "python",
   "pygments_lexer": "ipython3",
   "version": "3.6.2"
  }
 },
 "nbformat": 4,
 "nbformat_minor": 2
}
